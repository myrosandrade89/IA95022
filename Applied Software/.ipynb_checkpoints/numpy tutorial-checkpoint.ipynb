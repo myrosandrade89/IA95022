{
 "cells": [
  {
   "cell_type": "markdown",
   "id": "dbee29e6-b006-4400-b755-41a08ecd370f",
   "metadata": {},
   "source": [
    "# Numpy\n",
    "Core library for scientif computing in Python. It provides a high-performance multimensional array object."
   ]
  },
  {
   "cell_type": "code",
   "execution_count": 2,
   "id": "ca896fde-f409-4b86-a0cb-56db0694ea65",
   "metadata": {},
   "outputs": [],
   "source": [
    "import numpy as np"
   ]
  },
  {
   "cell_type": "markdown",
   "id": "8d9eb4a9-91b2-4b08-8264-39486e67c4f6",
   "metadata": {},
   "source": [
    "# Arrays\n",
    "A numpy array is a grid of values (all of the same type). The number of dimensions is the rank of the array; the shape of an array is a tuple of integers giving the size of the array along each dimension."
   ]
  },
  {
   "cell_type": "code",
   "execution_count": 3,
   "id": "2cd5dfaf-24e8-40d2-9bb8-8550e9db2cee",
   "metadata": {},
   "outputs": [
    {
     "name": "stdout",
     "output_type": "stream",
     "text": [
      "<class 'numpy.ndarray'> (3,) 1 2 3\n",
      "[5 2 3]\n"
     ]
    }
   ],
   "source": [
    "a = np.array([1, 2, 3])  # Creating a rank 1 array with a size of 3 integers\n",
    "print(type(a), a.shape, a[0], a[1], a[2])\n",
    "a[0] = 5                 # Change an element of the array\n",
    "print(a)     "
   ]
  },
  {
   "cell_type": "code",
   "execution_count": 4,
   "id": "1050c7fd-436c-45a7-b346-edf867a136e5",
   "metadata": {},
   "outputs": [
    {
     "name": "stdout",
     "output_type": "stream",
     "text": [
      "[[1 2 3]\n",
      " [4 5 6]]\n"
     ]
    }
   ],
   "source": [
    "b = np.array([[1,2,3],[4,5,6]])   # Create a rank 2 array with a size of  integers\n",
    "print(b)"
   ]
  },
  {
   "cell_type": "code",
   "execution_count": 4,
   "id": "8d9c80d1-3169-41ed-9ffb-0f4940e244e1",
   "metadata": {},
   "outputs": [
    {
     "name": "stdout",
     "output_type": "stream",
     "text": [
      "(2, 3)\n",
      "1 2 4\n"
     ]
    }
   ],
   "source": [
    "print(b.shape)\n",
    "print(b[0, 0], b[0, 1], b[1, 0])"
   ]
  },
  {
   "cell_type": "code",
   "execution_count": 5,
   "id": "73d524fc-5c82-43b1-a873-b93c50a1d139",
   "metadata": {},
   "outputs": [
    {
     "name": "stdout",
     "output_type": "stream",
     "text": [
      "[[0. 0.]\n",
      " [0. 0.]]\n"
     ]
    }
   ],
   "source": [
    "a = np.zeros((2,2))  # Create an array of all zeros \n",
    "print(a)"
   ]
  },
  {
   "cell_type": "code",
   "execution_count": 6,
   "id": "42b89db0-776e-4104-b8fc-5d3c8f5377e6",
   "metadata": {},
   "outputs": [
    {
     "name": "stdout",
     "output_type": "stream",
     "text": [
      "[[1. 1.]]\n"
     ]
    }
   ],
   "source": [
    "b = np.ones((1,2))   # Create an array of all ones\n",
    "print(b)"
   ]
  },
  {
   "cell_type": "code",
   "execution_count": 27,
   "id": "7ed9d4de-aace-493c-a614-aa39eb98c5f6",
   "metadata": {},
   "outputs": [
    {
     "name": "stdout",
     "output_type": "stream",
     "text": [
      "[[7 7]\n",
      " [7 7]]\n"
     ]
    }
   ],
   "source": [
    "c = np.full((2,2), 7) # Create a constant array\n",
    "print(c)"
   ]
  },
  {
   "cell_type": "code",
   "execution_count": 6,
   "id": "1759d103-967c-473f-968c-a9633d89fc2d",
   "metadata": {},
   "outputs": [
    {
     "name": "stdout",
     "output_type": "stream",
     "text": [
      "[[1. 0.]\n",
      " [0. 1.]]\n"
     ]
    }
   ],
   "source": [
    "d = np.eye(2)        # Create a 2x2 identity matrix\n",
    "print(d)"
   ]
  },
  {
   "cell_type": "code",
   "execution_count": 7,
   "id": "549def21-3b35-4c40-99c6-66b65549c875",
   "metadata": {},
   "outputs": [
    {
     "name": "stdout",
     "output_type": "stream",
     "text": [
      "[[0.9400796  0.93763451]\n",
      " [0.36890907 0.53019757]]\n"
     ]
    }
   ],
   "source": [
    "e = np.random.random((2,2)) # Create an array filled with random values\n",
    "print(e)"
   ]
  },
  {
   "cell_type": "markdown",
   "id": "69995d24-0e11-4b5a-a9ba-f9735cf649cd",
   "metadata": {},
   "source": [
    "# Practice Arrays\n",
    "create a numpy array of shape (3,5) that goes from 1 to 15"
   ]
  },
  {
   "cell_type": "code",
   "execution_count": 10,
   "id": "99aab21e-b267-4fe5-a7ca-078cd6baf2f3",
   "metadata": {},
   "outputs": [
    {
     "name": "stdout",
     "output_type": "stream",
     "text": [
      "(3, 5)\n",
      "[[ 1  2  3  4  5]\n",
      " [ 6  7  8  9 10]\n",
      " [11 12 13 14 15]]\n"
     ]
    }
   ],
   "source": [
    "test = np.reshape(np.r_[1:16], (3,5))\n",
    "print(test.shape)\n",
    "print(test)"
   ]
  },
  {
   "cell_type": "markdown",
   "id": "96965765-9e1e-4807-9d2a-118e92812831",
   "metadata": {},
   "source": [
    "now create an 10 number array filled with random numbers and a 2,4 matrix filled with zeros, print both their shape and contents."
   ]
  },
  {
   "cell_type": "code",
   "execution_count": 14,
   "id": "8d5fd099-da56-4aec-9af6-16a8c6dd0fa6",
   "metadata": {},
   "outputs": [
    {
     "name": "stdout",
     "output_type": "stream",
     "text": [
      "(10,) [0.25115589 0.06467054 0.30779792 0.14524144 0.87616363 0.32607557\n",
      " 0.88716787 0.09907633 0.94727487 0.22467925]\n",
      "(2, 4) [[0. 0. 0. 0.]\n",
      " [0. 0. 0. 0.]]\n"
     ]
    }
   ],
   "source": [
    "test_random = np.random.random(10)\n",
    "test_zeros = np.zeros((2,4))\n",
    "print(test_random.shape, test_random)\n",
    "print(test_zeros.shape, test_zeros)"
   ]
  },
  {
   "cell_type": "markdown",
   "id": "aa96eef4-f486-4b82-ba3f-eb9e4764251d",
   "metadata": {},
   "source": [
    "# Array indexing Basic\n",
    "Slicing: Similar to Python lists, numpy arrays can be sliced. Since arrays may be multidimensional, you must specify a slice for each dimension of the array:"
   ]
  },
  {
   "cell_type": "code",
   "execution_count": 22,
   "id": "2215d26c-6a18-4bed-ae05-11df6ccf78db",
   "metadata": {},
   "outputs": [
    {
     "name": "stdout",
     "output_type": "stream",
     "text": [
      "[[ 1  2  3  4]\n",
      " [ 5  6  7  8]\n",
      " [ 9 10 11 12]]\n"
     ]
    }
   ],
   "source": [
    "# Create the following rank 2 array with shape (3, 4)\n",
    "# [[ 1  2  3  4]\n",
    "#  [ 5  6  7  8]\n",
    "#  [ 9 10 11 12]]\n",
    "a = np.reshape(np.r_[1:13], (3,4))\n",
    "print(a)"
   ]
  },
  {
   "cell_type": "code",
   "execution_count": 34,
   "id": "ad1e17cf-b248-44b0-b814-8144f8e16e63",
   "metadata": {},
   "outputs": [
    {
     "name": "stdout",
     "output_type": "stream",
     "text": [
      "[[2 3]\n",
      " [6 7]]\n"
     ]
    }
   ],
   "source": [
    "\n",
    "# Use slicing to pull out the subarray consisting of the first 2 rows\n",
    "# and columns 1 and 2; b is the following array of shape (2, 2):\n",
    "# [[2 3]\n",
    "#  [6 7]]\n",
    "b = a[:2, 1:3]\n",
    "print(b)"
   ]
  },
  {
   "cell_type": "markdown",
   "id": "0f93ae89-7682-43d3-982d-d083d2aca879",
   "metadata": {},
   "source": [
    "A slice of an array is a view into the same data, so modifying it will modify the original array."
   ]
  },
  {
   "cell_type": "code",
   "execution_count": 35,
   "id": "1948e56a-d160-40af-95fc-31300620d9ea",
   "metadata": {},
   "outputs": [
    {
     "name": "stdout",
     "output_type": "stream",
     "text": [
      "[[ 1  2  3  4]\n",
      " [ 5  6  7  8]\n",
      " [ 9 10 11 12]]\n",
      "[[2 3]\n",
      " [6 7]]\n",
      "2\n",
      "77\n",
      "[[ 1 77  3  4]\n",
      " [ 5  6  7  8]\n",
      " [ 9 10 11 12]]\n",
      "[[77  3]\n",
      " [ 6  7]]\n"
     ]
    }
   ],
   "source": [
    "print(a)\n",
    "print(b)\n",
    "\n",
    "print(a[0, 1])\n",
    "b[0, 0] = 77    # b[0, 0] is the same piece of data as a[0, 1]\n",
    "print(a[0, 1]) \n",
    "\n",
    "print(a)\n",
    "print(b) "
   ]
  },
  {
   "cell_type": "markdown",
   "id": "5dd88da0-320b-4ef1-af11-226bb52d285a",
   "metadata": {},
   "source": [
    "You can also mix integer indexing with slice indexing. However, doing so will yield an array of lower rank than the original array:"
   ]
  },
  {
   "cell_type": "code",
   "execution_count": 39,
   "id": "9c95a22b-ff71-4ecb-9cf4-f089f2a351f6",
   "metadata": {},
   "outputs": [
    {
     "name": "stdout",
     "output_type": "stream",
     "text": [
      "[[[ 1  2]\n",
      "  [ 3  4]]\n",
      "\n",
      " [[ 5  6]\n",
      "  [ 7  8]]\n",
      "\n",
      " [[ 9 10]\n",
      "  [11 12]]]\n"
     ]
    }
   ],
   "source": [
    "# Create the following rank 2 array with shape (3, 4)\n",
    "a = np.reshape(np.r_[1:13], (3,2,2))\n",
    "print(a)"
   ]
  },
  {
   "cell_type": "markdown",
   "id": "778ba1e2-ddbb-4bc1-9473-ea1758c7a18b",
   "metadata": {},
   "source": [
    "Two ways of accessing the data in the middle row of the array.\n",
    "Mixing integer indexing with slices yields an array of lower rank,\n",
    "while using only slices yields an array of the same rank as the\n",
    "original array:"
   ]
  },
  {
   "cell_type": "code",
   "execution_count": 47,
   "id": "c918e90e-e880-4378-add6-29c40c23fb32",
   "metadata": {},
   "outputs": [
    {
     "name": "stdout",
     "output_type": "stream",
     "text": [
      "[[[1 2]\n",
      "  [3 4]]\n",
      "\n",
      " [[5 6]\n",
      "  [7 8]]]\n",
      "[[1]\n",
      " [5]]\n"
     ]
    }
   ],
   "source": [
    "print(a[0:2])\n",
    "print(a[0:2, 0:1, 0])"
   ]
  },
  {
   "cell_type": "code",
   "execution_count": 49,
   "id": "070ee173-dff8-4ddc-9931-54f43fc06816",
   "metadata": {},
   "outputs": [
    {
     "name": "stdout",
     "output_type": "stream",
     "text": [
      "[[ 1  2  3  4]\n",
      " [ 5  6  7  8]\n",
      " [ 9 10 11 12]]\n",
      "[5 6 7 8] (4,)\n",
      "[[5 6 7 8]] (1, 4)\n",
      "[[[5 6 7 8]]] (1, 1, 4)\n"
     ]
    }
   ],
   "source": [
    "a = np.reshape(np.r_[1:13], (3,4))\n",
    "print(a)\n",
    "row_r1 = a[1, :]    # Rank 1 view of the second row of a  \n",
    "row_r2 = a[1:2, :]  # Rank 2 view of the second row of a\n",
    "row_r3 = a[[[1]], :]  # Rank 3 view of the second row of a\n",
    "print(row_r1, row_r1.shape)\n",
    "print(row_r2, row_r2.shape)\n",
    "print(row_r3, row_r3.shape)"
   ]
  },
  {
   "cell_type": "code",
   "execution_count": 50,
   "id": "d8e00e2e-38e2-49c9-b638-e1c43dabe8eb",
   "metadata": {},
   "outputs": [
    {
     "name": "stdout",
     "output_type": "stream",
     "text": [
      "[ 2  6 10] (3,)\n",
      "\n",
      "[[ 2]\n",
      " [ 6]\n",
      " [10]] (3, 1)\n"
     ]
    }
   ],
   "source": [
    "# We can make the same distinction when accessing columns of an array:\n",
    "col_r1 = a[:, 1]\n",
    "col_r2 = a[:, 1:2]\n",
    "print(col_r1, col_r1.shape)\n",
    "print()\n",
    "print(col_r2, col_r2.shape)"
   ]
  },
  {
   "cell_type": "markdown",
   "id": "7cc41b66-1f46-4c40-a57f-1d29f11c5475",
   "metadata": {},
   "source": [
    "# Practice Array Indexing Basic\n",
    "from the matrix a get the las 3 numbers of row 2 using slicing \"10, 11, 12\" and store it on test. Then get the first column and store it on test col."
   ]
  },
  {
   "cell_type": "code",
   "execution_count": 56,
   "id": "0eff0ec0-3595-4d80-9bd2-f67c410a65ad",
   "metadata": {},
   "outputs": [
    {
     "name": "stdout",
     "output_type": "stream",
     "text": [
      "[[10 11 12]]\n",
      "(1, 3)\n"
     ]
    }
   ],
   "source": [
    "test = a[2:, 1:]\n",
    "print(test)\n",
    "print(test.shape)"
   ]
  },
  {
   "cell_type": "code",
   "execution_count": 77,
   "id": "de93ad0f-6d06-4f64-9875-702ce3293c44",
   "metadata": {},
   "outputs": [
    {
     "data": {
      "text/plain": [
       "array([[1, 3, 5],\n",
       "       [2, 4, 6]])"
      ]
     },
     "execution_count": 77,
     "metadata": {},
     "output_type": "execute_result"
    }
   ],
   "source": [
    "test2 = np.transpose(a)\n",
    "test2"
   ]
  },
  {
   "cell_type": "code",
   "execution_count": 73,
   "id": "863397b0-e41a-4773-a4a3-c4c0f0725fff",
   "metadata": {},
   "outputs": [
    {
     "data": {
      "text/plain": [
       "array([[10]])"
      ]
     },
     "execution_count": 73,
     "metadata": {},
     "output_type": "execute_result"
    }
   ],
   "source": [
    "test_col = test[:, 0:1]\n",
    "test_col"
   ]
  },
  {
   "cell_type": "markdown",
   "id": "696e2a70-6c98-45dd-8620-d67a97439f84",
   "metadata": {},
   "source": [
    "# Array Indexing Advanced\n",
    "Integer array indexing: When you index into numpy arrays using slicing, the resulting array view will always be a subarray of the original array. In contrast, integer array indexing allows you to construct arbitrary arrays using the data from another array. Here is an example:"
   ]
  },
  {
   "cell_type": "code",
   "execution_count": 74,
   "id": "7b1bfcc4-74b4-42d9-9d43-226d273a0367",
   "metadata": {},
   "outputs": [
    {
     "name": "stdout",
     "output_type": "stream",
     "text": [
      "[[1 2]\n",
      " [3 4]\n",
      " [5 6]]\n",
      "(3, 2)\n",
      "[1 4 5]\n",
      "(3,)\n",
      "[1 4 5]\n",
      "(3,)\n"
     ]
    }
   ],
   "source": [
    "a = np.array([[1,2], [3, 4], [5, 6]])\n",
    "print(a)\n",
    "print(a.shape)\n",
    "\n",
    "# An example of integer array indexing.\n",
    "# The returned array will have shape (3,) and \n",
    "print(a[[0, 1, 2], [0, 1, 0]]) # [1, 4, 5]\n",
    "print(a[[0, 1, 2], [0, 1, 0]].shape) # (3, )\n",
    "\n",
    "# The above example of integer array indexing is equivalent to this:\n",
    "print(np.array([a[0, 0], a[1, 1], a[2, 0]]))\n",
    "print(np.array([a[0, 0], a[1, 1], a[2, 0]]).shape)"
   ]
  },
  {
   "cell_type": "code",
   "execution_count": 78,
   "id": "cc715e95-0974-48fb-9396-a0ce0ac26932",
   "metadata": {},
   "outputs": [
    {
     "name": "stdout",
     "output_type": "stream",
     "text": [
      "[2 2]\n",
      "[2 2]\n"
     ]
    }
   ],
   "source": [
    "# When using integer array indexing, you can reuse the same\n",
    "# element from the source array:\n",
    "print(a[[0, 0], [1, 1]]) # [2, 2]\n",
    "\n",
    "# Equivalent to the previous integer array indexing example\n",
    "print(np.array([a[0, 1], a[0, 1]]))"
   ]
  },
  {
   "cell_type": "markdown",
   "id": "a59ecf3d-df24-4fd7-8bb9-888786713c15",
   "metadata": {},
   "source": [
    "One useful trick with integer array indexing is selecting or mutating one element from each row of a matrix:"
   ]
  },
  {
   "cell_type": "code",
   "execution_count": 79,
   "id": "7674bbcf-474e-46c3-a1ab-b963c8e75ef2",
   "metadata": {},
   "outputs": [
    {
     "name": "stdout",
     "output_type": "stream",
     "text": [
      "[[ 1  2  3]\n",
      " [ 4  5  6]\n",
      " [ 7  8  9]\n",
      " [10 11 12]]\n"
     ]
    }
   ],
   "source": [
    "# Create a new array from which we will select elements\n",
    "a = np.array([[1,2,3], [4,5,6], [7,8,9], [10, 11, 12]])\n",
    "print(a)"
   ]
  },
  {
   "cell_type": "raw",
   "id": "adb46587-b621-4103-afe0-6e4a8c27cdcb",
   "metadata": {},
   "source": [
    "to do this you can use the np.arange function.\n",
    "\n",
    "np.arange(4) creates an np array [0 1 2 3], so when substituted the following line will look like this:\n",
    "\n",
    " a( [[0, 1, 2, 3], [0, 2, 0, 1]] )"
   ]
  },
  {
   "cell_type": "code",
   "execution_count": 81,
   "id": "fcd82ebe-96d3-4106-a242-f62eabd9178e",
   "metadata": {},
   "outputs": [
    {
     "name": "stdout",
     "output_type": "stream",
     "text": [
      "[ 1  6  7 11]\n"
     ]
    }
   ],
   "source": [
    "# Create an array of indexes\n",
    "b = np.array([0, 2, 0, 1])\n",
    "\n",
    "# Select one element from each row of a using the indices in b\n",
    "\n",
    "# a[[0, 1, 2 ,3], [0, 2, 0, 1]] => [1 6 7 11]\n",
    "print(a[np.arange(4), b])  # Prints \"[ 1  6  7 11]\""
   ]
  },
  {
   "cell_type": "code",
   "execution_count": 82,
   "id": "e62a7019-43bf-4d79-afc0-a75aab50ff76",
   "metadata": {},
   "outputs": [
    {
     "name": "stdout",
     "output_type": "stream",
     "text": [
      "[[11  2  3]\n",
      " [ 4  5 16]\n",
      " [17  8  9]\n",
      " [10 21 12]]\n"
     ]
    }
   ],
   "source": [
    "# Mutate one element from each row of a using the indices in b\n",
    "# a[[0, 1, 2, 3], [0, 2, 0, 1]] => [1 6 7 11] => [11, 16, 17, 21]\n",
    "a[np.arange(4), b] += 10\n",
    "print(a)"
   ]
  },
  {
   "cell_type": "markdown",
   "id": "0abb64fd-b8c1-464f-9506-4fe17f7ec0aa",
   "metadata": {},
   "source": [
    "Boolean array indexing: Boolean array indexing lets you pick out arbitrary elements of an array. Frequently this type of indexing is used to select the elements of an array that satisfy some condition. Here is an example:"
   ]
  },
  {
   "cell_type": "code",
   "execution_count": 83,
   "id": "81625a1d-eef0-46d0-ae02-de6d521ada3a",
   "metadata": {},
   "outputs": [
    {
     "name": "stdout",
     "output_type": "stream",
     "text": [
      "[[False False]\n",
      " [ True  True]\n",
      " [ True  True]]\n"
     ]
    }
   ],
   "source": [
    "a = np.array([[1,2], [3, 4], [5, 6]])\n",
    "\n",
    "bool_idx = (a > 2)  # Find the elements of a that are bigger than 2;\n",
    "                    # this returns a numpy array of Booleans of the same\n",
    "                    # shape as a, where each slot of bool_idx tells\n",
    "                    # whether that element of a is > 2.\n",
    "\n",
    "print(bool_idx)"
   ]
  },
  {
   "cell_type": "code",
   "execution_count": 84,
   "id": "45100a1e-30d4-4910-8026-cedc90052ff1",
   "metadata": {},
   "outputs": [
    {
     "name": "stdout",
     "output_type": "stream",
     "text": [
      "[3 4 5 6]\n",
      "[3 4 5 6]\n"
     ]
    }
   ],
   "source": [
    "# We use boolean array indexing to construct a rank 1 array\n",
    "# consisting of the elements of a corresponding to the True values\n",
    "# of bool_idx\n",
    "print(a[bool_idx]) # a[[1, 1, 2, 2], [0, 1, 0, 1]]\n",
    "\n",
    "# We can do all of the above in a single concise statement:\n",
    "print(a[a > 2])"
   ]
  },
  {
   "cell_type": "markdown",
   "id": "6cd4ba8c-eca1-474b-9261-a063dbade038",
   "metadata": {},
   "source": [
    "# Practice Array Indexing Advanced\n",
    "\n",
    "From matrix a create a new array test that stores elements 4, 7 and 12, using ingeter array indexing. The resulting array should be shape\n",
    "\n",
    " (3,) \n",
    "\n",
    "and the array should print\n",
    "\n",
    "  [4, 7, 12]\n",
    "\n",
    "From matrix a mutate elements 1, 5, and 10 by multiplying them by 100 and print them the resulting matrx should be:\n",
    "\n",
    "  a = np.array([[100,2,3,4], [500,6,7,8], [9,1000,11,12]])"
   ]
  },
  {
   "cell_type": "code",
   "execution_count": 97,
   "id": "ba5ceb0f-20c0-4540-9697-88d4e11ee428",
   "metadata": {},
   "outputs": [
    {
     "name": "stdout",
     "output_type": "stream",
     "text": [
      "[ 4  7 12]\n",
      "[[ 100    2    3    4]\n",
      " [ 500    6    7    8]\n",
      " [   9 1000   11   12]]\n"
     ]
    }
   ],
   "source": [
    "# Complete this code as practice\n",
    "\n",
    "a = np.array([[1,2,3,4], [5,6,7,8], [9,10,11,12]])\n",
    "\n",
    "test = a[[0, 1, 2],[3, 2, 3]]\n",
    "print(test)\n",
    "\n",
    "a[((a % 5 == 0) | (a == 1))] *= 100  # [1, 5, 10] * 100\n",
    "\n",
    "print(a)"
   ]
  },
  {
   "cell_type": "markdown",
   "id": "e54c491e-11ba-4be9-9c27-0d917f2f796b",
   "metadata": {
    "tags": []
   },
   "source": [
    "# Datatypes\n",
    "\n",
    "Every numpy array is a grid of elements of the same type. Numpy provides a large set of numeric datatypes that you can use to construct arrays. Numpy tries to guess a datatype when you create an array, but functions that construct arrays usually also include an optional argument to explicitly specify the datatype. Here is an example:"
   ]
  },
  {
   "cell_type": "code",
   "execution_count": null,
   "id": "02b697b8-0556-4426-8d62-51bc9f619c19",
   "metadata": {},
   "outputs": [],
   "source": []
  }
 ],
 "metadata": {
  "kernelspec": {
   "display_name": "Python 3 (ipykernel)",
   "language": "python",
   "name": "python3"
  },
  "language_info": {
   "codemirror_mode": {
    "name": "ipython",
    "version": 3
   },
   "file_extension": ".py",
   "mimetype": "text/x-python",
   "name": "python",
   "nbconvert_exporter": "python",
   "pygments_lexer": "ipython3",
   "version": "3.10.4"
  }
 },
 "nbformat": 4,
 "nbformat_minor": 5
}
