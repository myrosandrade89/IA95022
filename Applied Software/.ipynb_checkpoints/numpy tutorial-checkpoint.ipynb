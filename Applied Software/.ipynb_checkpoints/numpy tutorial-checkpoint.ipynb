{
 "cells": [
  {
   "cell_type": "markdown",
   "id": "dbee29e6-b006-4400-b755-41a08ecd370f",
   "metadata": {},
   "source": [
    "# Numpy\n",
    "Core library for scientif computing in Python. It provides a high-performance multimensional array object."
   ]
  },
  {
   "cell_type": "code",
   "execution_count": 1,
   "id": "ca896fde-f409-4b86-a0cb-56db0694ea65",
   "metadata": {},
   "outputs": [],
   "source": [
    "import numpy as np"
   ]
  },
  {
   "cell_type": "markdown",
   "id": "8d9eb4a9-91b2-4b08-8264-39486e67c4f6",
   "metadata": {},
   "source": [
    "# Arrays\n",
    "A numpy array is a grid of values (all of the same type). The number of dimensions is the rank of the array; the shape of an array is a tuple of integers giving the size of the array along each dimension."
   ]
  },
  {
   "cell_type": "code",
   "execution_count": 2,
   "id": "2cd5dfaf-24e8-40d2-9bb8-8550e9db2cee",
   "metadata": {},
   "outputs": [
    {
     "name": "stdout",
     "output_type": "stream",
     "text": [
      "<class 'numpy.ndarray'> (3,) 1 2 3\n",
      "[5 2 3]\n"
     ]
    }
   ],
   "source": [
    "a = np.array([1, 2, 3])  # Creating a rank 1 array with a size of 3 integers\n",
    "print(type(a), a.shape, a[0], a[1], a[2])\n",
    "a[0] = 5                 # Change an element of the array\n",
    "print(a)     "
   ]
  },
  {
   "cell_type": "code",
   "execution_count": 3,
   "id": "1050c7fd-436c-45a7-b346-edf867a136e5",
   "metadata": {},
   "outputs": [
    {
     "name": "stdout",
     "output_type": "stream",
     "text": [
      "[[1 2 3]\n",
      " [4 5 6]]\n"
     ]
    }
   ],
   "source": [
    "b = np.array([[1,2,3],[4,5,6]])   # Create a rank 2 array with a size of  integers\n",
    "print(b)"
   ]
  },
  {
   "cell_type": "code",
   "execution_count": 4,
   "id": "8d9c80d1-3169-41ed-9ffb-0f4940e244e1",
   "metadata": {},
   "outputs": [
    {
     "name": "stdout",
     "output_type": "stream",
     "text": [
      "(2, 3)\n",
      "1 2 4\n"
     ]
    }
   ],
   "source": [
    "print(b.shape)\n",
    "print(b[0, 0], b[0, 1], b[1, 0])"
   ]
  },
  {
   "cell_type": "code",
   "execution_count": 5,
   "id": "73d524fc-5c82-43b1-a873-b93c50a1d139",
   "metadata": {},
   "outputs": [
    {
     "name": "stdout",
     "output_type": "stream",
     "text": [
      "[[0. 0.]\n",
      " [0. 0.]]\n"
     ]
    }
   ],
   "source": [
    "a = np.zeros((2,2))  # Create an array of all zeros \n",
    "print(a)"
   ]
  },
  {
   "cell_type": "code",
   "execution_count": 6,
   "id": "42b89db0-776e-4104-b8fc-5d3c8f5377e6",
   "metadata": {},
   "outputs": [
    {
     "name": "stdout",
     "output_type": "stream",
     "text": [
      "[[1. 1.]]\n"
     ]
    }
   ],
   "source": [
    "b = np.ones((1,2))   # Create an array of all ones\n",
    "print(b)"
   ]
  },
  {
   "cell_type": "code",
   "execution_count": 7,
   "id": "7ed9d4de-aace-493c-a614-aa39eb98c5f6",
   "metadata": {},
   "outputs": [
    {
     "name": "stdout",
     "output_type": "stream",
     "text": [
      "[[7 7]\n",
      " [7 7]]\n"
     ]
    }
   ],
   "source": [
    "c = np.full((2,2), 7) # Create a constant array\n",
    "print(c)"
   ]
  },
  {
   "cell_type": "code",
   "execution_count": 8,
   "id": "1759d103-967c-473f-968c-a9633d89fc2d",
   "metadata": {},
   "outputs": [
    {
     "name": "stdout",
     "output_type": "stream",
     "text": [
      "[[1. 0.]\n",
      " [0. 1.]]\n"
     ]
    }
   ],
   "source": [
    "d = np.eye(2)        # Create a 2x2 identity matrix\n",
    "print(d)"
   ]
  },
  {
   "cell_type": "code",
   "execution_count": 9,
   "id": "549def21-3b35-4c40-99c6-66b65549c875",
   "metadata": {},
   "outputs": [
    {
     "name": "stdout",
     "output_type": "stream",
     "text": [
      "[[0.47180128 0.16376933]\n",
      " [0.9201098  0.06170471]]\n"
     ]
    }
   ],
   "source": [
    "e = np.random.random((2,2)) # Create an array filled with random values\n",
    "print(e)"
   ]
  },
  {
   "cell_type": "markdown",
   "id": "69995d24-0e11-4b5a-a9ba-f9735cf649cd",
   "metadata": {},
   "source": [
    "# Practice Arrays\n",
    "create a numpy array of shape (3,5) that goes from 1 to 15"
   ]
  },
  {
   "cell_type": "code",
   "execution_count": 10,
   "id": "99aab21e-b267-4fe5-a7ca-078cd6baf2f3",
   "metadata": {},
   "outputs": [
    {
     "name": "stdout",
     "output_type": "stream",
     "text": [
      "(3, 5)\n",
      "[[ 1  2  3  4  5]\n",
      " [ 6  7  8  9 10]\n",
      " [11 12 13 14 15]]\n"
     ]
    }
   ],
   "source": [
    "test = np.reshape(np.r_[1:16], (3,5))\n",
    "print(test.shape)\n",
    "print(test)"
   ]
  },
  {
   "cell_type": "markdown",
   "id": "96965765-9e1e-4807-9d2a-118e92812831",
   "metadata": {},
   "source": [
    "now create an 10 number array filled with random numbers and a 2,4 matrix filled with zeros, print both their shape and contents."
   ]
  },
  {
   "cell_type": "code",
   "execution_count": 11,
   "id": "8d5fd099-da56-4aec-9af6-16a8c6dd0fa6",
   "metadata": {},
   "outputs": [
    {
     "name": "stdout",
     "output_type": "stream",
     "text": [
      "(10,) [0.18746481 0.74379423 0.44614521 0.79597036 0.08664463 0.23295098\n",
      " 0.18220864 0.57896165 0.3505331  0.62452394]\n",
      "(2, 4) [[0. 0. 0. 0.]\n",
      " [0. 0. 0. 0.]]\n"
     ]
    }
   ],
   "source": [
    "test_random = np.random.random(10)\n",
    "test_zeros = np.zeros((2,4))\n",
    "print(test_random.shape, test_random)\n",
    "print(test_zeros.shape, test_zeros)"
   ]
  },
  {
   "cell_type": "markdown",
   "id": "aa96eef4-f486-4b82-ba3f-eb9e4764251d",
   "metadata": {},
   "source": [
    "# Array indexing Basic\n",
    "Slicing: Similar to Python lists, numpy arrays can be sliced. Since arrays may be multidimensional, you must specify a slice for each dimension of the array:"
   ]
  },
  {
   "cell_type": "code",
   "execution_count": 12,
   "id": "2215d26c-6a18-4bed-ae05-11df6ccf78db",
   "metadata": {},
   "outputs": [
    {
     "name": "stdout",
     "output_type": "stream",
     "text": [
      "[[ 1  2  3  4]\n",
      " [ 5  6  7  8]\n",
      " [ 9 10 11 12]]\n"
     ]
    }
   ],
   "source": [
    "# Create the following rank 2 array with shape (3, 4)\n",
    "# [[ 1  2  3  4]\n",
    "#  [ 5  6  7  8]\n",
    "#  [ 9 10 11 12]]\n",
    "a = np.reshape(np.r_[1:13], (3,4))\n",
    "print(a)"
   ]
  },
  {
   "cell_type": "code",
   "execution_count": 13,
   "id": "ad1e17cf-b248-44b0-b814-8144f8e16e63",
   "metadata": {},
   "outputs": [
    {
     "name": "stdout",
     "output_type": "stream",
     "text": [
      "[[2 3]\n",
      " [6 7]]\n"
     ]
    }
   ],
   "source": [
    "\n",
    "# Use slicing to pull out the subarray consisting of the first 2 rows\n",
    "# and columns 1 and 2; b is the following array of shape (2, 2):\n",
    "# [[2 3]\n",
    "#  [6 7]]\n",
    "b = a[:2, 1:3]\n",
    "print(b)"
   ]
  },
  {
   "cell_type": "markdown",
   "id": "0f93ae89-7682-43d3-982d-d083d2aca879",
   "metadata": {},
   "source": [
    "A slice of an array is a view into the same data, so modifying it will modify the original array."
   ]
  },
  {
   "cell_type": "code",
   "execution_count": 14,
   "id": "1948e56a-d160-40af-95fc-31300620d9ea",
   "metadata": {},
   "outputs": [
    {
     "name": "stdout",
     "output_type": "stream",
     "text": [
      "[[ 1  2  3  4]\n",
      " [ 5  6  7  8]\n",
      " [ 9 10 11 12]]\n",
      "[[2 3]\n",
      " [6 7]]\n",
      "2\n",
      "77\n",
      "[[ 1 77  3  4]\n",
      " [ 5  6  7  8]\n",
      " [ 9 10 11 12]]\n",
      "[[77  3]\n",
      " [ 6  7]]\n"
     ]
    }
   ],
   "source": [
    "print(a)\n",
    "print(b)\n",
    "\n",
    "print(a[0, 1])\n",
    "b[0, 0] = 77    # b[0, 0] is the same piece of data as a[0, 1]\n",
    "print(a[0, 1]) \n",
    "\n",
    "print(a)\n",
    "print(b) "
   ]
  },
  {
   "cell_type": "markdown",
   "id": "5dd88da0-320b-4ef1-af11-226bb52d285a",
   "metadata": {},
   "source": [
    "You can also mix integer indexing with slice indexing. However, doing so will yield an array of lower rank than the original array:"
   ]
  },
  {
   "cell_type": "code",
   "execution_count": 15,
   "id": "9c95a22b-ff71-4ecb-9cf4-f089f2a351f6",
   "metadata": {},
   "outputs": [
    {
     "name": "stdout",
     "output_type": "stream",
     "text": [
      "[[[ 1  2]\n",
      "  [ 3  4]]\n",
      "\n",
      " [[ 5  6]\n",
      "  [ 7  8]]\n",
      "\n",
      " [[ 9 10]\n",
      "  [11 12]]]\n"
     ]
    }
   ],
   "source": [
    "# Create the following rank 2 array with shape (3, 4)\n",
    "a = np.reshape(np.r_[1:13], (3,2,2))\n",
    "print(a)"
   ]
  },
  {
   "cell_type": "markdown",
   "id": "778ba1e2-ddbb-4bc1-9473-ea1758c7a18b",
   "metadata": {},
   "source": [
    "Two ways of accessing the data in the middle row of the array.\n",
    "Mixing integer indexing with slices yields an array of lower rank,\n",
    "while using only slices yields an array of the same rank as the\n",
    "original array:"
   ]
  },
  {
   "cell_type": "code",
   "execution_count": 16,
   "id": "c918e90e-e880-4378-add6-29c40c23fb32",
   "metadata": {},
   "outputs": [
    {
     "name": "stdout",
     "output_type": "stream",
     "text": [
      "[[[1 2]\n",
      "  [3 4]]\n",
      "\n",
      " [[5 6]\n",
      "  [7 8]]]\n",
      "[[1]\n",
      " [5]]\n"
     ]
    }
   ],
   "source": [
    "print(a[0:2])\n",
    "print(a[0:2, 0:1, 0])"
   ]
  },
  {
   "cell_type": "code",
   "execution_count": 17,
   "id": "070ee173-dff8-4ddc-9931-54f43fc06816",
   "metadata": {},
   "outputs": [
    {
     "name": "stdout",
     "output_type": "stream",
     "text": [
      "[[ 1  2  3  4]\n",
      " [ 5  6  7  8]\n",
      " [ 9 10 11 12]]\n",
      "[5 6 7 8] (4,)\n",
      "[[5 6 7 8]] (1, 4)\n",
      "[[[5 6 7 8]]] (1, 1, 4)\n"
     ]
    }
   ],
   "source": [
    "a = np.reshape(np.r_[1:13], (3,4))\n",
    "print(a)\n",
    "row_r1 = a[1, :]    # Rank 1 view of the second row of a  \n",
    "row_r2 = a[1:2, :]  # Rank 2 view of the second row of a\n",
    "row_r3 = a[[[1]], :]  # Rank 3 view of the second row of a\n",
    "print(row_r1, row_r1.shape)\n",
    "print(row_r2, row_r2.shape)\n",
    "print(row_r3, row_r3.shape)"
   ]
  },
  {
   "cell_type": "code",
   "execution_count": 18,
   "id": "d8e00e2e-38e2-49c9-b638-e1c43dabe8eb",
   "metadata": {},
   "outputs": [
    {
     "name": "stdout",
     "output_type": "stream",
     "text": [
      "[ 2  6 10] (3,)\n",
      "\n",
      "[[ 2]\n",
      " [ 6]\n",
      " [10]] (3, 1)\n"
     ]
    }
   ],
   "source": [
    "# We can make the same distinction when accessing columns of an array:\n",
    "col_r1 = a[:, 1]\n",
    "col_r2 = a[:, 1:2]\n",
    "print(col_r1, col_r1.shape)\n",
    "print()\n",
    "print(col_r2, col_r2.shape)"
   ]
  },
  {
   "cell_type": "markdown",
   "id": "7cc41b66-1f46-4c40-a57f-1d29f11c5475",
   "metadata": {},
   "source": [
    "# Practice Array Indexing Basic\n",
    "from the matrix a get the las 3 numbers of row 2 using slicing \"10, 11, 12\" and store it on test. Then get the first column and store it on test col."
   ]
  },
  {
   "cell_type": "code",
   "execution_count": 19,
   "id": "0eff0ec0-3595-4d80-9bd2-f67c410a65ad",
   "metadata": {},
   "outputs": [
    {
     "name": "stdout",
     "output_type": "stream",
     "text": [
      "[[10 11 12]]\n",
      "(1, 3)\n"
     ]
    }
   ],
   "source": [
    "test = a[2:, 1:]\n",
    "print(test)\n",
    "print(test.shape)"
   ]
  },
  {
   "cell_type": "code",
   "execution_count": 20,
   "id": "de93ad0f-6d06-4f64-9875-702ce3293c44",
   "metadata": {},
   "outputs": [
    {
     "data": {
      "text/plain": [
       "array([[ 1,  5,  9],\n",
       "       [ 2,  6, 10],\n",
       "       [ 3,  7, 11],\n",
       "       [ 4,  8, 12]])"
      ]
     },
     "execution_count": 20,
     "metadata": {},
     "output_type": "execute_result"
    }
   ],
   "source": [
    "test2 = np.transpose(a)\n",
    "test2"
   ]
  },
  {
   "cell_type": "code",
   "execution_count": 21,
   "id": "863397b0-e41a-4773-a4a3-c4c0f0725fff",
   "metadata": {},
   "outputs": [
    {
     "data": {
      "text/plain": [
       "array([[10]])"
      ]
     },
     "execution_count": 21,
     "metadata": {},
     "output_type": "execute_result"
    }
   ],
   "source": [
    "test_col = test[:, 0:1]\n",
    "test_col"
   ]
  },
  {
   "cell_type": "markdown",
   "id": "696e2a70-6c98-45dd-8620-d67a97439f84",
   "metadata": {},
   "source": [
    "# Array Indexing Advanced\n",
    "Integer array indexing: When you index into numpy arrays using slicing, the resulting array view will always be a subarray of the original array. In contrast, integer array indexing allows you to construct arbitrary arrays using the data from another array. Here is an example:"
   ]
  },
  {
   "cell_type": "code",
   "execution_count": 22,
   "id": "7b1bfcc4-74b4-42d9-9d43-226d273a0367",
   "metadata": {},
   "outputs": [
    {
     "name": "stdout",
     "output_type": "stream",
     "text": [
      "[[1 2]\n",
      " [3 4]\n",
      " [5 6]]\n",
      "(3, 2)\n",
      "[1 4 5]\n",
      "(3,)\n",
      "[1 4 5]\n",
      "(3,)\n"
     ]
    }
   ],
   "source": [
    "a = np.array([[1,2], [3, 4], [5, 6]])\n",
    "print(a)\n",
    "print(a.shape)\n",
    "\n",
    "# An example of integer array indexing.\n",
    "# The returned array will have shape (3,) and \n",
    "print(a[[0, 1, 2], [0, 1, 0]]) # [1, 4, 5]\n",
    "print(a[[0, 1, 2], [0, 1, 0]].shape) # (3, )\n",
    "\n",
    "# The above example of integer array indexing is equivalent to this:\n",
    "print(np.array([a[0, 0], a[1, 1], a[2, 0]]))\n",
    "print(np.array([a[0, 0], a[1, 1], a[2, 0]]).shape)"
   ]
  },
  {
   "cell_type": "code",
   "execution_count": 23,
   "id": "cc715e95-0974-48fb-9396-a0ce0ac26932",
   "metadata": {},
   "outputs": [
    {
     "name": "stdout",
     "output_type": "stream",
     "text": [
      "[2 2]\n",
      "[2 2]\n"
     ]
    }
   ],
   "source": [
    "# When using integer array indexing, you can reuse the same\n",
    "# element from the source array:\n",
    "print(a[[0, 0], [1, 1]]) # [2, 2]\n",
    "\n",
    "# Equivalent to the previous integer array indexing example\n",
    "print(np.array([a[0, 1], a[0, 1]]))"
   ]
  },
  {
   "cell_type": "markdown",
   "id": "a59ecf3d-df24-4fd7-8bb9-888786713c15",
   "metadata": {},
   "source": [
    "One useful trick with integer array indexing is selecting or mutating one element from each row of a matrix:"
   ]
  },
  {
   "cell_type": "code",
   "execution_count": 24,
   "id": "7674bbcf-474e-46c3-a1ab-b963c8e75ef2",
   "metadata": {},
   "outputs": [
    {
     "name": "stdout",
     "output_type": "stream",
     "text": [
      "[[ 1  2  3]\n",
      " [ 4  5  6]\n",
      " [ 7  8  9]\n",
      " [10 11 12]]\n"
     ]
    }
   ],
   "source": [
    "# Create a new array from which we will select elements\n",
    "a = np.array([[1,2,3], [4,5,6], [7,8,9], [10, 11, 12]])\n",
    "print(a)"
   ]
  },
  {
   "cell_type": "raw",
   "id": "adb46587-b621-4103-afe0-6e4a8c27cdcb",
   "metadata": {},
   "source": [
    "to do this you can use the np.arange function.\n",
    "\n",
    "np.arange(4) creates an np array [0 1 2 3], so when substituted the following line will look like this:\n",
    "\n",
    " a( [[0, 1, 2, 3], [0, 2, 0, 1]] )"
   ]
  },
  {
   "cell_type": "code",
   "execution_count": 25,
   "id": "fcd82ebe-96d3-4106-a242-f62eabd9178e",
   "metadata": {},
   "outputs": [
    {
     "name": "stdout",
     "output_type": "stream",
     "text": [
      "[ 1  6  7 11]\n"
     ]
    }
   ],
   "source": [
    "# Create an array of indexes\n",
    "b = np.array([0, 2, 0, 1])\n",
    "\n",
    "# Select one element from each row of a using the indices in b\n",
    "\n",
    "# a[[0, 1, 2 ,3], [0, 2, 0, 1]] => [1 6 7 11]\n",
    "print(a[np.arange(4), b])  # Prints \"[ 1  6  7 11]\""
   ]
  },
  {
   "cell_type": "code",
   "execution_count": 26,
   "id": "e62a7019-43bf-4d79-afc0-a75aab50ff76",
   "metadata": {},
   "outputs": [
    {
     "name": "stdout",
     "output_type": "stream",
     "text": [
      "[[11  2  3]\n",
      " [ 4  5 16]\n",
      " [17  8  9]\n",
      " [10 21 12]]\n"
     ]
    }
   ],
   "source": [
    "# Mutate one element from each row of a using the indices in b\n",
    "# a[[0, 1, 2, 3], [0, 2, 0, 1]] => [1 6 7 11] => [11, 16, 17, 21]\n",
    "a[np.arange(4), b] += 10\n",
    "print(a)"
   ]
  },
  {
   "cell_type": "markdown",
   "id": "0abb64fd-b8c1-464f-9506-4fe17f7ec0aa",
   "metadata": {},
   "source": [
    "Boolean array indexing: Boolean array indexing lets you pick out arbitrary elements of an array. Frequently this type of indexing is used to select the elements of an array that satisfy some condition. Here is an example:"
   ]
  },
  {
   "cell_type": "code",
   "execution_count": 27,
   "id": "81625a1d-eef0-46d0-ae02-de6d521ada3a",
   "metadata": {},
   "outputs": [
    {
     "name": "stdout",
     "output_type": "stream",
     "text": [
      "[[False False]\n",
      " [ True  True]\n",
      " [ True  True]]\n"
     ]
    }
   ],
   "source": [
    "a = np.array([[1,2], [3, 4], [5, 6]])\n",
    "\n",
    "bool_idx = (a > 2)  # Find the elements of a that are bigger than 2;\n",
    "                    # this returns a numpy array of Booleans of the same\n",
    "                    # shape as a, where each slot of bool_idx tells\n",
    "                    # whether that element of a is > 2.\n",
    "\n",
    "print(bool_idx)"
   ]
  },
  {
   "cell_type": "code",
   "execution_count": 28,
   "id": "45100a1e-30d4-4910-8026-cedc90052ff1",
   "metadata": {},
   "outputs": [
    {
     "name": "stdout",
     "output_type": "stream",
     "text": [
      "[3 4 5 6]\n",
      "[3 4 5 6]\n"
     ]
    }
   ],
   "source": [
    "# We use boolean array indexing to construct a rank 1 array\n",
    "# consisting of the elements of a corresponding to the True values\n",
    "# of bool_idx\n",
    "print(a[bool_idx]) # a[[1, 1, 2, 2], [0, 1, 0, 1]]\n",
    "\n",
    "# We can do all of the above in a single concise statement:\n",
    "print(a[a > 2])"
   ]
  },
  {
   "cell_type": "markdown",
   "id": "6cd4ba8c-eca1-474b-9261-a063dbade038",
   "metadata": {},
   "source": [
    "# Practice Array Indexing Advanced\n",
    "\n",
    "From matrix a create a new array test that stores elements 4, 7 and 12, using ingeter array indexing. The resulting array should be shape\n",
    "\n",
    " (3,) \n",
    "\n",
    "and the array should print\n",
    "\n",
    "  [4, 7, 12]\n",
    "\n",
    "From matrix a mutate elements 1, 5, and 10 by multiplying them by 100 and print them the resulting matrx should be:\n",
    "\n",
    "  a = np.array([[100,2,3,4], [500,6,7,8], [9,1000,11,12]])"
   ]
  },
  {
   "cell_type": "code",
   "execution_count": 29,
   "id": "ba5ceb0f-20c0-4540-9697-88d4e11ee428",
   "metadata": {},
   "outputs": [
    {
     "name": "stdout",
     "output_type": "stream",
     "text": [
      "[ 4  7 12]\n",
      "[[ 100    2    3    4]\n",
      " [ 500    6    7    8]\n",
      " [   9 1000   11   12]]\n"
     ]
    }
   ],
   "source": [
    "# Complete this code as practice\n",
    "\n",
    "a = np.array([[1,2,3,4], [5,6,7,8], [9,10,11,12]])\n",
    "\n",
    "test = a[[0, 1, 2],[3, 2, 3]]\n",
    "print(test)\n",
    "\n",
    "a[((a % 5 == 0) | (a == 1))] *= 100  # [1, 5, 10] * 100\n",
    "\n",
    "print(a)"
   ]
  },
  {
   "cell_type": "markdown",
   "id": "e54c491e-11ba-4be9-9c27-0d917f2f796b",
   "metadata": {
    "tags": []
   },
   "source": [
    "# Datatypes\n",
    "\n",
    "Every numpy array is a grid of elements of the same type. Numpy provides a large set of numeric datatypes that you can use to construct arrays. Numpy tries to guess a datatype when you create an array, but functions that construct arrays usually also include an optional argument to explicitly specify the datatype. Here is an example:"
   ]
  },
  {
   "cell_type": "code",
   "execution_count": 36,
   "id": "02b697b8-0556-4426-8d62-51bc9f619c19",
   "metadata": {},
   "outputs": [
    {
     "name": "stdout",
     "output_type": "stream",
     "text": [
      "int32 float64 int64 float32\n"
     ]
    }
   ],
   "source": [
    "x = np.array([1, 2])  # Let numpy choose the datatype\n",
    "y = np.array([1.0, 2.0])  # Let numpy choose the datatype\n",
    "z = np.array([1, 2], dtype=np.int64)  # Force a particular datatype\n",
    "a = np.array([1, 2], dtype=np.float32)  # Force a particular datatype\n",
    "\n",
    "print(x.dtype, y.dtype, z.dtype, a.dtype)"
   ]
  },
  {
   "cell_type": "markdown",
   "id": "aacea382-553c-4841-875c-86ab4cc93bcb",
   "metadata": {},
   "source": [
    "You can read all about numpy datatypes in the [documentation](http://docs.scipy.org/doc/numpy/reference/arrays.dtypes.html)."
   ]
  },
  {
   "cell_type": "markdown",
   "id": "29d464cb-75b1-415d-b94f-be3cefd57a6d",
   "metadata": {},
   "source": [
    "# Array math\n",
    "\n",
    "Basic mathematical functions operate elementwise on arrays, and are available both as operator overloads and as functions in the numpy module:"
   ]
  },
  {
   "cell_type": "code",
   "execution_count": 37,
   "id": "a03d06d1-dd6f-4eea-a717-01683e1d9c79",
   "metadata": {},
   "outputs": [
    {
     "name": "stdout",
     "output_type": "stream",
     "text": [
      "[[ 6.  8.]\n",
      " [10. 12.]]\n",
      "[[ 6.  8.]\n",
      " [10. 12.]]\n"
     ]
    }
   ],
   "source": [
    "x = np.array([[1,2],[3,4]], dtype=np.float64)\n",
    "y = np.array([[5,6],[7,8]], dtype=np.float64)\n",
    "\n",
    "# Elementwise sum; both produce the array\n",
    "print(x + y)\n",
    "print(np.add(x, y))"
   ]
  },
  {
   "cell_type": "code",
   "execution_count": 38,
   "id": "10000df5-0fc9-4306-a3ef-2067b5c472c4",
   "metadata": {},
   "outputs": [
    {
     "name": "stdout",
     "output_type": "stream",
     "text": [
      "[[-4. -4.]\n",
      " [-4. -4.]]\n",
      "[[-4. -4.]\n",
      " [-4. -4.]]\n"
     ]
    }
   ],
   "source": [
    "# Elementwise difference; both produce the array\n",
    "print(x - y)\n",
    "print(np.subtract(x, y))"
   ]
  },
  {
   "cell_type": "code",
   "execution_count": 39,
   "id": "e549e23a-5382-46aa-862e-264b6eb88c94",
   "metadata": {},
   "outputs": [
    {
     "name": "stdout",
     "output_type": "stream",
     "text": [
      "[[ 5. 12.]\n",
      " [21. 32.]]\n",
      "[[ 5. 12.]\n",
      " [21. 32.]]\n"
     ]
    }
   ],
   "source": [
    "# Elementwise product; both produce the array\n",
    "print(x * y)\n",
    "print(np.multiply(x, y))"
   ]
  },
  {
   "cell_type": "code",
   "execution_count": 40,
   "id": "e8243548-1eea-40e7-b162-444badbe7c26",
   "metadata": {},
   "outputs": [
    {
     "name": "stdout",
     "output_type": "stream",
     "text": [
      "[[0.2        0.33333333]\n",
      " [0.42857143 0.5       ]]\n",
      "[[0.2        0.33333333]\n",
      " [0.42857143 0.5       ]]\n"
     ]
    }
   ],
   "source": [
    "# Elementwise division; both produce the array\n",
    "# [[ 0.2         0.33333333]\n",
    "#  [ 0.42857143  0.5       ]]\n",
    "print(x / y)\n",
    "print(np.divide(x, y))"
   ]
  },
  {
   "cell_type": "code",
   "execution_count": 41,
   "id": "dfb8ad97-49fc-4f5b-adcb-a97ada5f5686",
   "metadata": {},
   "outputs": [
    {
     "name": "stdout",
     "output_type": "stream",
     "text": [
      "[[1.         1.41421356]\n",
      " [1.73205081 2.        ]]\n"
     ]
    }
   ],
   "source": [
    "# Elementwise square root; produces the array\n",
    "# [[ 1.          1.41421356]\n",
    "#  [ 1.73205081  2.        ]]\n",
    "print(np.sqrt(x))"
   ]
  },
  {
   "cell_type": "markdown",
   "id": "0412b4e9-9b3b-4500-9d41-b5a4eb2def8f",
   "metadata": {},
   "source": [
    "Note that unlike MATLAB, `*` is elementwise multiplication, not matrix multiplication. We instead use the dot function to compute inner products of vectors, to multiply a vector by a matrix, and to multiply matrices. dot is available both as a function in the numpy module and as an instance method of array objects:"
   ]
  },
  {
   "cell_type": "code",
   "execution_count": 52,
   "id": "e25832fb-6a99-4842-bcca-35e8e9116445",
   "metadata": {},
   "outputs": [
    {
     "name": "stdout",
     "output_type": "stream",
     "text": [
      "219\n",
      "219\n",
      "[[19 22]\n",
      " [43 50]]\n"
     ]
    }
   ],
   "source": [
    "x = np.array([[1,2],[3,4]])\n",
    "y = np.array([[5,6],[7,8]])\n",
    "\n",
    "v = np.array([9,10])\n",
    "w = np.array([11, 12])\n",
    "\n",
    "# Inner product of vectors; both produce 219\n",
    "print(v.dot(w))\n",
    "print(np.dot(v, w))\n",
    "print(np.dot(x, y))"
   ]
  },
  {
   "cell_type": "markdown",
   "id": "609fa600-d16b-4061-a9ec-1ca0cf92da01",
   "metadata": {},
   "source": [
    "You can also use the `@` operator which is equivalent to numpy's `dot` operator."
   ]
  },
  {
   "cell_type": "code",
   "execution_count": 47,
   "id": "4b1c45f1-cf5c-405b-9d32-ab91488e7076",
   "metadata": {},
   "outputs": [
    {
     "name": "stdout",
     "output_type": "stream",
     "text": [
      "219\n"
     ]
    }
   ],
   "source": [
    "print(v @ w)"
   ]
  },
  {
   "cell_type": "code",
   "execution_count": 53,
   "id": "5a4fba82-8422-442f-8d60-3920ce1f0fe4",
   "metadata": {},
   "outputs": [
    {
     "name": "stdout",
     "output_type": "stream",
     "text": [
      "[29 67]\n",
      "[39 58]\n",
      "[29 67]\n"
     ]
    }
   ],
   "source": [
    "# Matrix / vector product; both produce the rank 1 array [29 67]\n",
    "print(x.dot(v))\n",
    "print(np.dot(v, x))\n",
    "print(x @ v)"
   ]
  },
  {
   "cell_type": "code",
   "execution_count": 54,
   "id": "0080968c-92b4-452f-8184-249c9b4dc55c",
   "metadata": {},
   "outputs": [
    {
     "name": "stdout",
     "output_type": "stream",
     "text": [
      "[[19 22]\n",
      " [43 50]]\n",
      "[[19 22]\n",
      " [43 50]]\n",
      "[[19 22]\n",
      " [43 50]]\n"
     ]
    }
   ],
   "source": [
    "# Matrix / matrix product; both produce the rank 2 array\n",
    "# [[19 22]\n",
    "#  [43 50]]\n",
    "print(x.dot(y))\n",
    "print(np.dot(x, y))\n",
    "print(x @ y)"
   ]
  },
  {
   "cell_type": "markdown",
   "id": "9152f4bf-2e77-42a0-882f-ee676813b87e",
   "metadata": {},
   "source": [
    "Numpy provides many useful functions for performing computations on arrays; one of the most useful is `sum`:"
   ]
  },
  {
   "cell_type": "code",
   "execution_count": 59,
   "id": "b206eae8-1a5f-4fdb-abb8-85fb9bf6a9a8",
   "metadata": {},
   "outputs": [
    {
     "name": "stdout",
     "output_type": "stream",
     "text": [
      "[[[1 2]\n",
      "  [3 4]]\n",
      "\n",
      " [[5 6]\n",
      "  [7 8]]]\n",
      "36\n",
      "[[ 6  8]\n",
      " [10 12]]\n",
      "[[ 4  6]\n",
      " [12 14]]\n",
      "[[ 3  7]\n",
      " [11 15]]\n"
     ]
    }
   ],
   "source": [
    "x = np.array([[[1,2],[3,4]], [[5, 6], [7, 8]]])\n",
    "\n",
    "print(x)\n",
    "print(np.sum(x))  # Compute sum of all elements; prints \"36\"\n",
    "print(np.sum(x, axis=0))  # Compute sum of each column\n",
    "print(np.sum(x, axis=1))  # Compute sum of each row\n",
    "print(np.sum(x, axis=2))  # Compute sum of each row"
   ]
  },
  {
   "cell_type": "markdown",
   "id": "1a167f97-8fd8-4cb0-b098-059369b654c1",
   "metadata": {},
   "source": [
    "You can find the full list of mathematical functions provided by numpy in the [documentation](http://docs.scipy.org/doc/numpy/reference/routines.math.html).\n",
    "\n",
    "Apart from computing mathematical functions using arrays, we frequently need to reshape or otherwise manipulate data in arrays. The simplest example of this type of operation is transposing a matrix; to transpose a matrix, simply use the T attribute of an array object:"
   ]
  },
  {
   "cell_type": "code",
   "execution_count": 60,
   "id": "f26142b1-c44f-4640-bcf3-9724ca2ac6e5",
   "metadata": {},
   "outputs": [
    {
     "name": "stdout",
     "output_type": "stream",
     "text": [
      "[[[1 2]\n",
      "  [3 4]]\n",
      "\n",
      " [[5 6]\n",
      "  [7 8]]]\n",
      "transpose\n",
      " [[[1 5]\n",
      "  [3 7]]\n",
      "\n",
      " [[2 6]\n",
      "  [4 8]]]\n"
     ]
    }
   ],
   "source": [
    "print(x)\n",
    "print(\"transpose\\n\", x.T)"
   ]
  },
  {
   "cell_type": "code",
   "execution_count": 61,
   "id": "6935010e-fed7-41e1-95e1-e1222aa22b1d",
   "metadata": {},
   "outputs": [
    {
     "name": "stdout",
     "output_type": "stream",
     "text": [
      "[[1 2 3]]\n",
      "transpose\n",
      " [[1]\n",
      " [2]\n",
      " [3]]\n"
     ]
    }
   ],
   "source": [
    "v = np.array([[1,2,3]])\n",
    "print(v )\n",
    "print(\"transpose\\n\", v.T)"
   ]
  },
  {
   "cell_type": "markdown",
   "id": "e7e50563-220f-482c-bf17-c10951cedc5c",
   "metadata": {},
   "source": [
    "### Practice Array Math\n",
    "For the the following matrix \n",
    "\n",
    "    a = np.array([[1,2,3], [4,5,6], [7,8,9]]) \n",
    "\n",
    "    b = np.array([[11,12,13], [14,15,16], [17,18,19]])\n",
    "\n",
    "Add matrix a and b and store the result in c\n",
    "\n",
    "    [[12, 14, 16],\n",
    "     [18, 20, 22],\n",
    "     [24, 26, 28]]\n",
    "\n",
    "Multiply the first row matrix a by the transpose of the first column of matrix b\n",
    "if you use integer index you should get:\n",
    "\n",
    "    [11 28 51]\n",
    "\n",
    "if you use slices and transpose you should get:\n",
    "\n",
    "    [[11 28 51]]\n",
    "\n",
    "Get the dot product of matrix a and matrix b, it should be:\n",
    "\n",
    "    [[ 90  96 102]\n",
    "    [216 231 246]\n",
    "    [342 366 390]]"
   ]
  },
  {
   "cell_type": "code",
   "execution_count": 67,
   "id": "95b9a1bb-110d-4f00-9e26-e805f604fd2c",
   "metadata": {},
   "outputs": [
    {
     "name": "stdout",
     "output_type": "stream",
     "text": [
      "[[12 14 16]\n",
      " [18 20 22]\n",
      " [24 26 28]]\n",
      "[[11 28 51]]\n",
      "[[ 90  96 102]\n",
      " [216 231 246]\n",
      " [342 366 390]]\n"
     ]
    }
   ],
   "source": [
    "# Complete this code as practice\n",
    "\n",
    "a = np.array([[1,2,3], [4,5,6], [7,8,9]])\n",
    "b = np.array([[11,12,13], [14,15,16], [17,18,19]])\n",
    "\n",
    "print(np.add(a, b)) # a + b\n",
    "\n",
    "print(np.multiply(a[0:1, :], b[:, 0:1].T)) # a[] * b[]\n",
    "\n",
    "print(a @ b)"
   ]
  },
  {
   "cell_type": "markdown",
   "id": "247edcf7-e183-4e62-8a79-f24b0436940f",
   "metadata": {},
   "source": [
    "# Broadcasting"
   ]
  },
  {
   "cell_type": "markdown",
   "id": "1a168438-73ce-4b45-8d1b-7f39854b929c",
   "metadata": {},
   "source": [
    "Broadcasting is a powerful mechanism that allows numpy to work with arrays of different shapes when performing arithmetic operations. Frequently we have a smaller array and a larger array, and we want to use the smaller array multiple times to perform some operation on the larger array.\n",
    "\n",
    "For example, suppose that we want to add a constant vector to each row of a matrix. We could do it like this:"
   ]
  },
  {
   "cell_type": "code",
   "execution_count": 69,
   "id": "ff631654-f6f0-4abb-9a61-d42b51ec356e",
   "metadata": {},
   "outputs": [
    {
     "name": "stdout",
     "output_type": "stream",
     "text": [
      "[[ 2  2  4]\n",
      " [ 5  5  7]\n",
      " [ 8  8 10]\n",
      " [11 11 13]]\n"
     ]
    }
   ],
   "source": [
    "# We will add the vector v to each row of the matrix x,\n",
    "# storing the result in the matrix y\n",
    "x = np.array([[1,2,3], [4,5,6], [7,8,9], [10, 11, 12]])\n",
    "v = np.array([1, 0, 1])\n",
    "y = np.empty_like(x)   # Create an empty matrix with the same shape as x\n",
    "\n",
    "# Add the vector v to each row of the matrix x with an explicit loop\n",
    "for i in range(4):\n",
    "    y[i, :] = x[i, :] + v\n",
    "\n",
    "print(y)"
   ]
  },
  {
   "cell_type": "markdown",
   "id": "1d7cccc9-a39c-490e-802d-c7ad0a119c0c",
   "metadata": {},
   "source": [
    "This works; however when the matrix `x` is very large, computing an explicit loop in Python could be slow. Note that adding the vector v to each row of the matrix `x` is equivalent to forming a matrix `vv` by stacking multiple copies of `v` vertically, then performing elementwise summation of `x` and `vv`. We could implement this approach like this:"
   ]
  },
  {
   "cell_type": "code",
   "execution_count": 77,
   "id": "604e93eb-54ee-4992-80d6-2431275c540b",
   "metadata": {},
   "outputs": [
    {
     "name": "stdout",
     "output_type": "stream",
     "text": [
      "[[1 0 1]\n",
      " [1 0 1]\n",
      " [1 0 1]\n",
      " [1 0 1]]\n"
     ]
    }
   ],
   "source": [
    "vv = np.tile(v, (4, 1))  # Stack 4 copies of v on top of each other\n",
    "print(vv)                # Prints \"[[1 0 1]\n",
    "                         #          [1 0 1]\n",
    "                         #          [1 0 1]\n",
    "                         #          [1 0 1]]\""
   ]
  },
  {
   "cell_type": "code",
   "execution_count": 78,
   "id": "ea3a80ee-72fa-4059-8698-b3d567b2b3fd",
   "metadata": {},
   "outputs": [
    {
     "name": "stdout",
     "output_type": "stream",
     "text": [
      "[[ 1  2  3]\n",
      " [ 4  5  6]\n",
      " [ 7  8  9]\n",
      " [10 11 12]]\n",
      "[[1 0 1]\n",
      " [1 0 1]\n",
      " [1 0 1]\n",
      " [1 0 1]]\n",
      "[[ 2  2  4]\n",
      " [ 5  5  7]\n",
      " [ 8  8 10]\n",
      " [11 11 13]]\n"
     ]
    }
   ],
   "source": [
    "y = x + vv  # Add x and vv elementwise\n",
    "print(x)\n",
    "print(vv)\n",
    "print(y)"
   ]
  },
  {
   "cell_type": "markdown",
   "id": "027d509f-a026-47f0-bd74-780a80e46a85",
   "metadata": {},
   "source": [
    "Numpy broadcasting allows us to perform this computation without actually creating multiple copies of v. Consider this version, using broadcasting:"
   ]
  },
  {
   "cell_type": "code",
   "execution_count": 86,
   "id": "85b9a2bf-7598-4932-be4f-97924ea3f310",
   "metadata": {},
   "outputs": [
    {
     "name": "stdout",
     "output_type": "stream",
     "text": [
      "[[ 2  2  4]\n",
      " [ 5  5  7]\n",
      " [ 8  8 10]\n",
      " [11 11 13]]\n",
      "[[1 2 3]\n",
      " [2 4 6]\n",
      " [3 6 9]]\n"
     ]
    }
   ],
   "source": [
    "# We will add the vector v to each row of the matrix x,\n",
    "# storing the result in the matrix y\n",
    "x = np.array([[1,2,3], [4,5,6], [7,8,9], [10, 11, 12]])\n",
    "v = np.array([1, 0, 1])\n",
    "y = x + v  # Add v to each row of x using broadcasting\n",
    "print(y)\n",
    "\n",
    "a = np.array([[1, 2 ,3]])\n",
    "b = np.array([[1], [2], [3]])\n",
    "print(a * b)"
   ]
  },
  {
   "cell_type": "markdown",
   "id": "4f1ed8ed-fbb3-4fac-8fda-000a0782eb87",
   "metadata": {},
   "source": [
    "The line `y = x + v` works even though `x` has shape `(4, 3)` and `v` has shape `(3,)` due to broadcasting; this line works as if v actually had shape `(4, 3)`, where each row was a copy of `v`, and the sum was performed elementwise.\n",
    "\n",
    "Broadcasting two arrays together follows these rules:\n",
    "\n",
    "1. If the arrays do not have the same rank, prepend the shape of the lower rank array with 1s until both shapes have the same length.\n",
    "2. The two arrays are said to be compatible in a dimension if they have the same size in the dimension, or if one of the arrays has size 1 in that dimension.\n",
    "3. The arrays can be broadcast together if they are compatible in all dimensions.\n",
    "4. After broadcasting, each array behaves as if it had shape equal to the elementwise maximum of shapes of the two input arrays.\n",
    "5. In any dimension where one array had size 1 and the other array had size greater than 1, the first array behaves as if it were copied along that dimension\n",
    "\n",
    "If this explanation does not make sense, try reading the explanation from the [documentation](http://docs.scipy.org/doc/numpy/user/basics.broadcasting.html) or this [explanation](http://wiki.scipy.org/EricsBroadcastingDoc).\n",
    "\n",
    "Functions that support broadcasting are known as universal functions. You can find the list of all universal functions in the [documentation](http://docs.scipy.org/doc/numpy/reference/ufuncs.html#available-ufuncs).\n",
    "\n",
    "Here are some applications of broadcasting:"
   ]
  },
  {
   "cell_type": "code",
   "execution_count": 88,
   "id": "8757ca39-2e63-4345-bbc1-fc3dad10f433",
   "metadata": {},
   "outputs": [
    {
     "name": "stdout",
     "output_type": "stream",
     "text": [
      "[[ 4  5]\n",
      " [ 8 10]\n",
      " [12 15]]\n"
     ]
    }
   ],
   "source": [
    "# Compute outer product of vectors\n",
    "v = np.array([1,2,3])  # v has shape (3,)\n",
    "w = np.array([4,5])    # w has shape (2,)\n",
    "# To compute an outer product, we first reshape v to be a column\n",
    "# vector of shape (3, 1); we can then broadcast it against w to yield\n",
    "# an output of shape (3, 2), which is the outer product of v and w:\n",
    "\n",
    "print(np.reshape(v, (3, 1)) * w)"
   ]
  },
  {
   "cell_type": "code",
   "execution_count": 89,
   "id": "dd6e90eb-77bd-4408-9dbd-c5a0f1a4d436",
   "metadata": {},
   "outputs": [
    {
     "name": "stdout",
     "output_type": "stream",
     "text": [
      "[[2 4 6]\n",
      " [5 7 9]]\n"
     ]
    }
   ],
   "source": [
    "# Add a vector to each row of a matrix\n",
    "x = np.array([[1,2,3], [4,5,6]])\n",
    "# x has shape (2, 3) and v has shape (3,) so they broadcast to (2, 3),\n",
    "# giving the following matrix:\n",
    "\n",
    "print(x + v)"
   ]
  },
  {
   "cell_type": "code",
   "execution_count": 92,
   "id": "a9e77e68-bc82-4683-9311-6e5fc8b5003a",
   "metadata": {},
   "outputs": [
    {
     "name": "stdout",
     "output_type": "stream",
     "text": [
      "[[1 2 3]\n",
      " [4 5 6]]\n",
      "[[1 4]\n",
      " [2 5]\n",
      " [3 6]]\n",
      "[4 5]\n",
      "[[ 5  6  7]\n",
      " [ 9 10 11]]\n",
      "[[ 5  6  7]\n",
      " [ 9 10 11]]\n"
     ]
    }
   ],
   "source": [
    "# Add a vector to each column of a matrix\n",
    "# x has shape (2, 3) and w has shape (2,).\n",
    "# If we transpose x then it has shape (3, 2) and can be broadcast\n",
    "# against w to yield a result of shape (3, 2); transposing this result\n",
    "# yields the final result of shape (2, 3) which is the matrix x with\n",
    "# the vector w added to each column. Gives the following matrix:\n",
    "print(x)\n",
    "print(x.T)\n",
    "print(w)\n",
    "print((x.T + w).T)\n",
    "print(x + w.reshape((2, 1)))"
   ]
  },
  {
   "cell_type": "code",
   "execution_count": 93,
   "id": "8b91c4bb-6613-4a4e-b64c-72b037e8a1fb",
   "metadata": {},
   "outputs": [
    {
     "name": "stdout",
     "output_type": "stream",
     "text": [
      "[[ 2  4  6]\n",
      " [ 8 10 12]]\n"
     ]
    }
   ],
   "source": [
    "# Multiply a matrix by a constant:\n",
    "# x has shape (2, 3). Numpy treats scalars as arrays of shape ();\n",
    "# these can be broadcast together to shape (2, 3), producing the\n",
    "# following array:\n",
    "print(x * 2)"
   ]
  },
  {
   "cell_type": "markdown",
   "id": "0c27fe96-68af-4ad7-9b84-1a5b9baddf17",
   "metadata": {},
   "source": [
    "Broadcasting typically makes your code more concise and faster, so you should strive to use it where possible."
   ]
  },
  {
   "cell_type": "markdown",
   "id": "08169445-7f73-4e03-b0b1-e257ceafe0c5",
   "metadata": {},
   "source": [
    "This brief overview has touched on many of the important things that you need to know about numpy, but is far from complete. Check out the [numpy reference](http://docs.scipy.org/doc/numpy/reference/) to find out much more about numpy."
   ]
  },
  {
   "cell_type": "code",
   "execution_count": null,
   "id": "56dc65b4-021d-4c14-86a1-0c858a8e55bb",
   "metadata": {},
   "outputs": [],
   "source": []
  }
 ],
 "metadata": {
  "kernelspec": {
   "display_name": "Python 3 (ipykernel)",
   "language": "python",
   "name": "python3"
  },
  "language_info": {
   "codemirror_mode": {
    "name": "ipython",
    "version": 3
   },
   "file_extension": ".py",
   "mimetype": "text/x-python",
   "name": "python",
   "nbconvert_exporter": "python",
   "pygments_lexer": "ipython3",
   "version": "3.10.4"
  }
 },
 "nbformat": 4,
 "nbformat_minor": 5
}
