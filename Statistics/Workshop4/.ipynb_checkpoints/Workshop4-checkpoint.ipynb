{
 "cells": [
  {
   "cell_type": "markdown",
   "id": "6d3d2e82-46a0-4ee5-a937-58310e38c212",
   "metadata": {},
   "source": [
    "# 3.4 CHALLENGE: Run and interpret a market regression model"
   ]
  },
  {
   "cell_type": "markdown",
   "id": "978bf459-bb66-493a-ad40-078a04147583",
   "metadata": {},
   "source": [
    "Download monthly prices for Alfa (ALFAA.MX) and the Mexican market index IPCyC (^MXX) from Yahoo Finance from January 2018 to July 2022."
   ]
  },
  {
   "cell_type": "code",
   "execution_count": 2,
   "id": "db69c4b5-b979-46bb-b3d9-9fd4f84a2768",
   "metadata": {},
   "outputs": [],
   "source": [
    "import pandas_datareader as pdr\n",
    "import pandas as pd\n",
    "import numpy as np\n",
    "import matplotlib\n",
    "import matplotlib.pyplot as plt"
   ]
  },
  {
   "cell_type": "markdown",
   "id": "2004ee32-a093-4ed6-bebb-d4fa3f5e525f",
   "metadata": {},
   "source": [
    "Calculating the cc returns of both stocks and drop NA values"
   ]
  },
  {
   "cell_type": "code",
   "execution_count": 3,
   "id": "0643c87e-1792-42a3-b0de-59a798276a06",
   "metadata": {},
   "outputs": [],
   "source": [
    "# Getting price data and selecting adjusted price columns:\n",
    "sprices = pdr.get_data_yahoo(['ALFAA.MX','^MXX'],start=\"01/01/2018\", end=\"07/31/2022\",interval=\"m\")\n",
    "sprices = sprices['Adj Close']"
   ]
  },
  {
   "cell_type": "code",
   "execution_count": 4,
   "id": "26b7d79c-1029-448c-9a89-913c918dd4a8",
   "metadata": {},
   "outputs": [],
   "source": [
    "# Calculating the cc returns\n",
    "sr = np.log(sprices) - np.log(sprices.shift(1))"
   ]
  },
  {
   "cell_type": "code",
   "execution_count": 5,
   "id": "be8ac9a2-1152-4ff4-b90c-387d2b136e72",
   "metadata": {},
   "outputs": [],
   "source": [
    "# Deleting NAs\n",
    "sr=sr.dropna()\n",
    "sr.columns=['ALFAA','MXX']"
   ]
  },
  {
   "cell_type": "markdown",
   "id": "c6ea1858-57d0-45ad-948a-498d2c0ec1d2",
   "metadata": {},
   "source": [
    "Do a scatter plot including the regression line and interpret the plot"
   ]
  },
  {
   "cell_type": "code",
   "execution_count": 24,
   "id": "13c03ca9-c8dd-4538-baa5-bb6ced341320",
   "metadata": {},
   "outputs": [
    {
     "data": {
      "image/png": "[encoded data removed]",
      "text/plain": [
       "<Figure size 432x288 with 1 Axes>"
      ]
     },
     "metadata": {
      "needs_background": "light"
     },
     "output_type": "display_data"
    }
   ],
   "source": [
    "# Plotting CC returns of MMX and ALFAA\n",
    "plt.scatter(sr['MXX'], sr['ALFAA'])\n",
    "\n",
    "# Adding the regression line (degree 1)\n",
    "b1, b0 = np.polyfit(sr[\"MXX\"], sr[\"ALFAA\"], 1)\n",
    "\n",
    "# y = b + mx\n",
    "y = b0 + b1 * sr[\"MXX\"]\n",
    "\n",
    "# Plotting the regression line\n",
    "plt.plot(sr[\"MXX\"], y, c = \"red\")\n",
    "\n",
    "# Making the x-axis ranges correct (to coincide with the y's)\n",
    "plt.xticks(np.arange(-0.60,0.5,0.2))\n",
    "\n",
    "plt.xlabel(\"Market returns\")\n",
    "plt.ylabel(\"Alfa returns\")\n",
    "\n",
    "plt.show()"
   ]
  },
  {
   "cell_type": "markdown",
   "id": "142de318-5151-40b8-80dd-80aaa7126ee6",
   "metadata": {},
   "source": [
    "AFTER PLOTTING THE REGRESSION LINE, WE CAN OBSERVE THAT THIS MODEL FITS PROPERLY TO THE CC RETURNS OF  MXX AND ALFAA (DISCARDING THE OUTLAYERS), MEANING THAT THE X (MARKET RETURNS) CAN EXPLAIN THE MOVEMENT OF Y (ALFA RETURNS). BY LOOKING AT THE GRAPH, WE COULD CALCULATE THAT THE SLOPE (HOW MANY UNITS CHANGE IN Y PER A UNIT IN X) IS AROUND 2, SO EVERY TIME THE MARKET RETURNS INCREASE, THE ALFA'S INCREASE TIMES 2."
   ]
  },
  {
   "cell_type": "code",
   "execution_count": 28,
   "id": "808884c1-8f91-4742-9bd0-90e7d72e1c0b",
   "metadata": {},
   "outputs": [
    {
     "name": "stderr",
     "output_type": "stream",
     "text": [
      "C:\\Users\\myros\\anaconda3\\envs\\Statistics\\lib\\site-packages\\seaborn\\_decorators.py:36: FutureWarning: Pass the following variables as keyword args: x, y. From version 0.12, the only valid positional argument will be `data`, and passing other arguments without an explicit keyword will result in an error or misinterpretation.\n",
      "  warnings.warn(\n"
     ]
    },
    {
     "data": {
      "image/png": "[encoded data removed]",
      "text/plain": [
       "<Figure size 432x288 with 1 Axes>"
      ]
     },
     "metadata": {
      "needs_background": "light"
     },
     "output_type": "display_data"
    }
   ],
   "source": [
    "# Another way of plotting the regression line would be:\n",
    "import seaborn as sns\n",
    "\n",
    "sns.regplot(sr[\"MXX\"], sr[\"ALFAA\"],)\n",
    "plt.xticks(np.arange(-0.50,0.5,0.1))\n",
    "plt.xlabel(\"Market returns\")\n",
    "plt.ylabel(\"Alfa returns\")\n",
    "\n",
    "plt.show()"
   ]
  },
  {
   "cell_type": "markdown",
   "id": "ca0c026d-057f-43a3-bd49-9df196b4befa",
   "metadata": {},
   "source": [
    "Run the market regression model (the Y=stock return, the X=market return). You can use the function OLS from the statsmodels.api library."
   ]
  },
  {
   "cell_type": "code",
   "execution_count": 33,
   "id": "68d45e52-2cc8-463e-aff1-e63b489ee6df",
   "metadata": {},
   "outputs": [
    {
     "name": "stdout",
     "output_type": "stream",
     "text": [
      "                            OLS Regression Results                            \n",
      "==============================================================================\n",
      "Dep. Variable:                  ALFAA   R-squared:                       0.350\n",
      "Model:                            OLS   Adj. R-squared:                  0.338\n",
      "Method:                 Least Squares   F-statistic:                     28.59\n",
      "Date:                Thu, 25 Aug 2022   Prob (F-statistic):           1.94e-06\n",
      "Time:                        16:01:45   Log-Likelihood:                 43.896\n",
      "No. Observations:                  55   AIC:                            -83.79\n",
      "Df Residuals:                      53   BIC:                            -79.78\n",
      "Df Model:                           1                                         \n",
      "Covariance Type:            nonrobust                                         \n",
      "==============================================================================\n",
      "                 coef    std err          t      P>|t|      [0.025      0.975]\n",
      "------------------------------------------------------------------------------\n",
      "const         -0.0075      0.015     -0.498      0.620      -0.037       0.023\n",
      "MXX            1.5362      0.287      5.347      0.000       0.960       2.113\n",
      "==============================================================================\n",
      "Omnibus:                        9.510   Durbin-Watson:                   2.206\n",
      "Prob(Omnibus):                  0.009   Jarque-Bera (JB):               22.533\n",
      "Skew:                          -0.150   Prob(JB):                     1.28e-05\n",
      "Kurtosis:                       6.121   Cond. No.                         19.2\n",
      "==============================================================================\n",
      "\n",
      "Notes:\n",
      "[1] Standard Errors assume that the covariance matrix of the errors is correctly specified.\n"
     ]
    }
   ],
   "source": [
    "import statsmodels.api as sm\n",
    "X = sm.add_constant(x)\n",
    "\n",
    "mkmodel = sm.OLS( sr['ALFAA'], X).fit()\n",
    " \n",
    "print(mkmodel.summary())"
   ]
  },
  {
   "cell_type": "code",
   "execution_count": 34,
   "id": "c71a492c-d5e3-48b8-90bf-2beec72e21bd",
   "metadata": {},
   "outputs": [
    {
     "name": "stdout",
     "output_type": "stream",
     "text": [
      "                            OLS Regression Results                            \n",
      "==============================================================================\n",
      "Dep. Variable:                  ALFAA   R-squared:                       0.350\n",
      "Model:                            OLS   Adj. R-squared:                  0.338\n",
      "Method:                 Least Squares   F-statistic:                     28.59\n",
      "Date:                Thu, 25 Aug 2022   Prob (F-statistic):           1.94e-06\n",
      "Time:                        16:02:21   Log-Likelihood:                 43.896\n",
      "No. Observations:                  55   AIC:                            -83.79\n",
      "Df Residuals:                      53   BIC:                            -79.78\n",
      "Df Model:                           1                                         \n",
      "Covariance Type:            nonrobust                                         \n",
      "==============================================================================\n",
      "                 coef    std err          t      P>|t|      [0.025      0.975]\n",
      "------------------------------------------------------------------------------\n",
      "Intercept     -0.0075      0.015     -0.498      0.620      -0.037       0.023\n",
      "MXX            1.5362      0.287      5.347      0.000       0.960       2.113\n",
      "==============================================================================\n",
      "Omnibus:                        9.510   Durbin-Watson:                   2.206\n",
      "Prob(Omnibus):                  0.009   Jarque-Bera (JB):               22.533\n",
      "Skew:                          -0.150   Prob(JB):                     1.28e-05\n",
      "Kurtosis:                       6.121   Cond. No.                         19.2\n",
      "==============================================================================\n",
      "\n",
      "Notes:\n",
      "[1] Standard Errors assume that the covariance matrix of the errors is correctly specified.\n"
     ]
    }
   ],
   "source": [
    "import statsmodels.formula.api as smf\n",
    "\n",
    "mkmodel2 = smf.ols('ALFAA ~ MXX',data=sr).fit()\n",
    " \n",
    "print(mkmodel2.summary())"
   ]
  },
  {
   "cell_type": "code",
   "execution_count": 35,
   "id": "429d5882-df51-4c43-b040-3c51a22df3f7",
   "metadata": {},
   "outputs": [
    {
     "data": {
      "text/plain": [
       "array([-0.00745576,  1.53623423])"
      ]
     },
     "execution_count": 35,
     "metadata": {},
     "output_type": "execute_result"
    }
   ],
   "source": [
    "# Using matrix algebra to estimate the beta coefficients:\n",
    "sr['constant'] = 1\n",
    "selcols = ['constant','MXX']\n",
    "x = sr[selcols].values\n",
    "y = sr['ALFAA'].values\n",
    "\n",
    "xtx = np.matmul(x.transpose(),x)\n",
    "xty = np.matmul(x.transpose(),y)\n",
    "invtxt = np.linalg.inv(xtx)\n",
    "\n",
    "betas = np.matmul(invtxt,xty)\n",
    "betas"
   ]
  },
  {
   "cell_type": "markdown",
   "id": "5986f7e2-b394-4d3f-b629-84e2fe5e3c76",
   "metadata": {},
   "source": [
    "Regression equation:\n",
    "\n",
    " E[ALFAret]= -0.00745576 + 1.53623423*MXXret"
   ]
  },
  {
   "cell_type": "markdown",
   "id": "300c05fe-af99-4354-8a4f-ab15a81789c6",
   "metadata": {},
   "source": [
    "Interpret the beta coefficients and their corresponding t and p values, and their 95% confidence intervals"
   ]
  },
  {
   "cell_type": "markdown",
   "id": "78c1613f-b0e0-4566-814a-671e4c336c09",
   "metadata": {},
   "source": [
    "THE BETA 0 IS THE VALUE OF Y WHEN X = 0, IN THIS CASE WHEN THE MARKET RETURNS ARE 0, THE ALFAS RETURNS ARE -0.0074. BETA 1, IS THE SLOPE (DERIVATIVE) => THE UNITS THE ALFAS RETURNS CHANGES PER A UNIT IN THE MARKET RETURNS, WHICH IS ACTUALLY 1.536 (AROUND WHAT WE CALCULATED IN THE ANSWER ABOVE).\n",
    "\n",
    "T-VALUE B1 => SINCE IT IS GREATER THAN 3, MEANS THAT THE DIFFERENCE BETWEEN THE COEFFICIENT OF MXX AND THE H0 (MEAN = 0) IS 5.347 STANDARD DEVIATIONS, WHICH IMPLIES THAT WE CAN DECLINE THE NULL HYPOTHESIS.\n",
    "P-VALUE B1 => SINCE THE T-VALUE IS ACTUALLY GREATER THAN 3, MEANS THAT ALMOST A 100% OF THE TIMES WE CAN ENSURE THAT THE COEFFICIENT OF MXX WILL NOT BE 0, THUS THE P-VALUE IS BASICALLY 0.00%.\n",
    "95% C.I. B1 => THERE IS A 95% OF PROBABILITY THAT THE MXX COEFFICIENT WILL BE BETWEEN 0.960 AND 2.113.\n",
    "\n",
    "T-VALUE B0 => SINCE IT IS NEGATIVE, MEANS THAT THE DIFFERENCE BETWEEN THE INTERCEPT AND THE H0 (MEAN = 0) IS -0.498 STANDARD DEVIATIONS, WHICH IMPLIES THAT WE CANNOT DECLINE THE NULL HYPOTHESIS, IT ACTUALLY MEANS THAT 0 > THAN THE INTERCEPT.\n",
    "P-VALUE B0 => SINCE THE T-VALUE IS ACTUALLY -0.498, MEANS THAT ALMOST THERE IS A REALLY HIGH POSIBILITY THAT THE INCERCEPT WILL BE 0 (NULL HYPOTHESIS), ACTUALLY 62% OF PROBABILITY.\n",
    "95% C.I. B0 => THERE IS A 95% OF PROBABILITY THAT THE INTERCEPT COEFFICIENT WILL BE BETWEEN -0.037 AND 0.023."
   ]
  },
  {
   "cell_type": "code",
   "execution_count": null,
   "id": "b35cafe3-7596-4508-99f1-e682116d0f50",
   "metadata": {},
   "outputs": [],
   "source": []
  }
 ],
 "metadata": {
  "kernelspec": {
   "display_name": "Python 3 (ipykernel)",
   "language": "python",
   "name": "python3"
  },
  "language_info": {
   "codemirror_mode": {
    "name": "ipython",
    "version": 3
   },
   "file_extension": ".py",
   "mimetype": "text/x-python",
   "name": "python",
   "nbconvert_exporter": "python",
   "pygments_lexer": "ipython3",
   "version": "3.10.4"
  }
 },
 "nbformat": 4,
 "nbformat_minor": 5
}
