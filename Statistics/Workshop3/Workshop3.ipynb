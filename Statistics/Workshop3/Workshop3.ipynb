{
 "cells": [
  {
   "cell_type": "markdown",
   "id": "bd040973-0ee7-49ff-b7b3-fbc37c354069",
   "metadata": {},
   "source": [
    "# 2 Hypothesis testing - comparing the mean of 2 groups\n",
    "Run a t-test to compare whether the average monthly return of AAPL is greater than the average monthly returns of MSFT"
   ]
  },
  {
   "cell_type": "code",
   "execution_count": 19,
   "id": "6d7886e6-77a3-4008-b39d-1a562d3f0cbe",
   "metadata": {},
   "outputs": [],
   "source": [
    "import matplotlib.pyplot as plt\n",
    "import pandas_datareader as pdr\n",
    "import numpy as np"
   ]
  },
  {
   "cell_type": "markdown",
   "id": "b51d4186-db60-4614-943b-a49a2ea47c7c",
   "metadata": {},
   "source": [
    "H0 : mean(r_AAPL) > mean(r_MSFT)  ==>  H0: mean(r_AAPL) - mean(r_MSFT) = 0\n",
    "Ha: mean(r_AAPL) < mean(r_MSFT)   ==>  Ha: mean(r_AAPL) - mean(r_MSFT) != 0\n",
    "\n",
    "VARIABLE OF STUDY = DIFFERENCE OF BOTH MEAN RETURNS\n",
    "dif = mean(r_AAPL) - mean(r_MSFT)\n",
    "H0: dif = 0\n",
    "Ha: dif != 0"
   ]
  },
  {
   "cell_type": "markdown",
   "id": "6e95d9ad-30c3-42a5-bebb-ce77f7302f45",
   "metadata": {},
   "source": [
    "## AAPL"
   ]
  },
  {
   "cell_type": "code",
   "execution_count": 15,
   "id": "963015a4-fc1d-4f68-a896-a482c0c8d475",
   "metadata": {},
   "outputs": [
    {
     "data": {
      "text/html": [
       "<div>\n",
       "<style scoped>\n",
       "    .dataframe tbody tr th:only-of-type {\n",
       "        vertical-align: middle;\n",
       "    }\n",
       "\n",
       "    .dataframe tbody tr th {\n",
       "        vertical-align: top;\n",
       "    }\n",
       "\n",
       "    .dataframe thead th {\n",
       "        text-align: right;\n",
       "    }\n",
       "</style>\n",
       "<table border=\"1\" class=\"dataframe\">\n",
       "  <thead>\n",
       "    <tr style=\"text-align: right;\">\n",
       "      <th></th>\n",
       "      <th>High</th>\n",
       "      <th>Low</th>\n",
       "      <th>Open</th>\n",
       "      <th>Close</th>\n",
       "      <th>Volume</th>\n",
       "      <th>Adj Close</th>\n",
       "    </tr>\n",
       "    <tr>\n",
       "      <th>Date</th>\n",
       "      <th></th>\n",
       "      <th></th>\n",
       "      <th></th>\n",
       "      <th></th>\n",
       "      <th></th>\n",
       "      <th></th>\n",
       "    </tr>\n",
       "  </thead>\n",
       "  <tbody>\n",
       "    <tr>\n",
       "      <th>2022-02-01</th>\n",
       "      <td>176.649994</td>\n",
       "      <td>152.000000</td>\n",
       "      <td>174.009995</td>\n",
       "      <td>165.119995</td>\n",
       "      <td>1.627516e+09</td>\n",
       "      <td>164.439545</td>\n",
       "    </tr>\n",
       "    <tr>\n",
       "      <th>2022-03-01</th>\n",
       "      <td>179.610001</td>\n",
       "      <td>150.100006</td>\n",
       "      <td>164.699997</td>\n",
       "      <td>174.610001</td>\n",
       "      <td>2.180800e+09</td>\n",
       "      <td>174.111984</td>\n",
       "    </tr>\n",
       "    <tr>\n",
       "      <th>2022-04-01</th>\n",
       "      <td>178.490005</td>\n",
       "      <td>155.380005</td>\n",
       "      <td>174.029999</td>\n",
       "      <td>157.649994</td>\n",
       "      <td>1.687796e+09</td>\n",
       "      <td>157.200348</td>\n",
       "    </tr>\n",
       "    <tr>\n",
       "      <th>2022-05-01</th>\n",
       "      <td>166.479996</td>\n",
       "      <td>132.610001</td>\n",
       "      <td>156.710007</td>\n",
       "      <td>148.839996</td>\n",
       "      <td>2.401040e+09</td>\n",
       "      <td>148.415482</td>\n",
       "    </tr>\n",
       "    <tr>\n",
       "      <th>2022-06-01</th>\n",
       "      <td>151.740005</td>\n",
       "      <td>129.039993</td>\n",
       "      <td>149.899994</td>\n",
       "      <td>136.720001</td>\n",
       "      <td>1.749100e+09</td>\n",
       "      <td>136.530350</td>\n",
       "    </tr>\n",
       "  </tbody>\n",
       "</table>\n",
       "</div>"
      ],
      "text/plain": [
       "                  High         Low        Open       Close        Volume  \\\n",
       "Date                                                                       \n",
       "2022-02-01  176.649994  152.000000  174.009995  165.119995  1.627516e+09   \n",
       "2022-03-01  179.610001  150.100006  164.699997  174.610001  2.180800e+09   \n",
       "2022-04-01  178.490005  155.380005  174.029999  157.649994  1.687796e+09   \n",
       "2022-05-01  166.479996  132.610001  156.710007  148.839996  2.401040e+09   \n",
       "2022-06-01  151.740005  129.039993  149.899994  136.720001  1.749100e+09   \n",
       "\n",
       "             Adj Close  \n",
       "Date                    \n",
       "2022-02-01  164.439545  \n",
       "2022-03-01  174.111984  \n",
       "2022-04-01  157.200348  \n",
       "2022-05-01  148.415482  \n",
       "2022-06-01  136.530350  "
      ]
     },
     "execution_count": 15,
     "metadata": {},
     "output_type": "execute_result"
    }
   ],
   "source": [
    "\n",
    "# Collecting the real data from returns of AAPL from July 2019 until July 2022 monthly (60 months)\n",
    "AAPL = pdr.get_data_yahoo(\"AAPL\", start = \"2017-07-01\", end = \"2022-05-31\", interval = \"m\")\n",
    "AAPL.tail()"
   ]
  },
  {
   "cell_type": "code",
   "execution_count": 29,
   "id": "3682dc03-9389-40c8-8a6c-2659396d5ea6",
   "metadata": {},
   "outputs": [
    {
     "data": {
      "image/png": "[encoded data removed]",
      "text/plain": [
       "<Figure size 432x288 with 1 Axes>"
      ]
     },
     "metadata": {
      "needs_background": "light"
     },
     "output_type": "display_data"
    }
   ],
   "source": [
    "# Calculating the monthly cc returns\n",
    "AAPL[\"r\"] = (np.log(AAPL[\"Adj Close\"]) - np.log(AAPL[\"Adj Close\"].shift(1)))\n",
    "# Plotting the cc returns\n",
    "plt.hist(AAPL['r'], bins=15)\n",
    "plt.show()"
   ]
  },
  {
   "cell_type": "code",
   "execution_count": 30,
   "id": "79b1b947-d7f8-4da4-9b83-981634d1ced7",
   "metadata": {},
   "outputs": [
    {
     "data": {
      "text/plain": [
       "0.022998402961812832"
      ]
     },
     "execution_count": 30,
     "metadata": {},
     "output_type": "execute_result"
    }
   ],
   "source": [
    "# We calculate the mean of the cc returns\n",
    "AAPL_mean = AAPL['r'].mean()\n",
    "AAPL_mean"
   ]
  },
  {
   "cell_type": "code",
   "execution_count": 34,
   "id": "06f67f1c-1f51-4ae8-876f-604c288040cb",
   "metadata": {},
   "outputs": [
    {
     "data": {
      "text/plain": [
       "0.011317974045594498"
      ]
     },
     "execution_count": 34,
     "metadata": {},
     "output_type": "execute_result"
    }
   ],
   "source": [
    "# We calculate the std of the group\n",
    "AAPL_std = AAPL['r'].std() / np.sqrt(AAPL[\"r\"].count())\n",
    "AAPL_std"
   ]
  },
  {
   "cell_type": "markdown",
   "id": "5e70238b-3ece-49ad-9b41-bda82440bdb0",
   "metadata": {},
   "source": [
    "## MSFT"
   ]
  },
  {
   "cell_type": "code",
   "execution_count": 42,
   "id": "26ade1e8-eb30-4768-a85a-d6d48601d60c",
   "metadata": {},
   "outputs": [
    {
     "data": {
      "text/html": [
       "<div>\n",
       "<style scoped>\n",
       "    .dataframe tbody tr th:only-of-type {\n",
       "        vertical-align: middle;\n",
       "    }\n",
       "\n",
       "    .dataframe tbody tr th {\n",
       "        vertical-align: top;\n",
       "    }\n",
       "\n",
       "    .dataframe thead th {\n",
       "        text-align: right;\n",
       "    }\n",
       "</style>\n",
       "<table border=\"1\" class=\"dataframe\">\n",
       "  <thead>\n",
       "    <tr style=\"text-align: right;\">\n",
       "      <th></th>\n",
       "      <th>High</th>\n",
       "      <th>Low</th>\n",
       "      <th>Open</th>\n",
       "      <th>Close</th>\n",
       "      <th>Volume</th>\n",
       "      <th>Adj Close</th>\n",
       "    </tr>\n",
       "    <tr>\n",
       "      <th>Date</th>\n",
       "      <th></th>\n",
       "      <th></th>\n",
       "      <th></th>\n",
       "      <th></th>\n",
       "      <th></th>\n",
       "      <th></th>\n",
       "    </tr>\n",
       "  </thead>\n",
       "  <tbody>\n",
       "    <tr>\n",
       "      <th>2022-02-01</th>\n",
       "      <td>315.119995</td>\n",
       "      <td>271.519989</td>\n",
       "      <td>310.410004</td>\n",
       "      <td>298.790009</td>\n",
       "      <td>697050600.0</td>\n",
       "      <td>297.480591</td>\n",
       "    </tr>\n",
       "    <tr>\n",
       "      <th>2022-03-01</th>\n",
       "      <td>315.950012</td>\n",
       "      <td>270.000000</td>\n",
       "      <td>296.399994</td>\n",
       "      <td>308.309998</td>\n",
       "      <td>734334200.0</td>\n",
       "      <td>307.593567</td>\n",
       "    </tr>\n",
       "    <tr>\n",
       "      <th>2022-04-01</th>\n",
       "      <td>315.109985</td>\n",
       "      <td>270.000000</td>\n",
       "      <td>309.369995</td>\n",
       "      <td>277.519989</td>\n",
       "      <td>627343400.0</td>\n",
       "      <td>276.875122</td>\n",
       "    </tr>\n",
       "    <tr>\n",
       "      <th>2022-05-01</th>\n",
       "      <td>290.880005</td>\n",
       "      <td>246.440002</td>\n",
       "      <td>277.709991</td>\n",
       "      <td>271.869995</td>\n",
       "      <td>742902000.0</td>\n",
       "      <td>271.238251</td>\n",
       "    </tr>\n",
       "    <tr>\n",
       "      <th>2022-06-01</th>\n",
       "      <td>277.690002</td>\n",
       "      <td>241.509995</td>\n",
       "      <td>275.200012</td>\n",
       "      <td>256.829987</td>\n",
       "      <td>621372300.0</td>\n",
       "      <td>256.829987</td>\n",
       "    </tr>\n",
       "  </tbody>\n",
       "</table>\n",
       "</div>"
      ],
      "text/plain": [
       "                  High         Low        Open       Close       Volume  \\\n",
       "Date                                                                      \n",
       "2022-02-01  315.119995  271.519989  310.410004  298.790009  697050600.0   \n",
       "2022-03-01  315.950012  270.000000  296.399994  308.309998  734334200.0   \n",
       "2022-04-01  315.109985  270.000000  309.369995  277.519989  627343400.0   \n",
       "2022-05-01  290.880005  246.440002  277.709991  271.869995  742902000.0   \n",
       "2022-06-01  277.690002  241.509995  275.200012  256.829987  621372300.0   \n",
       "\n",
       "             Adj Close  \n",
       "Date                    \n",
       "2022-02-01  297.480591  \n",
       "2022-03-01  307.593567  \n",
       "2022-04-01  276.875122  \n",
       "2022-05-01  271.238251  \n",
       "2022-06-01  256.829987  "
      ]
     },
     "execution_count": 42,
     "metadata": {},
     "output_type": "execute_result"
    }
   ],
   "source": [
    "# Collecting the real data from returns of MSFT from July 2019 until July 2022 monthly\n",
    "MSFT = pdr.get_data_yahoo(\"MSFT\", start = \"2017-07-01\", end = \"2022-05-31\", interval = \"m\")\n",
    "MSFT.tail()"
   ]
  },
  {
   "cell_type": "code",
   "execution_count": 43,
   "id": "9fc21747-691a-4b8c-a6ad-18043a50217e",
   "metadata": {},
   "outputs": [
    {
     "data": {
      "image/png": "[encoded data removed]",
      "text/plain": [
       "<Figure size 432x288 with 1 Axes>"
      ]
     },
     "metadata": {
      "needs_background": "light"
     },
     "output_type": "display_data"
    }
   ],
   "source": [
    "# Calculating the monthly cc returns\n",
    "MSFT[\"r\"] = np.log(MSFT[\"Adj Close\"]) - np.log(MSFT[\"Adj Close\"].shift(1))\n",
    "# Plotting the cc returns\n",
    "plt.hist(MSFT[\"r\"], bins = 15)\n",
    "plt.show()"
   ]
  },
  {
   "cell_type": "code",
   "execution_count": 44,
   "id": "8cf25c60-fb8f-4b8d-87c8-2c62c9dff5d8",
   "metadata": {},
   "outputs": [
    {
     "data": {
      "text/plain": [
       "0.02250024490874485"
      ]
     },
     "execution_count": 44,
     "metadata": {},
     "output_type": "execute_result"
    }
   ],
   "source": [
    "# Calculating the mean of the cc returns\n",
    "MSFT_mean = MSFT[\"r\"].mean()\n",
    "MSFT_mean"
   ]
  },
  {
   "cell_type": "code",
   "execution_count": 46,
   "id": "7b577d23-2635-4548-ad47-f0fd4512c2bb",
   "metadata": {},
   "outputs": [
    {
     "data": {
      "text/plain": [
       "0.007412906320414428"
      ]
     },
     "execution_count": 46,
     "metadata": {},
     "output_type": "execute_result"
    }
   ],
   "source": [
    "# Calculating the standard deviation of the cc returns\n",
    "MSFT_std = MSFT[\"r\"].std() / np.sqrt(MSFT[\"r\"].count())\n",
    "MSFT_std"
   ]
  },
  {
   "cell_type": "markdown",
   "id": "31529ade-7d20-4679-9a2b-f48e68dc097e",
   "metadata": {},
   "source": [
    "## Calculating the t-statistic"
   ]
  },
  {
   "cell_type": "markdown",
   "id": "ab3a1380-e2d8-4193-bd8b-94d0c6ec4fe7",
   "metadata": {},
   "source": [
    "t = ((mean(r_AAPL) - mean(r_MSFT) - 0) / se  => Remember that the standard error is the standard deviation of the variable of study.\n",
    "\n",
    "Then:\n",
    "t = ((mean(r_AAPL) - mean(r_MSFT) - 0) / SD(mean(r_APPL) - mean(r_MSFT)) => The standard deviation can be calculated with the squared root of the variance of this difference\n",
    "\n",
    "Then:\n",
    "t = ((mean(r_AAPL) - mean(r_MSFT) - 0) / sqrt((1/N)(Var(r_AAPL) + Var(r_MSFT)))"
   ]
  },
  {
   "cell_type": "code",
   "execution_count": 48,
   "id": "88fe9a6e-2a3b-46bc-86dd-ea887938cf4a",
   "metadata": {},
   "outputs": [
    {
     "data": {
      "text/plain": [
       "0.28282057658575654"
      ]
     },
     "execution_count": 48,
     "metadata": {},
     "output_type": "execute_result"
    }
   ],
   "source": [
    "# Calculating the t-statisitc\n",
    "t = (AAPL_mean - MSFT_mean -0) / np.sqrt((1 / MSFT[\"r\"].count()) * (AAPL_std**2 + MSFT_std**2))\n",
    "t"
   ]
  },
  {
   "cell_type": "markdown",
   "id": "9377676f-e08b-40d8-a1d0-e5291a73035b",
   "metadata": {},
   "source": [
    "SINCE THE RESULT OF THE T-STATISTIC IS THAT THE DIFFERENCE BETWEEN THE TOW MEANS IS 0.28 STANDARD DEVIATIONS, WE CANNOT DETERMINE THAT NEITHER OF THE HYPOTHESIS ARE CONFIRMED. "
   ]
  },
  {
   "cell_type": "markdown",
   "id": "48c0fd26-2994-48cb-80c8-032acb89a1fd",
   "metadata": {},
   "source": [
    "# 3 Measures of linear relationshop\n",
    " Imagine we want to see whether there is a relationship between the OIL price and the Microsoft stock price."
   ]
  },
  {
   "cell_type": "code",
   "execution_count": null,
   "id": "05adcf8f-2295-43c9-9575-47b167b5db09",
   "metadata": {},
   "outputs": [],
   "source": []
  }
 ],
 "metadata": {
  "kernelspec": {
   "display_name": "Python 3 (ipykernel)",
   "language": "python",
   "name": "python3"
  },
  "language_info": {
   "codemirror_mode": {
    "name": "ipython",
    "version": 3
   },
   "file_extension": ".py",
   "mimetype": "text/x-python",
   "name": "python",
   "nbconvert_exporter": "python",
   "pygments_lexer": "ipython3",
   "version": "3.10.4"
  }
 },
 "nbformat": 4,
 "nbformat_minor": 5
}
