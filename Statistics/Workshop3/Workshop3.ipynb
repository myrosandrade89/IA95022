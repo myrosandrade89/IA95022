{
 "cells": [
  {
   "cell_type": "code",
   "execution_count": 1,
   "id": "dfd40416-82da-48e2-986e-6ee1c9f344e7",
   "metadata": {},
   "outputs": [],
   "source": [
    "import matplotlib.pyplot as plt\n",
    "import pandas_datareader as pdr\n",
    "import numpy as np"
   ]
  },
  {
   "cell_type": "markdown",
   "id": "a0bf158c-30e8-459a-a9a9-802d3fd06188",
   "metadata": {},
   "source": [
    "# 3.1 CHALLENGE - IS AMD MEAN RETURN HIGHER THAN INTEL MEAN RETURN?"
   ]
  },
  {
   "cell_type": "markdown",
   "id": "c9cc678c-6e0b-4303-805f-5ddca5cea66e",
   "metadata": {},
   "source": [
    "Do a t-test to check whether the mean monthly cc return of AMD (AMD) is greater than the mean monthly return of Intel. Use data from Jan 2017 to date."
   ]
  },
  {
   "cell_type": "code",
   "execution_count": 2,
   "id": "2e2906cb-181a-4715-b4ca-02ef16d148ef",
   "metadata": {},
   "outputs": [],
   "source": [
    "# Collecting the real data from currency of AMD and INTC\n",
    "AMD = pdr.get_data_yahoo(\"AMD\", start = \"01/01/2017\", end = \"08/15/2022\", interval = \"m\")\n",
    "AMD = AMD[\"Adj Close\"]\n",
    "INTC = pdr.get_data_yahoo(\"INTC\", start = \"01/01/2017\", end = \"08/15/2022\", interval = \"m\")\n",
    "INTC = INTC[\"Adj Close\"]"
   ]
  },
  {
   "cell_type": "code",
   "execution_count": 3,
   "id": "e441d26d-34ed-4978-9d67-ba7b6c5da207",
   "metadata": {},
   "outputs": [
    {
     "name": "stdout",
     "output_type": "stream",
     "text": [
      "AMD CCr:  Date\n",
      "2017-02-01    0.332469\n",
      "2017-03-01    0.006205\n",
      "2017-04-01   -0.089827\n",
      "2017-05-01   -0.172744\n",
      "2017-06-01    0.109107\n",
      "                ...   \n",
      "2022-04-01   -0.245712\n",
      "2022-05-01    0.174849\n",
      "2022-06-01   -0.286701\n",
      "2022-07-01    0.211384\n",
      "2022-08-01    0.015545\n",
      "Name: Adj Close, Length: 67, dtype: float64  INTC CCr:  Date\n",
      "2017-02-01   -0.016982\n",
      "2017-03-01    0.003516\n",
      "2017-04-01    0.002215\n",
      "2017-05-01   -0.001107\n",
      "2017-06-01   -0.060474\n",
      "                ...   \n",
      "2022-04-01   -0.128356\n",
      "2022-05-01    0.018862\n",
      "2022-06-01   -0.163878\n",
      "2022-07-01   -0.029845\n",
      "2022-08-01   -0.025947\n",
      "Name: Adj Close, Length: 67, dtype: float64\n"
     ]
    }
   ],
   "source": [
    "# Calculating the monthly cc returns\n",
    "ccr_AMD = np.log(AMD) - np.log(AMD.shift(1))\n",
    "ccr_AMD = ccr_AMD.dropna()\n",
    "ccr_INTC = np.log(INTC) - np.log(INTC.shift(1))\n",
    "ccr_INTC = ccr_INTC.dropna()\n",
    "print(\"AMD CCr: \", ccr_AMD, \" INTC CCr: \", ccr_INTC)"
   ]
  },
  {
   "cell_type": "code",
   "execution_count": 4,
   "id": "e93651d0-4b9d-481d-89f4-e35ac15ed902",
   "metadata": {},
   "outputs": [
    {
     "name": "stdout",
     "output_type": "stream",
     "text": [
      "AMD mean: 0.03320761461854227, INTC mean: 0.0015393377548358412\n"
     ]
    }
   ],
   "source": [
    "# Calculating the mean of the cc returns\n",
    "AMD_mean = ccr_AMD.mean()\n",
    "INTC_mean = ccr_INTC.mean()\n",
    "print(f\"AMD mean: {AMD_mean}, INTC mean: {INTC_mean}\")"
   ]
  },
  {
   "cell_type": "code",
   "execution_count": 5,
   "id": "5462d0d9-3ca1-4022-bc89-375543b31355",
   "metadata": {},
   "outputs": [
    {
     "name": "stdout",
     "output_type": "stream",
     "text": [
      "AMD var: 0.026250250294288773, INTC var: 0.005644974683267443\n"
     ]
    }
   ],
   "source": [
    "# Calculating the variance of the cc returns\n",
    "N = ccr_AMD.count()\n",
    "AMD_var = ccr_AMD.var()\n",
    "INTC_var = ccr_INTC.var()\n",
    "print(f\"AMD var: {AMD_var}, INTC var: {INTC_var}\")"
   ]
  },
  {
   "cell_type": "code",
   "execution_count": 6,
   "id": "7706c8a3-8516-4005-b044-61dd50205eef",
   "metadata": {},
   "outputs": [
    {
     "data": {
      "text/plain": [
       "1.4514397059536874"
      ]
     },
     "execution_count": 6,
     "metadata": {},
     "output_type": "execute_result"
    }
   ],
   "source": [
    "# H0: (mean(rAMD) - mean(rINTEL)) = 0\n",
    "# Ha: (mean(rAMD) - mean(rINTEL)) <> 0\n",
    "\n",
    "# Calculating the standard error of the difference of the means\n",
    "t = (AMD_mean - INTC_mean - 0) / np.sqrt((1/N) * (AMD_var + INTC_var))\n",
    "t"
   ]
  },
  {
   "cell_type": "markdown",
   "id": "15a95c3b-df04-4ab6-a902-7d0dab2dc22c",
   "metadata": {},
   "source": [
    "SINCE THE DIFFERENCE OF THE MEANS OF THE CC RETURNS IS ONLY 1.45 STANDARD DEVIATIONS, WE CANNOT ASSUME THAT NEITHER OF THE HYPOTHESIS ARE CORRECT. THE T-RESULT DEMONSTRATES THAT THE MEAN OF AMD IS JUST 1.45 STANDARD DEVIATIONS AWAY FROM THE INTEL'S, WHICH REPRESENTS LESS THAN THE 95% OF THE CASES. "
   ]
  },
  {
   "cell_type": "code",
   "execution_count": 7,
   "id": "724231d6-0595-4e34-b69d-1ae7a549261d",
   "metadata": {},
   "outputs": [
    {
     "name": "stdout",
     "output_type": "stream",
     "text": [
      "Degrees of freedom: 93.13122638271791\n",
      "2-tailed pvalue: 0.1500177587254462\n"
     ]
    }
   ],
   "source": [
    "# Calculating the pvalue from the t-Statistic\n",
    "from scipy import stats as st\n",
    "\n",
    "# the degrees of freedom for 2-independent-means t-test is calculated with the following formula:\n",
    "df = ( ((N-1) / N**2) * (AMD_var + INTC_var)**2  / ( (AMD_var/N)**2 + (INTC_var/N)**2  ) )\n",
    "print(f\"Degrees of freedom: {df}\")\n",
    "pvalue = 2 * st.t.sf(np.abs(t), df)\n",
    "print(f\"2-tailed pvalue: {pvalue}\")"
   ]
  },
  {
   "cell_type": "code",
   "execution_count": 8,
   "id": "aa63868c-8fcd-47f5-b4b0-834cf7a743e5",
   "metadata": {},
   "outputs": [
    {
     "data": {
      "text/plain": [
       "Ttest_indResult(statistic=1.4514397059536877, pvalue=0.1500177587254462)"
      ]
     },
     "execution_count": 8,
     "metadata": {},
     "output_type": "execute_result"
    }
   ],
   "source": [
    "# Using the ttest function from stats to calculate the t value and the 2-tailed p-value\n",
    "st.ttest_ind(ccr_AMD,ccr_INTC,equal_var=False)"
   ]
  },
  {
   "cell_type": "code",
   "execution_count": 9,
   "id": "49f13ecb-e0b9-4e81-ad2a-1224413a4014",
   "metadata": {},
   "outputs": [
    {
     "name": "stderr",
     "output_type": "stream",
     "text": [
      "C:\\Users\\myros\\anaconda3\\envs\\Statistics\\lib\\site-packages\\researchpy\\ttest.py:18: FutureWarning: The series.append method is deprecated and will be removed from pandas in a future version. Use pandas.concat instead.\n",
      "  groups = group1.append(group2, ignore_index= True)\n"
     ]
    },
    {
     "data": {
      "text/plain": [
       "(    Variable      N      Mean        SD        SE  95% Conf.  Interval\n",
       " 0  Adj Close   67.0  0.033208  0.162019  0.019794  -0.006312  0.072727\n",
       " 1  Adj Close   67.0  0.001539  0.075133  0.009179  -0.016787  0.019866\n",
       " 2   combined  134.0  0.017373  0.126808  0.010955  -0.004294  0.039041,\n",
       "                           Welch's t-test  results\n",
       " 0  Difference (Adj Close - Adj Close) =    0.0317\n",
       " 1                  Degrees of freedom =   93.9534\n",
       " 2                                   t =    1.4514\n",
       " 3               Two side test p value =    0.1500\n",
       " 4              Difference < 0 p value =    0.9250\n",
       " 5              Difference > 0 p value =    0.0750\n",
       " 6                           Cohen's d =    0.2508\n",
       " 7                           Hedge's g =    0.2493\n",
       " 8                       Glass's delta =    0.1955\n",
       " 9                         Pearson's r =    0.1481)"
      ]
     },
     "execution_count": 9,
     "metadata": {},
     "output_type": "execute_result"
    }
   ],
   "source": [
    "import researchpy as rp\n",
    "# Using the ttest function from researchpy:\n",
    "rp.ttest(ccr_AMD,ccr_INTC, equal_variances = False)\n",
    "# We got the same result as above!\n",
    "# With this function we avoid calculating all steps of the hypothesis test!"
   ]
  },
  {
   "cell_type": "markdown",
   "id": "bd040973-0ee7-49ff-b7b3-fbc37c354069",
   "metadata": {},
   "source": [
    "### 3.1 CHALLENGE - IS AAPL MEAN RETURN HIGHER THAN MSFT MEAN RETURN?\n",
    "Run a t-test to compare whether the average monthly return of AAPL is greater than the average monthly returns of MSFT\n",
    "H0 : mean(r_AAPL) > mean(r_MSFT)  ==>  H0: mean(r_AAPL) - mean(r_MSFT) = 0\n",
    "Ha: mean(r_AAPL) < mean(r_MSFT)   ==>  Ha: mean(r_AAPL) - mean(r_MSFT) != 0\n",
    "\n",
    "VARIABLE OF STUDY = DIFFERENCE OF BOTH MEAN RETURNS\n",
    "dif = mean(r_AAPL) - mean(r_MSFT)\n",
    "H0: dif = 0\n",
    "Ha: dif != 0"
   ]
  },
  {
   "cell_type": "markdown",
   "id": "6e95d9ad-30c3-42a5-bebb-ce77f7302f45",
   "metadata": {},
   "source": [
    "## AAPL"
   ]
  },
  {
   "cell_type": "code",
   "execution_count": 10,
   "id": "963015a4-fc1d-4f68-a896-a482c0c8d475",
   "metadata": {},
   "outputs": [
    {
     "data": {
      "text/html": [
       "<div>\n",
       "<style scoped>\n",
       "    .dataframe tbody tr th:only-of-type {\n",
       "        vertical-align: middle;\n",
       "    }\n",
       "\n",
       "    .dataframe tbody tr th {\n",
       "        vertical-align: top;\n",
       "    }\n",
       "\n",
       "    .dataframe thead th {\n",
       "        text-align: right;\n",
       "    }\n",
       "</style>\n",
       "<table border=\"1\" class=\"dataframe\">\n",
       "  <thead>\n",
       "    <tr style=\"text-align: right;\">\n",
       "      <th></th>\n",
       "      <th>High</th>\n",
       "      <th>Low</th>\n",
       "      <th>Open</th>\n",
       "      <th>Close</th>\n",
       "      <th>Volume</th>\n",
       "      <th>Adj Close</th>\n",
       "    </tr>\n",
       "    <tr>\n",
       "      <th>Date</th>\n",
       "      <th></th>\n",
       "      <th></th>\n",
       "      <th></th>\n",
       "      <th></th>\n",
       "      <th></th>\n",
       "      <th></th>\n",
       "    </tr>\n",
       "  </thead>\n",
       "  <tbody>\n",
       "    <tr>\n",
       "      <th>2022-02-01</th>\n",
       "      <td>176.649994</td>\n",
       "      <td>152.000000</td>\n",
       "      <td>174.009995</td>\n",
       "      <td>165.119995</td>\n",
       "      <td>1.627516e+09</td>\n",
       "      <td>164.439545</td>\n",
       "    </tr>\n",
       "    <tr>\n",
       "      <th>2022-03-01</th>\n",
       "      <td>179.610001</td>\n",
       "      <td>150.100006</td>\n",
       "      <td>164.699997</td>\n",
       "      <td>174.610001</td>\n",
       "      <td>2.180800e+09</td>\n",
       "      <td>174.111984</td>\n",
       "    </tr>\n",
       "    <tr>\n",
       "      <th>2022-04-01</th>\n",
       "      <td>178.490005</td>\n",
       "      <td>155.380005</td>\n",
       "      <td>174.029999</td>\n",
       "      <td>157.649994</td>\n",
       "      <td>1.687796e+09</td>\n",
       "      <td>157.200348</td>\n",
       "    </tr>\n",
       "    <tr>\n",
       "      <th>2022-05-01</th>\n",
       "      <td>166.479996</td>\n",
       "      <td>132.610001</td>\n",
       "      <td>156.710007</td>\n",
       "      <td>148.839996</td>\n",
       "      <td>2.401040e+09</td>\n",
       "      <td>148.415482</td>\n",
       "    </tr>\n",
       "    <tr>\n",
       "      <th>2022-06-01</th>\n",
       "      <td>151.740005</td>\n",
       "      <td>129.039993</td>\n",
       "      <td>149.899994</td>\n",
       "      <td>136.720001</td>\n",
       "      <td>1.749100e+09</td>\n",
       "      <td>136.530350</td>\n",
       "    </tr>\n",
       "  </tbody>\n",
       "</table>\n",
       "</div>"
      ],
      "text/plain": [
       "                  High         Low        Open       Close        Volume  \\\n",
       "Date                                                                       \n",
       "2022-02-01  176.649994  152.000000  174.009995  165.119995  1.627516e+09   \n",
       "2022-03-01  179.610001  150.100006  164.699997  174.610001  2.180800e+09   \n",
       "2022-04-01  178.490005  155.380005  174.029999  157.649994  1.687796e+09   \n",
       "2022-05-01  166.479996  132.610001  156.710007  148.839996  2.401040e+09   \n",
       "2022-06-01  151.740005  129.039993  149.899994  136.720001  1.749100e+09   \n",
       "\n",
       "             Adj Close  \n",
       "Date                    \n",
       "2022-02-01  164.439545  \n",
       "2022-03-01  174.111984  \n",
       "2022-04-01  157.200348  \n",
       "2022-05-01  148.415482  \n",
       "2022-06-01  136.530350  "
      ]
     },
     "execution_count": 10,
     "metadata": {},
     "output_type": "execute_result"
    }
   ],
   "source": [
    "\n",
    "# Collecting the real data from AAPL from July 2019 until July 2022 monthly (60 months)\n",
    "AAPL = pdr.get_data_yahoo(\"AAPL\", start = \"2017-07-01\", end = \"2022-05-31\", interval = \"m\")\n",
    "AAPL.tail()"
   ]
  },
  {
   "cell_type": "code",
   "execution_count": 11,
   "id": "3682dc03-9389-40c8-8a6c-2659396d5ea6",
   "metadata": {},
   "outputs": [
    {
     "data": {
      "image/png": "[encoded data removed]",
      "text/plain": [
       "<Figure size 432x288 with 1 Axes>"
      ]
     },
     "metadata": {
      "needs_background": "light"
     },
     "output_type": "display_data"
    }
   ],
   "source": [
    "# Calculating the monthly cc returns\n",
    "AAPL[\"r\"] = (np.log(AAPL[\"Adj Close\"]) - np.log(AAPL[\"Adj Close\"].shift(1)))\n",
    "# Plotting the cc returns\n",
    "plt.hist(AAPL['r'], bins=15)\n",
    "plt.show()"
   ]
  },
  {
   "cell_type": "code",
   "execution_count": 12,
   "id": "79b1b947-d7f8-4da4-9b83-981634d1ced7",
   "metadata": {},
   "outputs": [
    {
     "data": {
      "text/plain": [
       "0.022998402961812832"
      ]
     },
     "execution_count": 12,
     "metadata": {},
     "output_type": "execute_result"
    }
   ],
   "source": [
    "# We calculate the mean of the cc returns\n",
    "AAPL_mean = AAPL['r'].mean()\n",
    "AAPL_mean"
   ]
  },
  {
   "cell_type": "code",
   "execution_count": 13,
   "id": "06f67f1c-1f51-4ae8-876f-604c288040cb",
   "metadata": {},
   "outputs": [
    {
     "data": {
      "text/plain": [
       "0.007557697258452519"
      ]
     },
     "execution_count": 13,
     "metadata": {},
     "output_type": "execute_result"
    }
   ],
   "source": [
    "# We calculate the std of the group\n",
    "AAPL_var = AAPL['r'].var()\n",
    "AAPL_var"
   ]
  },
  {
   "cell_type": "markdown",
   "id": "5e70238b-3ece-49ad-9b41-bda82440bdb0",
   "metadata": {},
   "source": [
    "## MSFT"
   ]
  },
  {
   "cell_type": "code",
   "execution_count": 14,
   "id": "26ade1e8-eb30-4768-a85a-d6d48601d60c",
   "metadata": {},
   "outputs": [
    {
     "data": {
      "text/html": [
       "<div>\n",
       "<style scoped>\n",
       "    .dataframe tbody tr th:only-of-type {\n",
       "        vertical-align: middle;\n",
       "    }\n",
       "\n",
       "    .dataframe tbody tr th {\n",
       "        vertical-align: top;\n",
       "    }\n",
       "\n",
       "    .dataframe thead th {\n",
       "        text-align: right;\n",
       "    }\n",
       "</style>\n",
       "<table border=\"1\" class=\"dataframe\">\n",
       "  <thead>\n",
       "    <tr style=\"text-align: right;\">\n",
       "      <th></th>\n",
       "      <th>High</th>\n",
       "      <th>Low</th>\n",
       "      <th>Open</th>\n",
       "      <th>Close</th>\n",
       "      <th>Volume</th>\n",
       "      <th>Adj Close</th>\n",
       "    </tr>\n",
       "    <tr>\n",
       "      <th>Date</th>\n",
       "      <th></th>\n",
       "      <th></th>\n",
       "      <th></th>\n",
       "      <th></th>\n",
       "      <th></th>\n",
       "      <th></th>\n",
       "    </tr>\n",
       "  </thead>\n",
       "  <tbody>\n",
       "    <tr>\n",
       "      <th>2022-02-01</th>\n",
       "      <td>315.119995</td>\n",
       "      <td>271.519989</td>\n",
       "      <td>310.410004</td>\n",
       "      <td>298.790009</td>\n",
       "      <td>697050600.0</td>\n",
       "      <td>296.850525</td>\n",
       "    </tr>\n",
       "    <tr>\n",
       "      <th>2022-03-01</th>\n",
       "      <td>315.950012</td>\n",
       "      <td>270.000000</td>\n",
       "      <td>296.399994</td>\n",
       "      <td>308.309998</td>\n",
       "      <td>734334200.0</td>\n",
       "      <td>306.942047</td>\n",
       "    </tr>\n",
       "    <tr>\n",
       "      <th>2022-04-01</th>\n",
       "      <td>315.109985</td>\n",
       "      <td>270.000000</td>\n",
       "      <td>309.369995</td>\n",
       "      <td>277.519989</td>\n",
       "      <td>627343400.0</td>\n",
       "      <td>276.288666</td>\n",
       "    </tr>\n",
       "    <tr>\n",
       "      <th>2022-05-01</th>\n",
       "      <td>290.880005</td>\n",
       "      <td>246.440002</td>\n",
       "      <td>277.709991</td>\n",
       "      <td>271.869995</td>\n",
       "      <td>742902000.0</td>\n",
       "      <td>270.663757</td>\n",
       "    </tr>\n",
       "    <tr>\n",
       "      <th>2022-06-01</th>\n",
       "      <td>277.690002</td>\n",
       "      <td>241.509995</td>\n",
       "      <td>275.200012</td>\n",
       "      <td>256.829987</td>\n",
       "      <td>621372300.0</td>\n",
       "      <td>256.285980</td>\n",
       "    </tr>\n",
       "  </tbody>\n",
       "</table>\n",
       "</div>"
      ],
      "text/plain": [
       "                  High         Low        Open       Close       Volume  \\\n",
       "Date                                                                      \n",
       "2022-02-01  315.119995  271.519989  310.410004  298.790009  697050600.0   \n",
       "2022-03-01  315.950012  270.000000  296.399994  308.309998  734334200.0   \n",
       "2022-04-01  315.109985  270.000000  309.369995  277.519989  627343400.0   \n",
       "2022-05-01  290.880005  246.440002  277.709991  271.869995  742902000.0   \n",
       "2022-06-01  277.690002  241.509995  275.200012  256.829987  621372300.0   \n",
       "\n",
       "             Adj Close  \n",
       "Date                    \n",
       "2022-02-01  296.850525  \n",
       "2022-03-01  306.942047  \n",
       "2022-04-01  276.288666  \n",
       "2022-05-01  270.663757  \n",
       "2022-06-01  256.285980  "
      ]
     },
     "execution_count": 14,
     "metadata": {},
     "output_type": "execute_result"
    }
   ],
   "source": [
    "# Collecting the real data from returns of MSFT from July 2019 until July 2022 monthly\n",
    "MSFT = pdr.get_data_yahoo(\"MSFT\", start = \"2017-07-01\", end = \"2022-05-31\", interval = \"m\")\n",
    "MSFT.tail()"
   ]
  },
  {
   "cell_type": "code",
   "execution_count": 15,
   "id": "9fc21747-691a-4b8c-a6ad-18043a50217e",
   "metadata": {},
   "outputs": [
    {
     "data": {
      "image/png": "[encoded data removed]",
      "text/plain": [
       "<Figure size 432x288 with 1 Axes>"
      ]
     },
     "metadata": {
      "needs_background": "light"
     },
     "output_type": "display_data"
    }
   ],
   "source": [
    "# Calculating the monthly cc returns\n",
    "MSFT[\"r\"] = np.log(MSFT[\"Adj Close\"]) - np.log(MSFT[\"Adj Close\"].shift(1))\n",
    "# Plotting the cc returns\n",
    "plt.hist(MSFT[\"r\"], bins = 15)\n",
    "plt.show()"
   ]
  },
  {
   "cell_type": "code",
   "execution_count": 16,
   "id": "8cf25c60-fb8f-4b8d-87c8-2c62c9dff5d8",
   "metadata": {},
   "outputs": [
    {
     "data": {
      "text/plain": [
       "0.022500242590546424"
      ]
     },
     "execution_count": 16,
     "metadata": {},
     "output_type": "execute_result"
    }
   ],
   "source": [
    "# Calculating the mean of the cc returns\n",
    "MSFT_mean = MSFT[\"r\"].mean()\n",
    "MSFT_mean"
   ]
  },
  {
   "cell_type": "code",
   "execution_count": 17,
   "id": "7b577d23-2635-4548-ad47-f0fd4512c2bb",
   "metadata": {},
   "outputs": [
    {
     "data": {
      "text/plain": [
       "0.003242120231135954"
      ]
     },
     "execution_count": 17,
     "metadata": {},
     "output_type": "execute_result"
    }
   ],
   "source": [
    "# Calculating the standard deviation of the cc returns\n",
    "MSFT_var = MSFT[\"r\"].var()\n",
    "MSFT_var"
   ]
  },
  {
   "cell_type": "markdown",
   "id": "31529ade-7d20-4679-9a2b-f48e68dc097e",
   "metadata": {},
   "source": [
    "## Calculating the t-statistic"
   ]
  },
  {
   "cell_type": "markdown",
   "id": "ab3a1380-e2d8-4193-bd8b-94d0c6ec4fe7",
   "metadata": {},
   "source": [
    "t = ((mean(r_AAPL) - mean(r_MSFT) - 0) / se  => Remember that the standard error is the standard deviation of the variable of study.\n",
    "\n",
    "Then:\n",
    "t = ((mean(r_AAPL) - mean(r_MSFT) - 0) / SD(mean(r_APPL) - mean(r_MSFT)) => The standard deviation can be calculated with the squared root of the variance of this difference\n",
    "\n",
    "Then:\n",
    "t = ((mean(r_AAPL) - mean(r_MSFT) - 0) / sqrt((1/N)(Var(r_AAPL) + Var(r_MSFT)))"
   ]
  },
  {
   "cell_type": "code",
   "execution_count": 18,
   "id": "88fe9a6e-2a3b-46bc-86dd-ea887938cf4a",
   "metadata": {},
   "outputs": [
    {
     "data": {
      "text/plain": [
       "0.036820270446051045"
      ]
     },
     "execution_count": 18,
     "metadata": {},
     "output_type": "execute_result"
    }
   ],
   "source": [
    "# Calculating the t-statisitc\n",
    "t = (AAPL_mean - MSFT_mean -0) / np.sqrt((1 / MSFT[\"r\"].count()) * (AAPL_var + MSFT_var))\n",
    "t"
   ]
  },
  {
   "cell_type": "markdown",
   "id": "9377676f-e08b-40d8-a1d0-e5291a73035b",
   "metadata": {},
   "source": [
    "SINCE THE RESULT OF THE T-STATISTIC IS THAT THE DIFFERENCE BETWEEN THE TWO MEANS IS 0.037 STANDARD DEVIATIONS, WE CANNOT DETERMINE THAT NEITHER OF THE HYPOTHESIS ARE CONFIRMED. "
   ]
  },
  {
   "cell_type": "markdown",
   "id": "48c0fd26-2994-48cb-80c8-032acb89a1fd",
   "metadata": {},
   "source": [
    "# 4 Measures of linear relationship\n",
    " Imagine we want to see whether there is a relationship between the OIL price and the Microsoft stock price. The S&P500 is an index that represents the 500 bigest US companies, which is a good representation of the US financial market. We will use monthly data for the last 3-4 years."
   ]
  },
  {
   "cell_type": "code",
   "execution_count": 19,
   "id": "05adcf8f-2295-43c9-9575-47b167b5db09",
   "metadata": {},
   "outputs": [],
   "source": [
    "import pandas as pd\n",
    "import yfinance as yf\n",
    "import matplotlib"
   ]
  },
  {
   "cell_type": "code",
   "execution_count": 20,
   "id": "239f6655-a9b1-4456-ab82-990c37720fa9",
   "metadata": {},
   "outputs": [
    {
     "name": "stdout",
     "output_type": "stream",
     "text": [
      "[*********************100%***********************]  2 of 2 completed\n"
     ]
    }
   ],
   "source": [
    "# We download price data for Microsoft and the S&P500 index:\n",
    "prices=yf.download(tickers=\"MSFT ^GSPC\", start=\"2019-01-01\",interval=\"1mo\")\n",
    "# We select Adjusted closing prices and drop any row with NA values:\n",
    "adjprices = prices['Adj Close'].dropna()"
   ]
  },
  {
   "cell_type": "markdown",
   "id": "5bbc31e2-56a7-401b-bea8-b0967fe8fd3b",
   "metadata": {},
   "source": [
    "Unfortunately, the range of stock prices and market indexes can vary a lot, so this makes difficult to compare price movements in one plot. For example, if we plot the MSFT prices and the S&P500:"
   ]
  },
  {
   "cell_type": "code",
   "execution_count": 21,
   "id": "2c8196f6-b791-4aa8-aba6-207b120c9409",
   "metadata": {},
   "outputs": [
    {
     "data": {
      "text/plain": [
       "<Figure size 432x288 with 0 Axes>"
      ]
     },
     "metadata": {},
     "output_type": "display_data"
    },
    {
     "data": {
      "image/png": "[encoded data removed]",
      "text/plain": [
       "<Figure size 432x288 with 1 Axes>"
      ]
     },
     "metadata": {
      "needs_background": "light"
     },
     "output_type": "display_data"
    }
   ],
   "source": [
    "plt.clf()\n",
    "adjprices.plot(y=['MSFT','^GSPC'])\n",
    "plt.show()\n",
    "\n"
   ]
  },
  {
   "cell_type": "markdown",
   "id": "255f265c-3319-41ae-9739-282b8e1c66fd",
   "metadata": {},
   "source": [
    "It looks like the GSPC has had a better performance, but this is misleading since both investment have different range of prices.\n",
    "\n",
    "When comparing the performance of 2 or more stock prices and/or indexes, it is a good idea to generate an index for each series, so that we can emulate how much $1.00 invested in each stock/index would have moved over time. We can divide the stock price of any month by the stock price of the first month to get a growth factor:"
   ]
  },
  {
   "cell_type": "code",
   "execution_count": 22,
   "id": "bb0d2026-53f0-4d66-803e-f02b4d273ff7",
   "metadata": {},
   "outputs": [
    {
     "name": "stdout",
     "output_type": "stream",
     "text": [
      "Date\n",
      "2019-01-01    1.000000\n",
      "2019-02-01    1.029729\n",
      "2019-03-01    1.048186\n",
      "2019-04-01    1.089394\n",
      "2019-05-01    1.017736\n",
      "Name: iGSPC, dtype: float64 Date\n",
      "2019-01-01    1.000000\n",
      "2019-02-01    1.072776\n",
      "2019-03-01    1.134192\n",
      "2019-04-01    1.255940\n",
      "2019-05-01    1.189392\n",
      "Name: iMSFT, dtype: float64\n"
     ]
    }
   ],
   "source": [
    "adjprices['iMSFT'] = adjprices['MSFT'] / adjprices['MSFT'][0]\n",
    "adjprices['iGSPC'] = adjprices['^GSPC'] / adjprices['^GSPC'][0]\n",
    "print(adjprices['iGSPC'].head(), adjprices['iMSFT'].head())"
   ]
  },
  {
   "cell_type": "code",
   "execution_count": 23,
   "id": "a1117955-81f0-4839-b5e1-8b3f8ae375e2",
   "metadata": {},
   "outputs": [
    {
     "data": {
      "image/png": "[encoded data removed]",
      "text/plain": [
       "<Figure size 432x288 with 1 Axes>"
      ]
     },
     "metadata": {
      "needs_background": "light"
     },
     "output_type": "display_data"
    }
   ],
   "source": [
    "# Plotting the 2 new indexes over timeplt.clf()\n",
    "adjprices.plot(y=['iMSFT','iGSPC'])\n",
    "plt.show()"
   ]
  },
  {
   "cell_type": "markdown",
   "id": "e20eaf6c-ff60-4201-a8aa-cc031fc81be1",
   "metadata": {},
   "source": [
    "Now we calculate continuously compounded monthly returns. With pandas most of the data management functions works row-wise. In other words, operations are performed to all columns by row:"
   ]
  },
  {
   "cell_type": "code",
   "execution_count": 24,
   "id": "27c1f0ec-2156-4ccd-b3c4-9a1fe0a2238d",
   "metadata": {},
   "outputs": [
    {
     "data": {
      "text/html": [
       "<div>\n",
       "<style scoped>\n",
       "    .dataframe tbody tr th:only-of-type {\n",
       "        vertical-align: middle;\n",
       "    }\n",
       "\n",
       "    .dataframe tbody tr th {\n",
       "        vertical-align: top;\n",
       "    }\n",
       "\n",
       "    .dataframe thead th {\n",
       "        text-align: right;\n",
       "    }\n",
       "</style>\n",
       "<table border=\"1\" class=\"dataframe\">\n",
       "  <thead>\n",
       "    <tr style=\"text-align: right;\">\n",
       "      <th></th>\n",
       "      <th>MSFT</th>\n",
       "      <th>GSPC</th>\n",
       "    </tr>\n",
       "    <tr>\n",
       "      <th>Date</th>\n",
       "      <th></th>\n",
       "      <th></th>\n",
       "    </tr>\n",
       "  </thead>\n",
       "  <tbody>\n",
       "    <tr>\n",
       "      <th>2019-02-01</th>\n",
       "      <td>0.070250</td>\n",
       "      <td>0.029296</td>\n",
       "    </tr>\n",
       "    <tr>\n",
       "      <th>2019-03-01</th>\n",
       "      <td>0.055671</td>\n",
       "      <td>0.017766</td>\n",
       "    </tr>\n",
       "    <tr>\n",
       "      <th>2019-04-01</th>\n",
       "      <td>0.101963</td>\n",
       "      <td>0.038560</td>\n",
       "    </tr>\n",
       "    <tr>\n",
       "      <th>2019-05-01</th>\n",
       "      <td>-0.054442</td>\n",
       "      <td>-0.068041</td>\n",
       "    </tr>\n",
       "    <tr>\n",
       "      <th>2019-06-01</th>\n",
       "      <td>0.083538</td>\n",
       "      <td>0.066658</td>\n",
       "    </tr>\n",
       "  </tbody>\n",
       "</table>\n",
       "</div>"
      ],
      "text/plain": [
       "                MSFT      GSPC\n",
       "Date                          \n",
       "2019-02-01  0.070250  0.029296\n",
       "2019-03-01  0.055671  0.017766\n",
       "2019-04-01  0.101963  0.038560\n",
       "2019-05-01 -0.054442 -0.068041\n",
       "2019-06-01  0.083538  0.066658"
      ]
     },
     "execution_count": 24,
     "metadata": {},
     "output_type": "execute_result"
    }
   ],
   "source": [
    "r = np.log(adjprices) - np.log(adjprices.shift(1))\n",
    "# Dropping rows with NA values (the first month will have NAs)\n",
    "r = r.dropna()\n",
    "# Selecting only 2 columns (out of the 4 columns):\n",
    "r = r[['MSFT','^GSPC']]\n",
    "# Renameing the column names:\n",
    "r.columns = ['MSFT','GSPC']\n",
    "r.head()"
   ]
  },
  {
   "cell_type": "markdown",
   "id": "9afa5719-2157-4b10-b6e7-64c0ca679bcd",
   "metadata": {},
   "source": [
    "GSPC stands for Global Standard & Poors Composite, which is the S&P500 index. We start with a scatter plot to see whether there is a linear relationship between the MSFT returns and the GSPC returns:"
   ]
  },
  {
   "cell_type": "code",
   "execution_count": 25,
   "id": "5e037157-f915-4c0f-84ed-9c6fa627cf96",
   "metadata": {},
   "outputs": [
    {
     "data": {
      "text/plain": [
       "<Figure size 432x288 with 0 Axes>"
      ]
     },
     "metadata": {},
     "output_type": "display_data"
    },
    {
     "data": {
      "image/png": "[encoded data removed]",
      "text/plain": [
       "<Figure size 432x288 with 1 Axes>"
      ]
     },
     "metadata": {
      "needs_background": "light"
     },
     "output_type": "display_data"
    }
   ],
   "source": [
    "plt.clf()\n",
    "r.plot.scatter(x='GSPC', y='MSFT',c='DarkBlue')\n",
    "plt.show()"
   ]
  },
  {
   "cell_type": "markdown",
   "id": "f6669aeb-1d75-4c9e-b9b2-e01004d6d541",
   "metadata": {},
   "source": [
    "THIS PLOTTING LOOKS A LINEAR RELATIONSHIP BETWEEN THE MSFT AND GSPC CC RETURNS. NORMALLY THE GSPC HAS A LOWER CC RETURN THAN THE MSFT CC RETURN."
   ]
  },
  {
   "cell_type": "code",
   "execution_count": 26,
   "id": "78c40d78-b2b8-459d-b5e1-a01b2841a3a1",
   "metadata": {},
   "outputs": [
    {
     "data": {
      "text/plain": [
       "<Figure size 432x288 with 0 Axes>"
      ]
     },
     "metadata": {},
     "output_type": "display_data"
    },
    {
     "data": {
      "image/png": "[encoded data removed]",
      "text/plain": [
       "<Figure size 432x288 with 1 Axes>"
      ]
     },
     "metadata": {
      "needs_background": "light"
     },
     "output_type": "display_data"
    }
   ],
   "source": [
    "plt.clf()\n",
    "adjprices.plot.scatter(x='^GSPC', y='MSFT',c='DarkBlue')\n",
    "plt.show()"
   ]
  },
  {
   "cell_type": "markdown",
   "id": "3a5062e3-7bbb-4b4a-ad5a-1b9a327e9d33",
   "metadata": {},
   "source": [
    "USING THE PRICES CONVERYS SHOWS AN APPARENT STRONG LINEAR RELATIONSHOP COMPARED TO THE ABOVE USING CC Stock returns are variables that usually does NOT grow over timeRETURNS."
   ]
  },
  {
   "cell_type": "markdown",
   "id": "53000478-0230-4684-bb8f-5628ad1c4b6b",
   "metadata": {},
   "source": [
    "Stock returns are variables that usually does NOT grow over time"
   ]
  },
  {
   "cell_type": "code",
   "execution_count": 27,
   "id": "5bd7e036-aad1-41de-8360-53e33a756513",
   "metadata": {},
   "outputs": [
    {
     "data": {
      "text/plain": [
       "<Figure size 432x288 with 0 Axes>"
      ]
     },
     "metadata": {},
     "output_type": "display_data"
    },
    {
     "data": {
      "image/png": "[encoded data removed]",
      "text/plain": [
       "<Figure size 432x288 with 1 Axes>"
      ]
     },
     "metadata": {
      "needs_background": "light"
     },
     "output_type": "display_data"
    }
   ],
   "source": [
    "plt.clf()\n",
    "r.plot(y=['MSFT','GSPC'])\n",
    "plt.show()"
   ]
  },
  {
   "cell_type": "markdown",
   "id": "122fa59f-b9c9-43da-813e-d40c26fd8127",
   "metadata": {},
   "source": [
    "### 3.1 Covariance"
   ]
  },
  {
   "cell_type": "code",
   "execution_count": 28,
   "id": "ad40c8bf-35d4-477d-97ca-7f40b80aaa92",
   "metadata": {},
   "outputs": [
    {
     "name": "stdout",
     "output_type": "stream",
     "text": [
      "Covariance cc returns of MSFT and GSPC:            MSFT      GSPC\n",
      "MSFT  0.003475  0.002455\n",
      "GSPC  0.002455  0.002773\n",
      "Covariance adjusted prices of MSFT and GSPC:                 MSFT          ^GSPC       iMSFT       iGSPC\n",
      "MSFT    4873.022956   44390.476193   48.571074   16.415989\n",
      "^GSPC  44390.476193  433328.052965  442.454948  160.248525\n",
      "iMSFT     48.571074     442.454948    0.484124    0.163624\n",
      "iGSPC     16.415989     160.248525    0.163624    0.059261\n"
     ]
    }
   ],
   "source": [
    "# Calculating the covariance\n",
    "cov_r = r.cov()\n",
    "print(\"Covariance cc returns of MSFT and GSPC: \", cov_r)\n",
    "cov_adj_prices = adjprices.cov()\n",
    "print(\"Covariance adjusted prices of MSFT and GSPC: \", cov_adj_prices)"
   ]
  },
  {
   "cell_type": "markdown",
   "id": "6429079d-005d-42dd-9500-4ccdb5b7fd87",
   "metadata": {},
   "source": [
    "# 4.3 Calculating covariance and correlation\n",
    "We can program the covariance of 2 variables according to the formula:"
   ]
  },
  {
   "cell_type": "code",
   "execution_count": 29,
   "id": "4f8a0614-a636-4ea2-8390-59169cc17405",
   "metadata": {},
   "outputs": [
    {
     "data": {
      "text/plain": [
       "0.002454701128658448"
      ]
     },
     "execution_count": 29,
     "metadata": {},
     "output_type": "execute_result"
    }
   ],
   "source": [
    "msft_mean = r['MSFT'].mean()\n",
    "gspc_mean = r['GSPC'].mean()\n",
    "N = r['GSPC'].count()\n",
    "sum_of_prod = ((r['MSFT'] - msft_mean) * (r['GSPC'] - gspc_mean) ).sum()  \n",
    "cov = sum_of_prod / (N-1)\n",
    "cov"
   ]
  },
  {
   "cell_type": "markdown",
   "id": "9a4f75e7-c645-4366-9d87-76b78e10a7b8",
   "metadata": {},
   "source": [
    "We have the numpy function cov to calculate the covariance:"
   ]
  },
  {
   "cell_type": "code",
   "execution_count": 30,
   "id": "82210804-206b-479a-a037-eeec60a46ae2",
   "metadata": {},
   "outputs": [
    {
     "data": {
      "text/plain": [
       "array([[0.00347497, 0.0024547 ],\n",
       "       [0.0024547 , 0.00277328]])"
      ]
     },
     "execution_count": 30,
     "metadata": {},
     "output_type": "execute_result"
    }
   ],
   "source": [
    "covm = np.cov(r['MSFT'],r['GSPC'])\n",
    "covm"
   ]
  },
  {
   "cell_type": "markdown",
   "id": "9b11ec7c-ceee-47e0-9810-1bad54b0bd31",
   "metadata": {},
   "source": [
    "The cov function calculates the covariance matrix using both returns. We can find the covariance in the non-diagonal elements, which will be the same values since the covariance matrix is symetric.\n",
    "\n",
    "The diagonal values have the variances of each return since the covariance of one variable with itself is actually its variance (Cov(X,X) = Var(X) ) .\n",
    "\n",
    "Then, to extract the covariance between MSFT and GSPC returns we can extract the element in the row 1 and column 2 of the matrix:"
   ]
  },
  {
   "cell_type": "code",
   "execution_count": 31,
   "id": "2a33cfce-dcaf-4274-b32e-9a4412952c19",
   "metadata": {},
   "outputs": [
    {
     "data": {
      "text/plain": [
       "0.002454701128658448"
      ]
     },
     "execution_count": 31,
     "metadata": {},
     "output_type": "execute_result"
    }
   ],
   "source": [
    "cov = covm[0,1]\n",
    "cov"
   ]
  },
  {
   "cell_type": "markdown",
   "id": "f25b2071-4db8-4aea-b89d-8d16d8227cb5",
   "metadata": {},
   "source": [
    "We can use the corrcoef function of numpy to calculate the correlation matrix:"
   ]
  },
  {
   "cell_type": "code",
   "execution_count": 32,
   "id": "a46ef06e-d659-42b3-b6ef-9703524569ee",
   "metadata": {},
   "outputs": [
    {
     "data": {
      "text/plain": [
       "array([[1.        , 0.79072687],\n",
       "       [0.79072687, 1.        ]])"
      ]
     },
     "execution_count": 32,
     "metadata": {},
     "output_type": "execute_result"
    }
   ],
   "source": [
    "corr = np.corrcoef(r['MSFT'],r['GSPC'])\n",
    "corr"
   ]
  },
  {
   "cell_type": "markdown",
   "id": "b1b00fb9-e171-4987-9d3e-311507190f27",
   "metadata": {},
   "source": [
    "The correlation matrix will have +1 in its diagonal since the correlation of one variable with itself is +1. The non-diagonal value will be the actual correlation between the corresponding 2 variables (the one in the row, and the one in the column).\n",
    "\n",
    "We could also manually calculate correlation using the previous covariance:"
   ]
  },
  {
   "cell_type": "code",
   "execution_count": 33,
   "id": "d34ab75f-ed90-484d-8df4-fad6f7bcc2b3",
   "metadata": {},
   "outputs": [
    {
     "data": {
      "text/plain": [
       "0.7907268732031433"
      ]
     },
     "execution_count": 33,
     "metadata": {},
     "output_type": "execute_result"
    }
   ],
   "source": [
    "corr2 = cov / (r['MSFT'].std() * r['GSPC'].std())\n",
    "corr2"
   ]
  },
  {
   "cell_type": "markdown",
   "id": "430a6432-0566-426f-8a42-0428c0b8e0dd",
   "metadata": {},
   "source": [
    "We can use the scipy pearsonr function to calculate correlation and also the 2-tailed pvalue to see whether the correlation is statistically different than zero:"
   ]
  },
  {
   "cell_type": "code",
   "execution_count": 34,
   "id": "8dae950c-2fe5-4709-8420-1419d0cef03a",
   "metadata": {},
   "outputs": [
    {
     "data": {
      "text/plain": [
       "PearsonRResult(statistic=0.7907268732031432, pvalue=1.708313079103979e-10)"
      ]
     },
     "execution_count": 34,
     "metadata": {},
     "output_type": "execute_result"
    }
   ],
   "source": [
    "from scipy.stats import pearsonr\n",
    "corr2 = pearsonr(r['MSFT'],r['GSPC'])\n",
    "corr2"
   ]
  },
  {
   "cell_type": "markdown",
   "id": "cbc42db7-5226-435e-983e-05998eb630d8",
   "metadata": {},
   "source": [
    "The pvalue is almost zero (1.71 * 10^-10) . MSFT and GSPC returns have a positive and very significant correlation (at the 99.9999…% confidence level)."
   ]
  }
 ],
 "metadata": {
  "kernelspec": {
   "display_name": "Python 3 (ipykernel)",
   "language": "python",
   "name": "python3"
  },
  "language_info": {
   "codemirror_mode": {
    "name": "ipython",
    "version": 3
   },
   "file_extension": ".py",
   "mimetype": "text/x-python",
   "name": "python",
   "nbconvert_exporter": "python",
   "pygments_lexer": "ipython3",
   "version": "3.10.4"
  }
 },
 "nbformat": 4,
 "nbformat_minor": 5
}
