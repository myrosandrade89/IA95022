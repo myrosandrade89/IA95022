{
 "cells": [
  {
   "cell_type": "markdown",
   "id": "005a36da-eabc-4653-b37f-e2c0e9e2ad61",
   "metadata": {},
   "source": [
    "# Monte Carlo simulation"
   ]
  },
  {
   "cell_type": "code",
   "execution_count": 1,
   "id": "35acd238-3883-4811-9194-333a4bb15437",
   "metadata": {},
   "outputs": [],
   "source": [
    "#!pip install symbulate\n",
    "from symbulate import *\n",
    "#'exec(%matplotlib inline)' \n",
    "import matplotlib\n",
    "import pandas_datareader as pdr\n",
    "import numpy as np\n",
    "import math\n",
    "\n",
    "import matplotlib.pyplot as plt"
   ]
  },
  {
   "cell_type": "markdown",
   "id": "2874cad9-8a47-463c-89b6-bf7070186bad",
   "metadata": {},
   "source": [
    "# 2.2.1 Simulating numbers with the UNIFORM probability distribution"
   ]
  },
  {
   "cell_type": "code",
   "execution_count": 2,
   "id": "493e18a5-9781-452c-99b1-0b6fa6f4a03e",
   "metadata": {},
   "outputs": [
    {
     "data": {
      "image/png": "[encoded data removed]",
      "text/plain": [
       "<Figure size 432x288 with 1 Axes>"
      ]
     },
     "metadata": {
      "needs_background": "light"
     },
     "output_type": "display_data"
    }
   ],
   "source": [
    "# clear the plot space:\n",
    "plt.clf()\n",
    "# Define the probability type of function as uniform (probability space)\n",
    "P = Uniform(0,40)\n",
    "# Define X as a random variable of the type P (uniform)\n",
    "X =RV(P)\n",
    "# Simulate the values of X and save the in the x array: \n",
    "x=X.sim(10000)\n",
    "x.plot()\n",
    "plt.show()"
   ]
  },
  {
   "cell_type": "markdown",
   "id": "abc8f2d2-2804-453b-84be-142ad2f274ad",
   "metadata": {},
   "source": [
    "# 2.2.2 CHALLENGE\n",
    "A. Calculate the mean and standar deviation of this simulated uniform x variable. How close where these mean and standard deviation from the theoreticla mean and standard deviation?"
   ]
  },
  {
   "cell_type": "code",
   "execution_count": 3,
   "id": "f13b60ee-f584-48d3-831c-1eb9c60d7671",
   "metadata": {},
   "outputs": [
    {
     "name": "stdout",
     "output_type": "stream",
     "text": [
      "Theoretical\n",
      "Mean: 20.0 Std: 11.547005383792516\n",
      "Simulated\n",
      "Mean: 20.00629075864328 Std: 11.50816895526448\n"
     ]
    }
   ],
   "source": [
    "# Calculating the theoretical mean and standard deviation\n",
    "x_mean_theoretical = (0 + 40)/2\n",
    "x_std_theoretical = math.sqrt((40 - 0)**2/12)\n",
    "print('Theoretical')\n",
    "print(f'Mean: {x_mean_theoretical} Std: {x_std_theoretical}')\n",
    "print('Simulated')\n",
    "print(f'Mean: {x.mean()} Std: {x.std()}')"
   ]
  },
  {
   "cell_type": "markdown",
   "id": "68f6661d-431a-447e-8d0c-572deda8796c",
   "metadata": {},
   "source": [
    "IT IS NOT EXACTLY THE SAME RESULT, BUT BOTH, THE THEORETICAL AND SIMULATED VALUES ARE CLOSE TO EACH OTHER. \n",
    "THE DIFFERENCE OCCURS DUE TO THE RANDOM PROCESSES IN THIS SIMULATION."
   ]
  },
  {
   "cell_type": "markdown",
   "id": "2654f0a4-7685-46e5-adb5-8d02430a9406",
   "metadata": {},
   "source": [
    "B. Interpret the above histogram, what do you see? Explain with your words.\n",
    "THE HISTOGRAM REPRESENTS A UNIFORM DISTRIBUTION, WHICH MEANS THAT ALL OUTCOMES (NUMBERS FROM 0 - 40) ARE EQUALLY LIKELY. IT LOOKS APROXIMATELY LIKE A RECTANGLE, WHERE THE BASE IS 40 AND THE HEIGHT APPROXIMATELY 0.025"
   ]
  },
  {
   "cell_type": "markdown",
   "id": "16f30248-e4a6-4ed9-a872-d6a6c7072e9b",
   "metadata": {},
   "source": [
    "Now generate 10,000 groups of 25 uniform random variables to end up in a matrix of 10,000 rows and 25 columns:"
   ]
  },
  {
   "cell_type": "code",
   "execution_count": 4,
   "id": "5f6ea76b-dbad-4b1a-92b4-ca9bbc3e4ee9",
   "metadata": {},
   "outputs": [],
   "source": [
    "# Define the probability space as a vector of 25 uniform random numbers:\n",
    "P = Uniform(0,40) ** 25\n",
    "# Define XVECTOR as a vector of random variables with 25 random values \n",
    "XVECTOR =RV(P)\n",
    "# Simulate 10,000 vectors to get a matrix  \n",
    "xmatrix=XVECTOR.sim(10000)"
   ]
  },
  {
   "cell_type": "markdown",
   "id": "dc2ffff5-dcb6-4124-ae94-dd1e6cca741e",
   "metadata": {},
   "source": [
    "Now xmatrix will have 10,000 rows and 25 columns of uniform random numbers between 0 and 40:"
   ]
  },
  {
   "cell_type": "code",
   "execution_count": 5,
   "id": "b9176e10-7c5b-43e7-9499-664b1914d31e",
   "metadata": {},
   "outputs": [
    {
     "data": {
      "text/html": [
       "\n",
       "    <table>\n",
       "      <thead>\n",
       "        <th width=\"10%\">Index</th>\n",
       "        <th width=\"90%\">Result</th>\n",
       "      </thead>\n",
       "      <tbody>\n",
       "        \n",
       "        <tr>\n",
       "          <td>0</td><td>(13.76917470473086, 19.48767864475512, 30.366788443429563, 13.640668025213811, 3.378774862284173, .....</td>\n",
       "        </tr>\n",
       "        \n",
       "        <tr>\n",
       "          <td>1</td><td>(30.762652326457143, 4.8373741448305285, 25.53222006241288, 30.492402689875266, 11.34778635999242, ....</td>\n",
       "        </tr>\n",
       "        \n",
       "        <tr>\n",
       "          <td>2</td><td>(24.720414450669853, 32.36945294548301, 3.3041888861419233, 16.432263852670054, 37.74356606014309, ....</td>\n",
       "        </tr>\n",
       "        \n",
       "        <tr>\n",
       "          <td>3</td><td>(17.162231488919705, 12.717776678332559, 20.96315912762069, 5.129376817873741, 36.04569462449171, .....</td>\n",
       "        </tr>\n",
       "        \n",
       "        <tr>\n",
       "          <td>4</td><td>(7.869259184762556, 38.249965435128956, 31.8498640453303, 30.715215791692714, 2.8712343582887057, .....</td>\n",
       "        </tr>\n",
       "        \n",
       "        <tr>\n",
       "          <td>5</td><td>(14.227131333091915, 35.09563589138851, 12.906326486073553, 17.420183003635685, 3.8338991428831193, ...</td>\n",
       "        </tr>\n",
       "        \n",
       "        <tr>\n",
       "          <td>6</td><td>(27.575272494329177, 5.558232681001609, 25.308200191690116, 20.00131590276244, 23.600912136400616, ....</td>\n",
       "        </tr>\n",
       "        \n",
       "        <tr>\n",
       "          <td>7</td><td>(2.3023222089799233, 28.044733827311212, 7.268752943470309, 16.88086148346036, 25.702869095433133, ....</td>\n",
       "        </tr>\n",
       "        \n",
       "        <tr>\n",
       "          <td>8</td><td>(9.80413325141145, 31.86379536435918, 7.110354419929963, 8.58242980515696, 13.5031913683967, ..., 36...</td>\n",
       "        </tr>\n",
       "        <tr><td>...</td><td>...</td></tr>\n",
       "        <tr>\n",
       "          <td>9999</td><td>(26.265909385986816, 13.847065782013432, 39.18832172108419, 10.52092963490205, 37.387699635547854, ....</td>\n",
       "        </tr>\n",
       "        \n",
       "      </tbody>\n",
       "    </table>\n",
       "        "
      ],
      "text/plain": [
       "Index Result\n",
       "0     (13.76917470473086, 19.48767864475512, 30.366788443429563, 13.640668025213811, 3.378774862284173, ..., 30.397114785888796)\n",
       "1     (30.762652326457143, 4.8373741448305285, 25.53222006241288, 30.492402689875266, 11.34778635999242, ..., 12.03298300898255)\n",
       "2     (24.720414450669853, 32.36945294548301, 3.3041888861419233, 16.432263852670054, 37.74356606014309, ..., 30.007451582286144)\n",
       "3     (17.162231488919705, 12.717776678332559, 20.96315912762069, 5.129376817873741, 36.04569462449171, ..., 32.127556135572426)\n",
       "4     (7.869259184762556, 38.249965435128956, 31.8498640453303, 30.715215791692714, 2.8712343582887057, ..., 2.7301820181613534)\n",
       "5     (14.227131333091915, 35.09563589138851, 12.906326486073553, 17.420183003635685, 3.8338991428831193, ..., 24.788011574566703)\n",
       "6     (27.575272494329177, 5.558232681001609, 25.308200191690116, 20.00131590276244, 23.600912136400616, ..., 16.141638982517446)\n",
       "7     (2.3023222089799233, 28.044733827311212, 7.268752943470309, 16.88086148346036, 25.702869095433133, ..., 8.021750140075161)\n",
       "8     (9.80413325141145, 31.86379536435918, 7.110354419929963, 8.58242980515696, 13.5031913683967, ..., 36.98424985261677)\n",
       "....  ..........................................................................................................................\n",
       "9999  (26.265909385986816, 13.847065782013432, 39.18832172108419, 10.52092963490205, 37.387699635547854, ..., 32.96736918918206)"
      ]
     },
     "execution_count": 5,
     "metadata": {},
     "output_type": "execute_result"
    }
   ],
   "source": [
    "xmatrix"
   ]
  },
  {
   "cell_type": "markdown",
   "id": "cde137ef-a346-4ea1-abd3-d9b442206616",
   "metadata": {},
   "source": [
    "Now we get the mean of each row, so we end up with 10,000 sample means:"
   ]
  },
  {
   "cell_type": "code",
   "execution_count": 6,
   "id": "9de1851b-4f5b-4f45-98cf-0c21843a55c9",
   "metadata": {},
   "outputs": [
    {
     "data": {
      "text/html": [
       "\n",
       "    <table>\n",
       "      <thead>\n",
       "        <th width=\"10%\">Index</th>\n",
       "        <th width=\"90%\">Result</th>\n",
       "      </thead>\n",
       "      <tbody>\n",
       "        \n",
       "        <tr>\n",
       "          <td>0</td><td>22.685389106566177</td>\n",
       "        </tr>\n",
       "        \n",
       "        <tr>\n",
       "          <td>1</td><td>17.94887181133432</td>\n",
       "        </tr>\n",
       "        \n",
       "        <tr>\n",
       "          <td>2</td><td>15.841994765812387</td>\n",
       "        </tr>\n",
       "        \n",
       "        <tr>\n",
       "          <td>3</td><td>19.28322367710144</td>\n",
       "        </tr>\n",
       "        \n",
       "        <tr>\n",
       "          <td>4</td><td>18.598498443840626</td>\n",
       "        </tr>\n",
       "        \n",
       "        <tr>\n",
       "          <td>5</td><td>18.59280905610948</td>\n",
       "        </tr>\n",
       "        \n",
       "        <tr>\n",
       "          <td>6</td><td>20.72258590344109</td>\n",
       "        </tr>\n",
       "        \n",
       "        <tr>\n",
       "          <td>7</td><td>17.815855594985734</td>\n",
       "        </tr>\n",
       "        \n",
       "        <tr>\n",
       "          <td>8</td><td>19.166620865433533</td>\n",
       "        </tr>\n",
       "        <tr><td>...</td><td>...</td></tr>\n",
       "        <tr>\n",
       "          <td>9999</td><td>21.301727859767396</td>\n",
       "        </tr>\n",
       "        \n",
       "      </tbody>\n",
       "    </table>\n",
       "        "
      ],
      "text/plain": [
       "Index Result\n",
       "0     22.685389106566177\n",
       "1     17.94887181133432\n",
       "2     15.841994765812387\n",
       "3     19.28322367710144\n",
       "4     18.598498443840626\n",
       "5     18.59280905610948\n",
       "6     20.72258590344109\n",
       "7     17.815855594985734\n",
       "8     19.166620865433533\n",
       "....  ..................\n",
       "9999  21.301727859767396"
      ]
     },
     "execution_count": 6,
     "metadata": {},
     "output_type": "execute_result"
    }
   ],
   "source": [
    "# The 2nd parameter is the mathematical operation applied to each row of the random vector\n",
    "# Simulate 10,000 means of each random vector of 25 uniform distributed numbers: \n",
    "xmean = RV(P,mean).sim(10000)\n",
    "xmean"
   ]
  },
  {
   "cell_type": "markdown",
   "id": "d9943301-23df-49af-a65f-d8a144c94065",
   "metadata": {},
   "source": [
    "Now do a histogram of these sample means that come from a UNIFORM distribution."
   ]
  },
  {
   "cell_type": "code",
   "execution_count": 7,
   "id": "764b4ea5-50d1-4e12-8fe6-8237d6505438",
   "metadata": {},
   "outputs": [
    {
     "data": {
      "image/png": "[encoded data removed]",
      "text/plain": [
       "<Figure size 432x288 with 1 Axes>"
      ]
     },
     "metadata": {
      "needs_background": "light"
     },
     "output_type": "display_data"
    }
   ],
   "source": [
    "plt.clf()\n",
    "xmean.plot()\n",
    "plt.show()"
   ]
  },
  {
   "cell_type": "markdown",
   "id": "1ce479a6-5f26-4004-afa0-bfb03ae35ae4",
   "metadata": {},
   "source": [
    "# 2.2.3 CHALLENGE\n",
    "A. Calculate the mean and standard deviation of the xmean variable. How similar or different are these values from the mean and standar deviation of x?"
   ]
  },
  {
   "cell_type": "code",
   "execution_count": 8,
   "id": "cd193fb1-e8c3-43ff-86a5-785b0344a131",
   "metadata": {},
   "outputs": [
    {
     "name": "stdout",
     "output_type": "stream",
     "text": [
      "X\n",
      "Mean: 20.00629075864328 Std: 11.50816895526448\n",
      "xmean\n",
      "Mean: 19.930204930989245 Std: 2.3029913369262447\n"
     ]
    }
   ],
   "source": [
    "print('X')\n",
    "print(f'Mean: {x.mean()} Std: {x.std()}')\n",
    "print('xmean')\n",
    "print(f'Mean: {xmean.mean()} Std: {xmean.std()}')"
   ]
  },
  {
   "cell_type": "markdown",
   "id": "e5ec66c8-63b1-483d-a04c-c2a627965855",
   "metadata": {},
   "source": [
    "WE CAN CLEARLY REALIZE THAT THERE IS BASICALLY NO DIFFERENCE BETWEEN THE MEAN, THE MAIN DIFFERENCE IS BETWEEN THE STANDARD DEVIATIONS. THIS IS CAUSED BECAUSE OF THE AGGREGATION OF EACH GROUP BY ITS MEAN."
   ]
  },
  {
   "cell_type": "markdown",
   "id": "17cf518b-9b9f-49e8-9829-ec87cee5c826",
   "metadata": {},
   "source": [
    "B. What do you see in the above histogram? Does the histogram of sample means of uniform random variable look like a uniform distributed variable? Do you see a logic? Briefly explain what you think. \n",
    "\n",
    "NO, THE HISTOGRAM LOOKS LIKE A NORMAL DISTRIBUTION AND THIS HAPPENS BEACUSE WE ARE PLOTTING THE MEAN OF THE GROUPS, WHICH MAKES VALUES CLOSER TO THE OVERALL MEAN."
   ]
  },
  {
   "cell_type": "markdown",
   "id": "61359168-9daf-4a4c-861b-2962fd584cf8",
   "metadata": {},
   "source": [
    "Now plot both variables in the same plot; the original x uniform variable and the xsample variable (the sample means of x)."
   ]
  },
  {
   "cell_type": "code",
   "execution_count": 9,
   "id": "a94668ad-049e-4f20-9bae-e8dd7b01a220",
   "metadata": {},
   "outputs": [
    {
     "data": {
      "image/png": "[encoded data removed]",
      "text/plain": [
       "<Figure size 432x288 with 1 Axes>"
      ]
     },
     "metadata": {
      "needs_background": "light"
     },
     "output_type": "display_data"
    }
   ],
   "source": [
    "plt.clf()\n",
    "xmean.plot()\n",
    "x.plot()\n",
    "plt.show()"
   ]
  },
  {
   "cell_type": "markdown",
   "id": "9fda7d97-c7c4-4783-b07f-3c2da8b4d625",
   "metadata": {},
   "source": [
    "C. What do you see? How the histogram of x differs from the histogram of the sample of x?\n",
    "THE BLUE HISTOGRAM REPRESENTS A NORMAL DISTRIBUTION (BELL-SHAPED), MEANWHILE THE ORANGE HISTOGRAM REPRESENTS A UNIFORM DISTRIBUTION."
   ]
  },
  {
   "cell_type": "markdown",
   "id": "a3902aa4-9d05-48b1-88c1-3f31d9ec0b0e",
   "metadata": {},
   "source": [
    "# 2.2.4 Simulating numbers with the NORMAL probability distribution\n",
    "Let’s simulate a normal distributed variable Y with mean = 20 and standard devation = 10."
   ]
  },
  {
   "cell_type": "code",
   "execution_count": 10,
   "id": "786526ee-c986-4bec-b97f-a935449e6dfd",
   "metadata": {},
   "outputs": [
    {
     "data": {
      "image/png": "[encoded data removed]",
      "text/plain": [
       "<Figure size 432x288 with 1 Axes>"
      ]
     },
     "metadata": {
      "needs_background": "light"
     },
     "output_type": "display_data"
    }
   ],
   "source": [
    "# clear the plot space:\n",
    "plt.clf()\n",
    "# Define the probability type of function as uniform (probability space)\n",
    "P = Normal(mean=20, sd=10)\n",
    "# Define Y as a random variable of the type P (normal)\n",
    "Y =RV(P)\n",
    "# Simulate 10,000 values of Y and save the in the x array: \n",
    "y=Y.sim(10000)\n",
    "y.plot()\n",
    "plt.show()"
   ]
  },
  {
   "cell_type": "markdown",
   "id": "8145c3af-00e5-4fc4-834c-3ba4797bf01d",
   "metadata": {},
   "source": [
    "# 2.2.5 CHALLENGE"
   ]
  },
  {
   "cell_type": "markdown",
   "id": "dab66379-7114-45be-8da0-6c5ec68a7247",
   "metadata": {},
   "source": [
    "A. Calculate the mean and standard deviation of this random y variable. How similar or different are these values from the mean and standard deviation of the theorical mean (20) and theorical standard deviation (10)?"
   ]
  },
  {
   "cell_type": "code",
   "execution_count": 11,
   "id": "88c79003-1ca2-4224-91f8-20e40364daa4",
   "metadata": {},
   "outputs": [
    {
     "name": "stdout",
     "output_type": "stream",
     "text": [
      "Y\n",
      "Mean: 19.990536218618626 Std: 10.06905488294486\n",
      "Theoretical\n",
      "Mean: 20, Std: 10\n"
     ]
    }
   ],
   "source": [
    "print('Y')\n",
    "print(f'Mean: {y.mean()} Std: {y.std()}')\n",
    "print(\"Theoretical\")\n",
    "print(\"Mean: 20, Std: 10\")"
   ]
  },
  {
   "cell_type": "markdown",
   "id": "df0df236-41bc-4cc4-be44-732706960d00",
   "metadata": {},
   "source": [
    "BOTH RESULTS ARE QUITE SIMILAR BECAUSE WE ARE GENERATING THE NORMAL DISTRIBUTION FROM THE SAME VALUES."
   ]
  },
  {
   "cell_type": "markdown",
   "id": "ae234964-d380-40a5-939a-8119601102f3",
   "metadata": {},
   "source": [
    "B. What do you see? Interpet the histogram with your words.\n",
    "\n",
    "GIVEN THIS NORMAL DISTRIBUTION, WE CAN OBSERVE THAT THE VALUES ARE CLOSE TO THE PROVIDED MEAN."
   ]
  },
  {
   "cell_type": "code",
   "execution_count": 12,
   "id": "35adb1b9-1ef6-4a4b-95e4-31832f4e4f59",
   "metadata": {},
   "outputs": [],
   "source": [
    "# Define the probability space P as a vector of 25 normal random numbers:\n",
    "P = Normal(mean=20, sd=10) ** 25\n",
    "# Define RANDOMVECTOR as a vector of 25 random variables in the Probability space P \n",
    "RANDOMVECTOR = RV(P)\n",
    "# Simulate 10,000 random vectors with this distribution and save the in ymatrix: \n",
    "ymatrix=RANDOMVECTOR.sim(10000)"
   ]
  },
  {
   "cell_type": "markdown",
   "id": "5a281343-1843-418d-932b-250df9432c3d",
   "metadata": {},
   "source": [
    "Now ymatrix will have 10,000 rows and 25 columns of NORMAL random numbers with mean=20 and SD=10:"
   ]
  },
  {
   "cell_type": "code",
   "execution_count": 13,
   "id": "abca7ee1-c963-4450-8b59-f1ec4bc0aaa8",
   "metadata": {},
   "outputs": [
    {
     "data": {
      "text/html": [
       "\n",
       "    <table>\n",
       "      <thead>\n",
       "        <th width=\"10%\">Index</th>\n",
       "        <th width=\"90%\">Result</th>\n",
       "      </thead>\n",
       "      <tbody>\n",
       "        \n",
       "        <tr>\n",
       "          <td>0</td><td>(24.840450304690183, 29.150614598114423, 10.269640297879445, 20.62002755760523, 16.054673507506827, ...</td>\n",
       "        </tr>\n",
       "        \n",
       "        <tr>\n",
       "          <td>1</td><td>(13.666144557466728, 26.34632886112014, 24.66729887455734, 16.077639215844293, 49.67905433575329, .....</td>\n",
       "        </tr>\n",
       "        \n",
       "        <tr>\n",
       "          <td>2</td><td>(20.393240424959057, 32.38384145607086, 14.455125269129216, -2.99134005743273, 11.369749869998099, ....</td>\n",
       "        </tr>\n",
       "        \n",
       "        <tr>\n",
       "          <td>3</td><td>(-6.6727964193610205, 30.31793377010457, 13.602423559776492, 14.03221239337299, 3.840266954344017, ....</td>\n",
       "        </tr>\n",
       "        \n",
       "        <tr>\n",
       "          <td>4</td><td>(16.84596389322079, 22.3880488811944, 7.473879662046459, 4.28738887257283, 39.80170513297249, ..., 1...</td>\n",
       "        </tr>\n",
       "        \n",
       "        <tr>\n",
       "          <td>5</td><td>(9.191727418498846, 22.1230757723272, 21.910282746518774, 23.911044019895904, 22.878188460019356, .....</td>\n",
       "        </tr>\n",
       "        \n",
       "        <tr>\n",
       "          <td>6</td><td>(11.12248820804335, 20.584661771078828, 4.214063389698833, -1.0697003501170244, 15.374691588389684, ...</td>\n",
       "        </tr>\n",
       "        \n",
       "        <tr>\n",
       "          <td>7</td><td>(18.24367537398469, 24.797524989283588, 46.66544960771604, 6.560839035421038, 36.45155104684904, ......</td>\n",
       "        </tr>\n",
       "        \n",
       "        <tr>\n",
       "          <td>8</td><td>(25.148163441711993, 31.318528780110192, 6.999073929936792, 20.00754779252645, 22.206783566790428, ....</td>\n",
       "        </tr>\n",
       "        <tr><td>...</td><td>...</td></tr>\n",
       "        <tr>\n",
       "          <td>9999</td><td>(22.299199001881032, 0.6497965564098749, 27.326270009431205, 39.33402315340365, 33.251662198898586, ...</td>\n",
       "        </tr>\n",
       "        \n",
       "      </tbody>\n",
       "    </table>\n",
       "        "
      ],
      "text/plain": [
       "Index Result\n",
       "0     (24.840450304690183, 29.150614598114423, 10.269640297879445, 20.62002755760523, 16.054673507506827, ..., 12.135688519270392)\n",
       "1     (13.666144557466728, 26.34632886112014, 24.66729887455734, 16.077639215844293, 49.67905433575329, ..., 17.141424198074702)\n",
       "2     (20.393240424959057, 32.38384145607086, 14.455125269129216, -2.99134005743273, 11.369749869998099, ..., 28.085213477225867)\n",
       "3     (-6.6727964193610205, 30.31793377010457, 13.602423559776492, 14.03221239337299, 3.840266954344017, ..., 9.895876425633823)\n",
       "4     (16.84596389322079, 22.3880488811944, 7.473879662046459, 4.28738887257283, 39.80170513297249, ..., 18.017333096734056)\n",
       "5     (9.191727418498846, 22.1230757723272, 21.910282746518774, 23.911044019895904, 22.878188460019356, ..., 28.59394316063237)\n",
       "6     (11.12248820804335, 20.584661771078828, 4.214063389698833, -1.0697003501170244, 15.374691588389684, ..., 16.77824813556976)\n",
       "7     (18.24367537398469, 24.797524989283588, 46.66544960771604, 6.560839035421038, 36.45155104684904, ..., 28.08812286012334)\n",
       "8     (25.148163441711993, 31.318528780110192, 6.999073929936792, 20.00754779252645, 22.206783566790428, ..., 26.3597403760121)\n",
       "....  ...........................................................................................................................\n",
       "9999  (22.299199001881032, 0.6497965564098749, 27.326270009431205, 39.33402315340365, 33.251662198898586, ..., 43.96081681107194)"
      ]
     },
     "execution_count": 13,
     "metadata": {},
     "output_type": "execute_result"
    }
   ],
   "source": [
    "ymatrix"
   ]
  },
  {
   "cell_type": "markdown",
   "id": "a9b081b2-5415-4622-916a-f5d442d87c18",
   "metadata": {},
   "source": [
    "Now we get the mean of each vector (row) to get 10,000 sample means:"
   ]
  },
  {
   "cell_type": "code",
   "execution_count": 14,
   "id": "4255108d-b8e9-40df-87c5-173a467898b9",
   "metadata": {},
   "outputs": [
    {
     "data": {
      "text/html": [
       "\n",
       "    <table>\n",
       "      <thead>\n",
       "        <th width=\"10%\">Index</th>\n",
       "        <th width=\"90%\">Result</th>\n",
       "      </thead>\n",
       "      <tbody>\n",
       "        \n",
       "        <tr>\n",
       "          <td>0</td><td>20.248811165951697</td>\n",
       "        </tr>\n",
       "        \n",
       "        <tr>\n",
       "          <td>1</td><td>20.06907684880074</td>\n",
       "        </tr>\n",
       "        \n",
       "        <tr>\n",
       "          <td>2</td><td>17.951281922574434</td>\n",
       "        </tr>\n",
       "        \n",
       "        <tr>\n",
       "          <td>3</td><td>23.504987966904995</td>\n",
       "        </tr>\n",
       "        \n",
       "        <tr>\n",
       "          <td>4</td><td>17.492000543335262</td>\n",
       "        </tr>\n",
       "        \n",
       "        <tr>\n",
       "          <td>5</td><td>18.630012977006032</td>\n",
       "        </tr>\n",
       "        \n",
       "        <tr>\n",
       "          <td>6</td><td>23.909702978069454</td>\n",
       "        </tr>\n",
       "        \n",
       "        <tr>\n",
       "          <td>7</td><td>22.580991438403313</td>\n",
       "        </tr>\n",
       "        \n",
       "        <tr>\n",
       "          <td>8</td><td>21.293606662722876</td>\n",
       "        </tr>\n",
       "        <tr><td>...</td><td>...</td></tr>\n",
       "        <tr>\n",
       "          <td>9999</td><td>18.581837906927664</td>\n",
       "        </tr>\n",
       "        \n",
       "      </tbody>\n",
       "    </table>\n",
       "        "
      ],
      "text/plain": [
       "Index Result\n",
       "0     20.248811165951697\n",
       "1     20.06907684880074\n",
       "2     17.951281922574434\n",
       "3     23.504987966904995\n",
       "4     17.492000543335262\n",
       "5     18.630012977006032\n",
       "6     23.909702978069454\n",
       "7     22.580991438403313\n",
       "8     21.293606662722876\n",
       "....  ..................\n",
       "9999  18.581837906927664"
      ]
     },
     "execution_count": 14,
     "metadata": {},
     "output_type": "execute_result"
    }
   ],
   "source": [
    "# The 2nd parameter is the mathematical operation applied to each row of the random vector\n",
    "# Simulate 10,000 means of each random vector of 25 uniform distributed numbers: \n",
    "ymean = RV(P,mean).sim(10000)\n",
    "ymean"
   ]
  },
  {
   "cell_type": "code",
   "execution_count": 15,
   "id": "880e6962-ce5b-4bf2-b10b-79af1987e6f3",
   "metadata": {},
   "outputs": [
    {
     "data": {
      "image/png": "[encoded data removed]",
      "text/plain": [
       "<Figure size 432x288 with 1 Axes>"
      ]
     },
     "metadata": {
      "needs_background": "light"
     },
     "output_type": "display_data"
    }
   ],
   "source": [
    "# Now do a histogram of these sample means of Y.\n",
    "plt.clf()\n",
    "ymean.plot()\n",
    "plt.show()"
   ]
  },
  {
   "cell_type": "markdown",
   "id": "ca6c55b2-6642-4bef-bb81-472794d40db3",
   "metadata": {},
   "source": [
    "# 2.2.6 CHALLENGE"
   ]
  },
  {
   "cell_type": "markdown",
   "id": "0d3d31ea-9b2c-45eb-8a3e-9e0f71fd387c",
   "metadata": {},
   "source": [
    "A. Calculate the mean and the standard deviation of the ymean variable. How similar or different are these values from the mean and standard deviation of y?"
   ]
  },
  {
   "cell_type": "code",
   "execution_count": 16,
   "id": "dc404eef-263b-4cf7-a1fd-f644cb3299d2",
   "metadata": {},
   "outputs": [
    {
     "name": "stdout",
     "output_type": "stream",
     "text": [
      "Y\n",
      "Mean: 19.990536218618626 Std: 10.06905488294486\n",
      "ymean\n",
      "Mean: 19.96102149144333 Std: 1.9928311464671151\n"
     ]
    }
   ],
   "source": [
    "print('Y')\n",
    "print(f'Mean: {y.mean()} Std: {y.std()}')\n",
    "print('ymean')\n",
    "print(f'Mean: {ymean.mean()} Std: {ymean.std()}')"
   ]
  },
  {
   "cell_type": "markdown",
   "id": "97780c9c-c59a-4d95-9f88-a34ad7f2868b",
   "metadata": {},
   "source": [
    "WE CAN CLEARLY REALIZE THAT THERE IS BASICALLY NO DIFFERENCE BETWEEN THE MEAN, THE MAIN DIFFERENCE IS BETWEEN THE STANDARD DEVIATIONS. THIS IS CAUSED BECAUSE OF THE AGGREGATION OF EACH GROUP BY ITS MEAN."
   ]
  },
  {
   "cell_type": "markdown",
   "id": "649cd50e-6145-4437-a507-24c6c7889d9a",
   "metadata": {},
   "source": [
    "B. Interpret the above histogram of the samples of y.\n",
    "\n",
    "THE HISTOGRAM REPRESENTS A NORMAL DISTRIBUTION, WHERE THE STANDARD DEVIATION IS SMALLER THAN THE ORIGINAL ONE AND THIS IS CAUSED BECAUSE OF THE GROUPING, WHICH MAKES VALUES TO BE CLOSER TO THE MEAN."
   ]
  },
  {
   "cell_type": "code",
   "execution_count": 17,
   "id": "b003f53c-24ca-456a-a10a-973b5ec62ee5",
   "metadata": {},
   "outputs": [
    {
     "data": {
      "image/png": "[encoded data removed]",
      "text/plain": [
       "<Figure size 432x288 with 1 Axes>"
      ]
     },
     "metadata": {
      "needs_background": "light"
     },
     "output_type": "display_data"
    }
   ],
   "source": [
    "plt.clf()\n",
    "ymean.plot()\n",
    "y.plot()\n",
    "plt.show()"
   ]
  },
  {
   "cell_type": "markdown",
   "id": "789da7d2-caa5-4a07-9297-e3cebd64afc8",
   "metadata": {},
   "source": [
    "C. What do you see? Compare both histograms, briefly explain what you think that happened.\n",
    "\n",
    "THE GROUPING IN THE LAST NORMAL DISTRIBUTION CAUSES IT TO HAVE A HIGHER DENSITY AROUND THE MEAN AND LESS SPREAD ACROSS THE X-VALUES. "
   ]
  },
  {
   "cell_type": "markdown",
   "id": "299a1f71-493e-45cc-a1ab-ccf6f4dcb690",
   "metadata": {},
   "source": [
    "# 4.1 CHALLENGE"
   ]
  },
  {
   "cell_type": "code",
   "execution_count": 18,
   "id": "15fc39e9-dbb5-4f1d-83e7-0785331beebd",
   "metadata": {},
   "outputs": [
    {
     "data": {
      "text/html": [
       "<div>\n",
       "<style scoped>\n",
       "    .dataframe tbody tr th:only-of-type {\n",
       "        vertical-align: middle;\n",
       "    }\n",
       "\n",
       "    .dataframe tbody tr th {\n",
       "        vertical-align: top;\n",
       "    }\n",
       "\n",
       "    .dataframe thead th {\n",
       "        text-align: right;\n",
       "    }\n",
       "</style>\n",
       "<table border=\"1\" class=\"dataframe\">\n",
       "  <thead>\n",
       "    <tr style=\"text-align: right;\">\n",
       "      <th></th>\n",
       "      <th>High</th>\n",
       "      <th>Low</th>\n",
       "      <th>Open</th>\n",
       "      <th>Close</th>\n",
       "      <th>Volume</th>\n",
       "      <th>Adj Close</th>\n",
       "    </tr>\n",
       "    <tr>\n",
       "      <th>Date</th>\n",
       "      <th></th>\n",
       "      <th></th>\n",
       "      <th></th>\n",
       "      <th></th>\n",
       "      <th></th>\n",
       "      <th></th>\n",
       "    </tr>\n",
       "  </thead>\n",
       "  <tbody>\n",
       "    <tr>\n",
       "      <th>2017-07-01</th>\n",
       "      <td>74.419998</td>\n",
       "      <td>68.019997</td>\n",
       "      <td>69.330002</td>\n",
       "      <td>72.699997</td>\n",
       "      <td>469851200.0</td>\n",
       "      <td>68.094749</td>\n",
       "    </tr>\n",
       "    <tr>\n",
       "      <th>2017-08-01</th>\n",
       "      <td>74.959999</td>\n",
       "      <td>71.279999</td>\n",
       "      <td>73.099998</td>\n",
       "      <td>74.769997</td>\n",
       "      <td>444070500.0</td>\n",
       "      <td>70.033607</td>\n",
       "    </tr>\n",
       "    <tr>\n",
       "      <th>2017-09-01</th>\n",
       "      <td>75.970001</td>\n",
       "      <td>72.919998</td>\n",
       "      <td>74.709999</td>\n",
       "      <td>74.489998</td>\n",
       "      <td>375983900.0</td>\n",
       "      <td>70.143066</td>\n",
       "    </tr>\n",
       "    <tr>\n",
       "      <th>2017-10-01</th>\n",
       "      <td>86.199997</td>\n",
       "      <td>73.709999</td>\n",
       "      <td>74.709999</td>\n",
       "      <td>83.180000</td>\n",
       "      <td>449950000.0</td>\n",
       "      <td>78.325966</td>\n",
       "    </tr>\n",
       "    <tr>\n",
       "      <th>2017-11-01</th>\n",
       "      <td>85.059998</td>\n",
       "      <td>82.239998</td>\n",
       "      <td>83.680000</td>\n",
       "      <td>84.169998</td>\n",
       "      <td>421926000.0</td>\n",
       "      <td>79.258194</td>\n",
       "    </tr>\n",
       "    <tr>\n",
       "      <th>...</th>\n",
       "      <td>...</td>\n",
       "      <td>...</td>\n",
       "      <td>...</td>\n",
       "      <td>...</td>\n",
       "      <td>...</td>\n",
       "      <td>...</td>\n",
       "    </tr>\n",
       "    <tr>\n",
       "      <th>2022-03-01</th>\n",
       "      <td>315.950012</td>\n",
       "      <td>270.000000</td>\n",
       "      <td>296.399994</td>\n",
       "      <td>308.309998</td>\n",
       "      <td>734334200.0</td>\n",
       "      <td>307.593567</td>\n",
       "    </tr>\n",
       "    <tr>\n",
       "      <th>2022-04-01</th>\n",
       "      <td>315.109985</td>\n",
       "      <td>270.000000</td>\n",
       "      <td>309.369995</td>\n",
       "      <td>277.519989</td>\n",
       "      <td>627343400.0</td>\n",
       "      <td>276.875122</td>\n",
       "    </tr>\n",
       "    <tr>\n",
       "      <th>2022-05-01</th>\n",
       "      <td>290.880005</td>\n",
       "      <td>246.440002</td>\n",
       "      <td>277.709991</td>\n",
       "      <td>271.869995</td>\n",
       "      <td>742902000.0</td>\n",
       "      <td>271.238251</td>\n",
       "    </tr>\n",
       "    <tr>\n",
       "      <th>2022-06-01</th>\n",
       "      <td>277.690002</td>\n",
       "      <td>241.509995</td>\n",
       "      <td>275.200012</td>\n",
       "      <td>256.829987</td>\n",
       "      <td>621372300.0</td>\n",
       "      <td>256.829987</td>\n",
       "    </tr>\n",
       "    <tr>\n",
       "      <th>2022-07-01</th>\n",
       "      <td>282.000000</td>\n",
       "      <td>245.940002</td>\n",
       "      <td>256.390015</td>\n",
       "      <td>280.739990</td>\n",
       "      <td>534868400.0</td>\n",
       "      <td>280.739990</td>\n",
       "    </tr>\n",
       "  </tbody>\n",
       "</table>\n",
       "<p>61 rows × 6 columns</p>\n",
       "</div>"
      ],
      "text/plain": [
       "                  High         Low        Open       Close       Volume  \\\n",
       "Date                                                                      \n",
       "2017-07-01   74.419998   68.019997   69.330002   72.699997  469851200.0   \n",
       "2017-08-01   74.959999   71.279999   73.099998   74.769997  444070500.0   \n",
       "2017-09-01   75.970001   72.919998   74.709999   74.489998  375983900.0   \n",
       "2017-10-01   86.199997   73.709999   74.709999   83.180000  449950000.0   \n",
       "2017-11-01   85.059998   82.239998   83.680000   84.169998  421926000.0   \n",
       "...                ...         ...         ...         ...          ...   \n",
       "2022-03-01  315.950012  270.000000  296.399994  308.309998  734334200.0   \n",
       "2022-04-01  315.109985  270.000000  309.369995  277.519989  627343400.0   \n",
       "2022-05-01  290.880005  246.440002  277.709991  271.869995  742902000.0   \n",
       "2022-06-01  277.690002  241.509995  275.200012  256.829987  621372300.0   \n",
       "2022-07-01  282.000000  245.940002  256.390015  280.739990  534868400.0   \n",
       "\n",
       "             Adj Close  \n",
       "Date                    \n",
       "2017-07-01   68.094749  \n",
       "2017-08-01   70.033607  \n",
       "2017-09-01   70.143066  \n",
       "2017-10-01   78.325966  \n",
       "2017-11-01   79.258194  \n",
       "...                ...  \n",
       "2022-03-01  307.593567  \n",
       "2022-04-01  276.875122  \n",
       "2022-05-01  271.238251  \n",
       "2022-06-01  256.829987  \n",
       "2022-07-01  280.739990  \n",
       "\n",
       "[61 rows x 6 columns]"
      ]
     },
     "execution_count": 18,
     "metadata": {},
     "output_type": "execute_result"
    }
   ],
   "source": [
    "# Collecting the real data from returns of MSFT from July 2019 until July 2022\n",
    "MSFT = pdr.get_data_yahoo(\"MSFT\", start = \"2017-07-01\", end = \"2022-06-30\", interval = \"m\")\n",
    "MSFT"
   ]
  },
  {
   "cell_type": "code",
   "execution_count": 19,
   "id": "4b655bf7-e8b3-4411-8e40-21a8c415be1b",
   "metadata": {},
   "outputs": [],
   "source": [
    "# Null: mean of monthly cc <= 0. Alternative mean of monthly return > 0"
   ]
  },
  {
   "cell_type": "code",
   "execution_count": 20,
   "id": "029af362-8e08-42e4-8a46-c0df63ca5d46",
   "metadata": {},
   "outputs": [],
   "source": [
    "# Calculating the monthly cc returns\n",
    "MSFT[\"r\"] = (np.log(MSFT[\"Adj Close\"]) - np.log(MSFT[\"Adj Close\"].shift(1)))"
   ]
  },
  {
   "cell_type": "code",
   "execution_count": 21,
   "id": "d905ac56-de3d-416b-a91d-38bab79b95c3",
   "metadata": {},
   "outputs": [
    {
     "data": {
      "image/png": "[encoded data removed]",
      "text/plain": [
       "<Figure size 432x288 with 1 Axes>"
      ]
     },
     "metadata": {
      "needs_background": "light"
     },
     "output_type": "display_data"
    }
   ],
   "source": [
    "# Plotting the cc returns\n",
    "plt.hist(MSFT['r'], bins=15)\n",
    "plt.show()"
   ]
  },
  {
   "cell_type": "code",
   "execution_count": 22,
   "id": "64b23522-86eb-453e-a83b-8a3d9b48cc35",
   "metadata": {},
   "outputs": [
    {
     "data": {
      "text/plain": [
       "0.02360881382858581"
      ]
     },
     "execution_count": 22,
     "metadata": {},
     "output_type": "execute_result"
    }
   ],
   "source": [
    "# We calculate the mean\n",
    "MSFT_mean = MSFT['r'].mean()\n",
    "MSFT_mean"
   ]
  },
  {
   "cell_type": "code",
   "execution_count": 23,
   "id": "f6962ddf-eac5-4f1b-9b9e-51a05b7c8969",
   "metadata": {},
   "outputs": [
    {
     "data": {
      "text/plain": [
       "0.05710432215164199"
      ]
     },
     "execution_count": 23,
     "metadata": {},
     "output_type": "execute_result"
    }
   ],
   "source": [
    "# Calculate the std\n",
    "MSFT_std = MSFT['r'].std()\n",
    "MSFT_std\n"
   ]
  },
  {
   "cell_type": "code",
   "execution_count": 24,
   "id": "5ec1bd15-3c77-4f54-9c97-7b9f361044d9",
   "metadata": {},
   "outputs": [
    {
     "data": {
      "text/plain": [
       "0.007372136289659091"
      ]
     },
     "execution_count": 24,
     "metadata": {},
     "output_type": "execute_result"
    }
   ],
   "source": [
    "# Calculate the grouped std\n",
    "MSFT_std_grouped = MSFT_std / math.sqrt(MSFT['r'].count())\n",
    "MSFT_std_grouped"
   ]
  },
  {
   "cell_type": "code",
   "execution_count": 25,
   "id": "4fc05a90-9235-4bec-ba61-4b3323e536f9",
   "metadata": {},
   "outputs": [
    {
     "data": {
      "text/plain": [
       "3.2024386013728394"
      ]
     },
     "execution_count": 25,
     "metadata": {},
     "output_type": "execute_result"
    }
   ],
   "source": [
    "# Calculating the t-statistic\n",
    "t_statistic = (MSFT_mean - 0) / MSFT_std_grouped\n",
    "t_statistic"
   ]
  },
  {
   "cell_type": "code",
   "execution_count": 26,
   "id": "477864b2-1b6b-4eb5-977e-aac40017e897",
   "metadata": {},
   "outputs": [
    {
     "data": {
      "text/plain": [
       "0.00886454124926763"
      ]
     },
     "execution_count": 26,
     "metadata": {},
     "output_type": "execute_result"
    }
   ],
   "source": [
    "# min(95% C.I.)\n",
    "MIN_CI = MSFT_mean - 2 * (MSFT_std_grouped)\n",
    "MIN_CI"
   ]
  },
  {
   "cell_type": "code",
   "execution_count": 27,
   "id": "4008cd5d-6aac-40b5-a217-d8a8070e407b",
   "metadata": {},
   "outputs": [
    {
     "data": {
      "text/plain": [
       "0.03835308640790399"
      ]
     },
     "execution_count": 27,
     "metadata": {},
     "output_type": "execute_result"
    }
   ],
   "source": [
    "# max(95% C.I.)\n",
    "MAX_CI = MSFT_mean + 2 * (MSFT_std_grouped)\n",
    "MAX_CI"
   ]
  },
  {
   "cell_type": "markdown",
   "id": "8d6c17ab-df52-4ba3-845c-9b96ae141e2a",
   "metadata": {},
   "source": [
    "THE RESULT IS THAT THE DIFFERENCE BETWEEN THE TWO MEANS IS 3.20 STANDARD DEVIATIONS. THUS, THE ALTERNATIVE HYPOTHESIS CAN BE CONFIRMED IN 99.7% OF THE TIMES."
   ]
  },
  {
   "cell_type": "code",
   "execution_count": 28,
   "id": "bad1ca93-8c07-4b29-a236-6ec5eb0d220f",
   "metadata": {},
   "outputs": [],
   "source": [
    "# MSFT_month = MSFT.groupby(MSFT.index.strftime('%Y-%m'))"
   ]
  }
 ],
 "metadata": {
  "kernelspec": {
   "display_name": "Python 3 (ipykernel)",
   "language": "python",
   "name": "python3"
  },
  "language_info": {
   "codemirror_mode": {
    "name": "ipython",
    "version": 3
   },
   "file_extension": ".py",
   "mimetype": "text/x-python",
   "name": "python",
   "nbconvert_exporter": "python",
   "pygments_lexer": "ipython3",
   "version": "3.10.4"
  }
 },
 "nbformat": 4,
 "nbformat_minor": 5
}
