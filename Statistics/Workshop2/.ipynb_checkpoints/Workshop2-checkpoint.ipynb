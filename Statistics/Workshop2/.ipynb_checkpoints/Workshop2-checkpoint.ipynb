{
 "cells": [
  {
   "cell_type": "markdown",
   "id": "005a36da-eabc-4653-b37f-e2c0e9e2ad61",
   "metadata": {},
   "source": [
    "# Monte Carlo simulation"
   ]
  },
  {
   "cell_type": "code",
   "execution_count": 1,
   "id": "35acd238-3883-4811-9194-333a4bb15437",
   "metadata": {},
   "outputs": [],
   "source": [
    "#!pip install symbulate\n",
    "from symbulate import *\n",
    "#'exec(%matplotlib inline)' \n",
    "import matplotlib\n",
    "import pandas_datareader as pdr\n",
    "import numpy as np\n",
    "import math\n",
    "\n",
    "import matplotlib.pyplot as plt"
   ]
  },
  {
   "cell_type": "markdown",
   "id": "2874cad9-8a47-463c-89b6-bf7070186bad",
   "metadata": {},
   "source": [
    "# 2.2.1 Simulating numbers with the UNIFORM probability distribution"
   ]
  },
  {
   "cell_type": "code",
   "execution_count": 2,
   "id": "493e18a5-9781-452c-99b1-0b6fa6f4a03e",
   "metadata": {},
   "outputs": [
    {
     "data": {
      "image/png": "[encoded data removed]",
      "text/plain": [
       "<Figure size 432x288 with 1 Axes>"
      ]
     },
     "metadata": {
      "needs_background": "light"
     },
     "output_type": "display_data"
    }
   ],
   "source": [
    "# clear the plot space:\n",
    "plt.clf()\n",
    "# Define the probability type of function as uniform (probability space)\n",
    "P = Uniform(0,40)\n",
    "# Define X as a random variable of the type P (uniform)\n",
    "X =RV(P)\n",
    "# Simulate the values of X and save the in the x array: \n",
    "x=X.sim(10000)\n",
    "x.plot()\n",
    "plt.show()"
   ]
  },
  {
   "cell_type": "markdown",
   "id": "abc8f2d2-2804-453b-84be-142ad2f274ad",
   "metadata": {},
   "source": [
    "# 2.2.2 CHALLENGE\n",
    "A. Calculate the mean and standar deviation of this simulated uniform x variable. How close where these mean and standard deviation from the theoreticla mean and standard deviation?"
   ]
  },
  {
   "cell_type": "code",
   "execution_count": 3,
   "id": "f13b60ee-f584-48d3-831c-1eb9c60d7671",
   "metadata": {},
   "outputs": [
    {
     "name": "stdout",
     "output_type": "stream",
     "text": [
      "Theoretical\n",
      "Mean: 20.0 Std: 11.547005383792516\n",
      "Simulated\n",
      "Mean: 20.011135198444308 Std: 11.538115121837953\n"
     ]
    }
   ],
   "source": [
    "# Calculating the theoretical mean and standard deviation\n",
    "x_mean_theoretical = (0 + 40)/2\n",
    "x_std_theoretical = math.sqrt((40 - 0)**2/12)\n",
    "print('Theoretical')\n",
    "print(f'Mean: {x_mean_theoretical} Std: {x_std_theoretical}')\n",
    "print('Simulated')\n",
    "print(f'Mean: {x.mean()} Std: {x.std()}')"
   ]
  },
  {
   "cell_type": "markdown",
   "id": "68f6661d-431a-447e-8d0c-572deda8796c",
   "metadata": {},
   "source": [
    "IT IS NOT EXACTLY THE SAME RESULT, BUT BOTH, THE THEORETICAL AND SIMULATED VALUES ARE CLOSE TO EACH OTHER. \n",
    "THE DIFFERENCE OCCURS DUE TO THE RANDOM PROCESSES IN THIS SIMULATION."
   ]
  },
  {
   "cell_type": "markdown",
   "id": "2654f0a4-7685-46e5-adb5-8d02430a9406",
   "metadata": {},
   "source": [
    "B. Interpret the above histogram, what do you see? Explain with your words.\n",
    "THE HISTOGRAM REPRESENTS A UNIFORM DISTRIBUTION, WHICH MEANS THAT ALL OUTCOMES (NUMBERS FROM 0 - 40) ARE EQUALLY LIKELY. IT LOOKS APROXIMATELY LIKE A RECTANGLE, WHERE THE BASE IS 40 AND THE HEIGHT APPROXIMATELY 0.025"
   ]
  },
  {
   "cell_type": "markdown",
   "id": "16f30248-e4a6-4ed9-a872-d6a6c7072e9b",
   "metadata": {},
   "source": [
    "Now generate 10,000 groups of 25 uniform random variables to end up in a matrix of 10,000 rows and 25 columns:"
   ]
  },
  {
   "cell_type": "code",
   "execution_count": 4,
   "id": "5f6ea76b-dbad-4b1a-92b4-ca9bbc3e4ee9",
   "metadata": {},
   "outputs": [],
   "source": [
    "# Define the probability space as a vector of 25 uniform random numbers:\n",
    "P = Uniform(0,40) ** 25\n",
    "# Define XVECTOR as a vector of random variables with 25 random values \n",
    "XVECTOR =RV(P)\n",
    "# Simulate 10,000 vectors to get a matrix  \n",
    "xmatrix=XVECTOR.sim(10000)"
   ]
  },
  {
   "cell_type": "markdown",
   "id": "dc2ffff5-dcb6-4124-ae94-dd1e6cca741e",
   "metadata": {},
   "source": [
    "Now xmatrix will have 10,000 rows and 25 columns of uniform random numbers between 0 and 40:"
   ]
  },
  {
   "cell_type": "code",
   "execution_count": 5,
   "id": "b9176e10-7c5b-43e7-9499-664b1914d31e",
   "metadata": {},
   "outputs": [
    {
     "data": {
      "text/html": [
       "\n",
       "    <table>\n",
       "      <thead>\n",
       "        <th width=\"10%\">Index</th>\n",
       "        <th width=\"90%\">Result</th>\n",
       "      </thead>\n",
       "      <tbody>\n",
       "        \n",
       "        <tr>\n",
       "          <td>0</td><td>(20.848065479587916, 15.35070544699606, 0.40123977660517784, 22.419404772397037, 27.78626538147435, ...</td>\n",
       "        </tr>\n",
       "        \n",
       "        <tr>\n",
       "          <td>1</td><td>(15.630654417171833, 20.07286898147933, 4.2806547913753334, 38.54960027275739, 35.85056654021877, .....</td>\n",
       "        </tr>\n",
       "        \n",
       "        <tr>\n",
       "          <td>2</td><td>(30.516479322551678, 3.759990873165937, 39.15899419612761, 8.212115926601204, 4.571101779976057, ......</td>\n",
       "        </tr>\n",
       "        \n",
       "        <tr>\n",
       "          <td>3</td><td>(34.37459916328417, 39.12718091355107, 4.117013767472311, 0.1332772548175054, 35.49736359569864, ......</td>\n",
       "        </tr>\n",
       "        \n",
       "        <tr>\n",
       "          <td>4</td><td>(34.31934915837114, 31.684906673294165, 15.719168424756456, 12.891214254515585, 20.603089491167026, ...</td>\n",
       "        </tr>\n",
       "        \n",
       "        <tr>\n",
       "          <td>5</td><td>(20.734296677980588, 34.7229146511715, 15.627324452323283, 7.711264268293334, 28.43704834237533, ......</td>\n",
       "        </tr>\n",
       "        \n",
       "        <tr>\n",
       "          <td>6</td><td>(12.099900991057337, 25.090742805497506, 22.157211656960236, 15.967544289670407, 6.102049192268635, ...</td>\n",
       "        </tr>\n",
       "        \n",
       "        <tr>\n",
       "          <td>7</td><td>(32.990626273115815, 1.4457702004953088, 30.135704913119223, 5.031917477473522, 22.023632916421416, ...</td>\n",
       "        </tr>\n",
       "        \n",
       "        <tr>\n",
       "          <td>8</td><td>(39.458418656865305, 20.903688852801245, 33.68886066245712, 34.74074427003062, 2.808322280071689, .....</td>\n",
       "        </tr>\n",
       "        <tr><td>...</td><td>...</td></tr>\n",
       "        <tr>\n",
       "          <td>9999</td><td>(31.695200603148162, 22.10115703377467, 8.053740269313021, 22.50516840416395, 12.832712262519115, .....</td>\n",
       "        </tr>\n",
       "        \n",
       "      </tbody>\n",
       "    </table>\n",
       "        "
      ],
      "text/plain": [
       "Index Result\n",
       "0     (20.848065479587916, 15.35070544699606, 0.40123977660517784, 22.419404772397037, 27.78626538147435, ..., 3.6132071745432626)\n",
       "1     (15.630654417171833, 20.07286898147933, 4.2806547913753334, 38.54960027275739, 35.85056654021877, ..., 23.385662174019718)\n",
       "2     (30.516479322551678, 3.759990873165937, 39.15899419612761, 8.212115926601204, 4.571101779976057, ..., 15.75537461620494)\n",
       "3     (34.37459916328417, 39.12718091355107, 4.117013767472311, 0.1332772548175054, 35.49736359569864, ..., 13.811557877310099)\n",
       "4     (34.31934915837114, 31.684906673294165, 15.719168424756456, 12.891214254515585, 20.603089491167026, ..., 19.71896462659331)\n",
       "5     (20.734296677980588, 34.7229146511715, 15.627324452323283, 7.711264268293334, 28.43704834237533, ..., 7.21817163347473)\n",
       "6     (12.099900991057337, 25.090742805497506, 22.157211656960236, 15.967544289670407, 6.102049192268635, ..., 29.424173601487766)\n",
       "7     (32.990626273115815, 1.4457702004953088, 30.135704913119223, 5.031917477473522, 22.023632916421416, ..., 39.58833153020557)\n",
       "8     (39.458418656865305, 20.903688852801245, 33.68886066245712, 34.74074427003062, 2.808322280071689, ..., 35.34955530551975)\n",
       "....  .........................................................................................................................\n",
       "9999  (31.695200603148162, 22.10115703377467, 8.053740269313021, 22.50516840416395, 12.832712262519115, ..., 33.72159266683548)"
      ]
     },
     "execution_count": 5,
     "metadata": {},
     "output_type": "execute_result"
    }
   ],
   "source": [
    "xmatrix"
   ]
  },
  {
   "cell_type": "markdown",
   "id": "cde137ef-a346-4ea1-abd3-d9b442206616",
   "metadata": {},
   "source": [
    "Now we get the mean of each row, so we end up with 10,000 sample means:"
   ]
  },
  {
   "cell_type": "code",
   "execution_count": 6,
   "id": "9de1851b-4f5b-4f45-98cf-0c21843a55c9",
   "metadata": {},
   "outputs": [
    {
     "data": {
      "text/html": [
       "\n",
       "    <table>\n",
       "      <thead>\n",
       "        <th width=\"10%\">Index</th>\n",
       "        <th width=\"90%\">Result</th>\n",
       "      </thead>\n",
       "      <tbody>\n",
       "        \n",
       "        <tr>\n",
       "          <td>0</td><td>16.890929521386443</td>\n",
       "        </tr>\n",
       "        \n",
       "        <tr>\n",
       "          <td>1</td><td>24.332900109526594</td>\n",
       "        </tr>\n",
       "        \n",
       "        <tr>\n",
       "          <td>2</td><td>21.33367736996289</td>\n",
       "        </tr>\n",
       "        \n",
       "        <tr>\n",
       "          <td>3</td><td>19.2158082431123</td>\n",
       "        </tr>\n",
       "        \n",
       "        <tr>\n",
       "          <td>4</td><td>18.889530382777263</td>\n",
       "        </tr>\n",
       "        \n",
       "        <tr>\n",
       "          <td>5</td><td>18.876257247918062</td>\n",
       "        </tr>\n",
       "        \n",
       "        <tr>\n",
       "          <td>6</td><td>21.325440570885977</td>\n",
       "        </tr>\n",
       "        \n",
       "        <tr>\n",
       "          <td>7</td><td>22.82844852124383</td>\n",
       "        </tr>\n",
       "        \n",
       "        <tr>\n",
       "          <td>8</td><td>22.856314104070325</td>\n",
       "        </tr>\n",
       "        <tr><td>...</td><td>...</td></tr>\n",
       "        <tr>\n",
       "          <td>9999</td><td>20.92255009858915</td>\n",
       "        </tr>\n",
       "        \n",
       "      </tbody>\n",
       "    </table>\n",
       "        "
      ],
      "text/plain": [
       "Index Result\n",
       "0     16.890929521386443\n",
       "1     24.332900109526594\n",
       "2     21.33367736996289\n",
       "3     19.2158082431123\n",
       "4     18.889530382777263\n",
       "5     18.876257247918062\n",
       "6     21.325440570885977\n",
       "7     22.82844852124383\n",
       "8     22.856314104070325\n",
       "....  .................\n",
       "9999  20.92255009858915"
      ]
     },
     "execution_count": 6,
     "metadata": {},
     "output_type": "execute_result"
    }
   ],
   "source": [
    "# The 2nd parameter is the mathematical operation applied to each row of the random vector\n",
    "# Simulate 10,000 means of each random vector of 25 uniform distributed numbers: \n",
    "xmean = RV(P,mean).sim(10000)\n",
    "xmean"
   ]
  },
  {
   "cell_type": "markdown",
   "id": "d9943301-23df-49af-a65f-d8a144c94065",
   "metadata": {},
   "source": [
    "Now do a histogram of these sample means that come from a UNIFORM distribution."
   ]
  },
  {
   "cell_type": "code",
   "execution_count": 7,
   "id": "764b4ea5-50d1-4e12-8fe6-8237d6505438",
   "metadata": {},
   "outputs": [
    {
     "data": {
      "image/png": "[encoded data removed]",
      "text/plain": [
       "<Figure size 432x288 with 1 Axes>"
      ]
     },
     "metadata": {
      "needs_background": "light"
     },
     "output_type": "display_data"
    }
   ],
   "source": [
    "plt.clf()\n",
    "xmean.plot()\n",
    "plt.show()"
   ]
  },
  {
   "cell_type": "markdown",
   "id": "1ce479a6-5f26-4004-afa0-bfb03ae35ae4",
   "metadata": {},
   "source": [
    "# 2.2.3 CHALLENGE\n",
    "A. Calculate the mean and standard deviation of the xmean variable. How similar or different are these values from the mean and standar deviation of x?"
   ]
  },
  {
   "cell_type": "code",
   "execution_count": 8,
   "id": "cd193fb1-e8c3-43ff-86a5-785b0344a131",
   "metadata": {},
   "outputs": [
    {
     "name": "stdout",
     "output_type": "stream",
     "text": [
      "X\n",
      "Mean: 20.011135198444308 Std: 11.538115121837953\n",
      "xmean\n",
      "Mean: 19.992974398946274 Std: 2.305288745650924\n"
     ]
    }
   ],
   "source": [
    "print('X')\n",
    "print(f'Mean: {x.mean()} Std: {x.std()}')\n",
    "print('xmean')\n",
    "print(f'Mean: {xmean.mean()} Std: {xmean.std()}')"
   ]
  },
  {
   "cell_type": "markdown",
   "id": "e5ec66c8-63b1-483d-a04c-c2a627965855",
   "metadata": {},
   "source": [
    "WE CAN CLEARLY REALIZE THAT THERE IS BASICALLY NO DIFFERENCE BETWEEN THE MEAN, THE MAIN DIFFERENCE IS BETWEEN THE STANDARD DEVIATIONS. THIS IS CAUSED BECAUSE OF THE AGGREGATION OF EACH GROUP BY ITS MEAN."
   ]
  },
  {
   "cell_type": "markdown",
   "id": "17cf518b-9b9f-49e8-9829-ec87cee5c826",
   "metadata": {},
   "source": [
    "B. What do you see in the above histogram? Does the histogram of sample means of uniform random variable look like a uniform distributed variable? Do you see a logic? Briefly explain what you think. \n",
    "\n",
    "NO, THE HISTOGRAM LOOKS LIKE A NORMAL DISTRIBUTION AND THIS HAPPENS BEACUSE WE ARE PLOTTING THE MEAN OF THE GROUPS, WHICH MAKES VALUES CLOSER TO THE OVERALL MEAN."
   ]
  },
  {
   "cell_type": "markdown",
   "id": "61359168-9daf-4a4c-861b-2962fd584cf8",
   "metadata": {},
   "source": [
    "Now plot both variables in the same plot; the original x uniform variable and the xsample variable (the sample means of x)."
   ]
  },
  {
   "cell_type": "code",
   "execution_count": 9,
   "id": "a94668ad-049e-4f20-9bae-e8dd7b01a220",
   "metadata": {},
   "outputs": [
    {
     "data": {
      "image/png": "[encoded data removed]",
      "text/plain": [
       "<Figure size 432x288 with 1 Axes>"
      ]
     },
     "metadata": {
      "needs_background": "light"
     },
     "output_type": "display_data"
    }
   ],
   "source": [
    "plt.clf()\n",
    "xmean.plot()\n",
    "x.plot()\n",
    "plt.show()"
   ]
  },
  {
   "cell_type": "markdown",
   "id": "9fda7d97-c7c4-4783-b07f-3c2da8b4d625",
   "metadata": {},
   "source": [
    "C. What do you see? How the histogram of x differs from the histogram of the sample of x?\n",
    "THE BLUE HISTOGRAM REPRESENTS A NORMAL DISTRIBUTION (BELL-SHAPED), MEANWHILE THE ORANGE HISTOGRAM REPRESENTS A UNIFORM DISTRIBUTION."
   ]
  },
  {
   "cell_type": "markdown",
   "id": "a3902aa4-9d05-48b1-88c1-3f31d9ec0b0e",
   "metadata": {},
   "source": [
    "# 2.2.4 Simulating numbers with the NORMAL probability distribution\n",
    "Let’s simulate a normal distributed variable Y with mean = 20 and standard devation = 10."
   ]
  },
  {
   "cell_type": "code",
   "execution_count": 10,
   "id": "786526ee-c986-4bec-b97f-a935449e6dfd",
   "metadata": {},
   "outputs": [
    {
     "data": {
      "image/png": "[encoded data removed]",
      "text/plain": [
       "<Figure size 432x288 with 1 Axes>"
      ]
     },
     "metadata": {
      "needs_background": "light"
     },
     "output_type": "display_data"
    }
   ],
   "source": [
    "# clear the plot space:\n",
    "plt.clf()\n",
    "# Define the probability type of function as uniform (probability space)\n",
    "P = Normal(mean=20, sd=10)\n",
    "# Define Y as a random variable of the type P (normal)\n",
    "Y =RV(P)\n",
    "# Simulate 10,000 values of Y and save the in the x array: \n",
    "y=Y.sim(10000)\n",
    "y.plot()\n",
    "plt.show()"
   ]
  },
  {
   "cell_type": "markdown",
   "id": "8145c3af-00e5-4fc4-834c-3ba4797bf01d",
   "metadata": {},
   "source": [
    "# 2.2.5 CHALLENGE"
   ]
  },
  {
   "cell_type": "markdown",
   "id": "dab66379-7114-45be-8da0-6c5ec68a7247",
   "metadata": {},
   "source": [
    "A. Calculate the mean and standard deviation of this random y variable. How similar or different are these values from the mean and standard deviation of the theorical mean (20) and theorical standard deviation (10)?"
   ]
  },
  {
   "cell_type": "code",
   "execution_count": 11,
   "id": "88c79003-1ca2-4224-91f8-20e40364daa4",
   "metadata": {},
   "outputs": [
    {
     "name": "stdout",
     "output_type": "stream",
     "text": [
      "Y\n",
      "Mean: 19.98674103651754 Std: 9.991426204311395\n",
      "Theoretical\n",
      "Mean: 20, Std: 10\n"
     ]
    }
   ],
   "source": [
    "print('Y')\n",
    "print(f'Mean: {y.mean()} Std: {y.std()}')\n",
    "print(\"Theoretical\")\n",
    "print(\"Mean: 20, Std: 10\")"
   ]
  },
  {
   "cell_type": "markdown",
   "id": "df0df236-41bc-4cc4-be44-732706960d00",
   "metadata": {},
   "source": [
    "BOTH RESULTS ARE QUITE SIMILAR BECAUSE WE ARE GENERATING THE NORMAL DISTRIBUTION FROM THE SAME VALUES."
   ]
  },
  {
   "cell_type": "markdown",
   "id": "ae234964-d380-40a5-939a-8119601102f3",
   "metadata": {},
   "source": [
    "B. What do you see? Interpet the histogram with your words.\n",
    "\n",
    "GIVEN THIS NORMAL DISTRIBUTION, WE CAN OBSERVE THAT THE VALUES ARE CLOSE TO THE PROVIDED MEAN."
   ]
  },
  {
   "cell_type": "code",
   "execution_count": 12,
   "id": "35adb1b9-1ef6-4a4b-95e4-31832f4e4f59",
   "metadata": {},
   "outputs": [],
   "source": [
    "# Define the probability space P as a vector of 25 normal random numbers:\n",
    "P = Normal(mean=20, sd=10) ** 25\n",
    "# Define RANDOMVECTOR as a vector of 25 random variables in the Probability space P \n",
    "RANDOMVECTOR = RV(P)\n",
    "# Simulate 10,000 random vectors with this distribution and save the in ymatrix: \n",
    "ymatrix=RANDOMVECTOR.sim(10000)"
   ]
  },
  {
   "cell_type": "markdown",
   "id": "5a281343-1843-418d-932b-250df9432c3d",
   "metadata": {},
   "source": [
    "Now ymatrix will have 10,000 rows and 25 columns of NORMAL random numbers with mean=20 and SD=10:"
   ]
  },
  {
   "cell_type": "code",
   "execution_count": 13,
   "id": "abca7ee1-c963-4450-8b59-f1ec4bc0aaa8",
   "metadata": {},
   "outputs": [
    {
     "data": {
      "text/html": [
       "\n",
       "    <table>\n",
       "      <thead>\n",
       "        <th width=\"10%\">Index</th>\n",
       "        <th width=\"90%\">Result</th>\n",
       "      </thead>\n",
       "      <tbody>\n",
       "        \n",
       "        <tr>\n",
       "          <td>0</td><td>(28.64699652720153, 31.245486860260286, 16.609224391565274, 31.108927092072207, -1.0412248977160345,...</td>\n",
       "        </tr>\n",
       "        \n",
       "        <tr>\n",
       "          <td>1</td><td>(16.92839506273151, 28.586432379861435, 27.19772892633699, 20.666249900618922, 23.855453993658482, ....</td>\n",
       "        </tr>\n",
       "        \n",
       "        <tr>\n",
       "          <td>2</td><td>(22.216044713811044, 21.52132265189058, 4.800175154706443, 12.110132650331941, 11.380740828229367, ....</td>\n",
       "        </tr>\n",
       "        \n",
       "        <tr>\n",
       "          <td>3</td><td>(18.905709030612076, 26.948976953864598, 17.558246291131564, 14.824008740469441, 11.823592222743361,...</td>\n",
       "        </tr>\n",
       "        \n",
       "        <tr>\n",
       "          <td>4</td><td>(20.328568521389826, 32.030102772181316, 10.457480749692746, 24.135651393694033, 21.8599548508173, ....</td>\n",
       "        </tr>\n",
       "        \n",
       "        <tr>\n",
       "          <td>5</td><td>(38.08690057094663, 24.923078995737477, 13.344498779930957, 17.424035065821293, 29.286030009248996, ...</td>\n",
       "        </tr>\n",
       "        \n",
       "        <tr>\n",
       "          <td>6</td><td>(24.57909864676494, 21.130541332608956, 11.537806989201844, 28.558116708472653, 30.132742728449898, ...</td>\n",
       "        </tr>\n",
       "        \n",
       "        <tr>\n",
       "          <td>7</td><td>(21.354017049428876, 20.917012936954443, 44.599340432309475, 28.10742809880243, 24.569516890897248, ...</td>\n",
       "        </tr>\n",
       "        \n",
       "        <tr>\n",
       "          <td>8</td><td>(16.29383838927223, 16.322142750575242, -7.4031325690026115, 24.90637826276904, 11.784414646367923, ...</td>\n",
       "        </tr>\n",
       "        <tr><td>...</td><td>...</td></tr>\n",
       "        <tr>\n",
       "          <td>9999</td><td>(17.322683668942858, 14.130479929590049, 20.216062366621237, 23.63386240183548, 13.505303786777084, ...</td>\n",
       "        </tr>\n",
       "        \n",
       "      </tbody>\n",
       "    </table>\n",
       "        "
      ],
      "text/plain": [
       "Index Result\n",
       "0     (28.64699652720153, 31.245486860260286, 16.609224391565274, 31.108927092072207, -1.0412248977160345, ..., 31.706786714940662)\n",
       "1     (16.92839506273151, 28.586432379861435, 27.19772892633699, 20.666249900618922, 23.855453993658482, ..., 21.543002654755742)\n",
       "2     (22.216044713811044, 21.52132265189058, 4.800175154706443, 12.110132650331941, 11.380740828229367, ..., 13.226923911538822)\n",
       "3     (18.905709030612076, 26.948976953864598, 17.558246291131564, 14.824008740469441, 11.823592222743361, ..., 22.824668005549242)\n",
       "4     (20.328568521389826, 32.030102772181316, 10.457480749692746, 24.135651393694033, 21.8599548508173, ..., 20.007957800684128)\n",
       "5     (38.08690057094663, 24.923078995737477, 13.344498779930957, 17.424035065821293, 29.286030009248996, ..., 12.815890580870184)\n",
       "6     (24.57909864676494, 21.130541332608956, 11.537806989201844, 28.558116708472653, 30.132742728449898, ..., 26.792965879041052)\n",
       "7     (21.354017049428876, 20.917012936954443, 44.599340432309475, 28.10742809880243, 24.569516890897248, ..., 14.20994938116157)\n",
       "8     (16.29383838927223, 16.322142750575242, -7.4031325690026115, 24.90637826276904, 11.784414646367923, ..., 24.83451242338731)\n",
       "....  ...........................................................................................................................\n",
       "9999  (17.322683668942858, 14.130479929590049, 20.216062366621237, 23.63386240183548, 13.505303786777084, ..., 23.08058777449897)"
      ]
     },
     "execution_count": 13,
     "metadata": {},
     "output_type": "execute_result"
    }
   ],
   "source": [
    "ymatrix"
   ]
  },
  {
   "cell_type": "markdown",
   "id": "a9b081b2-5415-4622-916a-f5d442d87c18",
   "metadata": {},
   "source": [
    "Now we get the mean of each vector (row) to get 10,000 sample means:"
   ]
  },
  {
   "cell_type": "code",
   "execution_count": 14,
   "id": "4255108d-b8e9-40df-87c5-173a467898b9",
   "metadata": {},
   "outputs": [
    {
     "data": {
      "text/html": [
       "\n",
       "    <table>\n",
       "      <thead>\n",
       "        <th width=\"10%\">Index</th>\n",
       "        <th width=\"90%\">Result</th>\n",
       "      </thead>\n",
       "      <tbody>\n",
       "        \n",
       "        <tr>\n",
       "          <td>0</td><td>23.500381516129927</td>\n",
       "        </tr>\n",
       "        \n",
       "        <tr>\n",
       "          <td>1</td><td>19.38778655417639</td>\n",
       "        </tr>\n",
       "        \n",
       "        <tr>\n",
       "          <td>2</td><td>17.799097362015463</td>\n",
       "        </tr>\n",
       "        \n",
       "        <tr>\n",
       "          <td>3</td><td>23.5463635865374</td>\n",
       "        </tr>\n",
       "        \n",
       "        <tr>\n",
       "          <td>4</td><td>18.601020958170764</td>\n",
       "        </tr>\n",
       "        \n",
       "        <tr>\n",
       "          <td>5</td><td>19.488638118859278</td>\n",
       "        </tr>\n",
       "        \n",
       "        <tr>\n",
       "          <td>6</td><td>20.948335582034748</td>\n",
       "        </tr>\n",
       "        \n",
       "        <tr>\n",
       "          <td>7</td><td>22.92552847684963</td>\n",
       "        </tr>\n",
       "        \n",
       "        <tr>\n",
       "          <td>8</td><td>20.403593497723044</td>\n",
       "        </tr>\n",
       "        <tr><td>...</td><td>...</td></tr>\n",
       "        <tr>\n",
       "          <td>9999</td><td>20.613715309694406</td>\n",
       "        </tr>\n",
       "        \n",
       "      </tbody>\n",
       "    </table>\n",
       "        "
      ],
      "text/plain": [
       "Index Result\n",
       "0     23.500381516129927\n",
       "1     19.38778655417639\n",
       "2     17.799097362015463\n",
       "3     23.5463635865374\n",
       "4     18.601020958170764\n",
       "5     19.488638118859278\n",
       "6     20.948335582034748\n",
       "7     22.92552847684963\n",
       "8     20.403593497723044\n",
       "....  ..................\n",
       "9999  20.613715309694406"
      ]
     },
     "execution_count": 14,
     "metadata": {},
     "output_type": "execute_result"
    }
   ],
   "source": [
    "# The 2nd parameter is the mathematical operation applied to each row of the random vector\n",
    "# Simulate 10,000 means of each random vector of 25 uniform distributed numbers: \n",
    "ymean = RV(P,mean).sim(10000)\n",
    "ymean"
   ]
  },
  {
   "cell_type": "code",
   "execution_count": 15,
   "id": "880e6962-ce5b-4bf2-b10b-79af1987e6f3",
   "metadata": {},
   "outputs": [
    {
     "data": {
      "image/png": "[encoded data removed]",
      "text/plain": [
       "<Figure size 432x288 with 1 Axes>"
      ]
     },
     "metadata": {
      "needs_background": "light"
     },
     "output_type": "display_data"
    }
   ],
   "source": [
    "# Now do a histogram of these sample means of Y.\n",
    "plt.clf()\n",
    "ymean.plot()\n",
    "plt.show()"
   ]
  },
  {
   "cell_type": "markdown",
   "id": "ca6c55b2-6642-4bef-bb81-472794d40db3",
   "metadata": {},
   "source": [
    "# 2.2.6 CHALLENGE"
   ]
  },
  {
   "cell_type": "markdown",
   "id": "0d3d31ea-9b2c-45eb-8a3e-9e0f71fd387c",
   "metadata": {},
   "source": [
    "A. Calculate the mean and the standard deviation of the ymean variable. How similar or different are these values from the mean and standard deviation of y?"
   ]
  },
  {
   "cell_type": "code",
   "execution_count": 16,
   "id": "dc404eef-263b-4cf7-a1fd-f644cb3299d2",
   "metadata": {},
   "outputs": [
    {
     "name": "stdout",
     "output_type": "stream",
     "text": [
      "Y\n",
      "Mean: 19.98674103651754 Std: 9.991426204311395\n",
      "ymean\n",
      "Mean: 19.989244950845382 Std: 1.9980857241066472\n"
     ]
    }
   ],
   "source": [
    "print('Y')\n",
    "print(f'Mean: {y.mean()} Std: {y.std()}')\n",
    "print('ymean')\n",
    "print(f'Mean: {ymean.mean()} Std: {ymean.std()}')"
   ]
  },
  {
   "cell_type": "markdown",
   "id": "97780c9c-c59a-4d95-9f88-a34ad7f2868b",
   "metadata": {},
   "source": [
    "WE CAN CLEARLY REALIZE THAT THERE IS BASICALLY NO DIFFERENCE BETWEEN THE MEAN, THE MAIN DIFFERENCE IS BETWEEN THE STANDARD DEVIATIONS. THIS IS CAUSED BECAUSE OF THE AGGREGATION OF EACH GROUP BY ITS MEAN."
   ]
  },
  {
   "cell_type": "markdown",
   "id": "649cd50e-6145-4437-a507-24c6c7889d9a",
   "metadata": {},
   "source": [
    "B. Interpret the above histogram of the samples of y.\n",
    "\n",
    "THE HISTOGRAM REPRESENTS A NORMAL DISTRIBUTION, WHERE THE STANDARD DEVIATION IS SMALLER THAN THE ORIGINAL ONE AND THIS IS CAUSED BECAUSE OF THE GROUPING, WHICH MAKES VALUES TO BE CLOSER TO THE MEAN."
   ]
  },
  {
   "cell_type": "code",
   "execution_count": 17,
   "id": "b003f53c-24ca-456a-a10a-973b5ec62ee5",
   "metadata": {},
   "outputs": [
    {
     "data": {
      "image/png": "[encoded data removed]",
      "text/plain": [
       "<Figure size 432x288 with 1 Axes>"
      ]
     },
     "metadata": {
      "needs_background": "light"
     },
     "output_type": "display_data"
    }
   ],
   "source": [
    "plt.clf()\n",
    "ymean.plot()\n",
    "y.plot()\n",
    "plt.show()"
   ]
  },
  {
   "cell_type": "markdown",
   "id": "789da7d2-caa5-4a07-9297-e3cebd64afc8",
   "metadata": {},
   "source": [
    "C. What do you see? Compare both histograms, briefly explain what you think that happened.\n",
    "\n",
    "THE GROUPING IN THE LAST NORMAL DISTRIBUTION CAUSES IT TO HAVE A HIGHER DENSITY AROUND THE MEAN AND LESS SPREAD ACROSS THE X-VALUES. "
   ]
  },
  {
   "cell_type": "markdown",
   "id": "299a1f71-493e-45cc-a1ab-ccf6f4dcb690",
   "metadata": {},
   "source": [
    "# 4.1 CHALLENGE"
   ]
  },
  {
   "cell_type": "code",
   "execution_count": 18,
   "id": "15fc39e9-dbb5-4f1d-83e7-0785331beebd",
   "metadata": {},
   "outputs": [
    {
     "data": {
      "text/html": [
       "<div>\n",
       "<style scoped>\n",
       "    .dataframe tbody tr th:only-of-type {\n",
       "        vertical-align: middle;\n",
       "    }\n",
       "\n",
       "    .dataframe tbody tr th {\n",
       "        vertical-align: top;\n",
       "    }\n",
       "\n",
       "    .dataframe thead th {\n",
       "        text-align: right;\n",
       "    }\n",
       "</style>\n",
       "<table border=\"1\" class=\"dataframe\">\n",
       "  <thead>\n",
       "    <tr style=\"text-align: right;\">\n",
       "      <th></th>\n",
       "      <th>High</th>\n",
       "      <th>Low</th>\n",
       "      <th>Open</th>\n",
       "      <th>Close</th>\n",
       "      <th>Volume</th>\n",
       "      <th>Adj Close</th>\n",
       "    </tr>\n",
       "    <tr>\n",
       "      <th>Date</th>\n",
       "      <th></th>\n",
       "      <th></th>\n",
       "      <th></th>\n",
       "      <th></th>\n",
       "      <th></th>\n",
       "      <th></th>\n",
       "    </tr>\n",
       "  </thead>\n",
       "  <tbody>\n",
       "    <tr>\n",
       "      <th>2017-07-03</th>\n",
       "      <td>69.599998</td>\n",
       "      <td>68.019997</td>\n",
       "      <td>69.330002</td>\n",
       "      <td>68.169998</td>\n",
       "      <td>16165500.0</td>\n",
       "      <td>63.851704</td>\n",
       "    </tr>\n",
       "    <tr>\n",
       "      <th>2017-07-05</th>\n",
       "      <td>69.440002</td>\n",
       "      <td>68.220001</td>\n",
       "      <td>68.260002</td>\n",
       "      <td>69.080002</td>\n",
       "      <td>21176300.0</td>\n",
       "      <td>64.704063</td>\n",
       "    </tr>\n",
       "    <tr>\n",
       "      <th>2017-07-06</th>\n",
       "      <td>68.779999</td>\n",
       "      <td>68.120003</td>\n",
       "      <td>68.269997</td>\n",
       "      <td>68.570000</td>\n",
       "      <td>21117600.0</td>\n",
       "      <td>64.226364</td>\n",
       "    </tr>\n",
       "    <tr>\n",
       "      <th>2017-07-07</th>\n",
       "      <td>69.839996</td>\n",
       "      <td>68.699997</td>\n",
       "      <td>68.699997</td>\n",
       "      <td>69.459999</td>\n",
       "      <td>16878300.0</td>\n",
       "      <td>65.059982</td>\n",
       "    </tr>\n",
       "    <tr>\n",
       "      <th>2017-07-10</th>\n",
       "      <td>70.250000</td>\n",
       "      <td>69.199997</td>\n",
       "      <td>69.459999</td>\n",
       "      <td>69.980003</td>\n",
       "      <td>15014500.0</td>\n",
       "      <td>65.547058</td>\n",
       "    </tr>\n",
       "    <tr>\n",
       "      <th>...</th>\n",
       "      <td>...</td>\n",
       "      <td>...</td>\n",
       "      <td>...</td>\n",
       "      <td>...</td>\n",
       "      <td>...</td>\n",
       "      <td>...</td>\n",
       "    </tr>\n",
       "    <tr>\n",
       "      <th>2022-06-24</th>\n",
       "      <td>267.980011</td>\n",
       "      <td>261.720001</td>\n",
       "      <td>261.809998</td>\n",
       "      <td>267.700012</td>\n",
       "      <td>33923200.0</td>\n",
       "      <td>267.700012</td>\n",
       "    </tr>\n",
       "    <tr>\n",
       "      <th>2022-06-27</th>\n",
       "      <td>268.299988</td>\n",
       "      <td>263.279999</td>\n",
       "      <td>268.209991</td>\n",
       "      <td>264.890015</td>\n",
       "      <td>24615100.0</td>\n",
       "      <td>264.890015</td>\n",
       "    </tr>\n",
       "    <tr>\n",
       "      <th>2022-06-28</th>\n",
       "      <td>266.910004</td>\n",
       "      <td>256.320007</td>\n",
       "      <td>263.980011</td>\n",
       "      <td>256.480011</td>\n",
       "      <td>27295500.0</td>\n",
       "      <td>256.480011</td>\n",
       "    </tr>\n",
       "    <tr>\n",
       "      <th>2022-06-29</th>\n",
       "      <td>261.970001</td>\n",
       "      <td>255.759995</td>\n",
       "      <td>257.589996</td>\n",
       "      <td>260.260010</td>\n",
       "      <td>20069800.0</td>\n",
       "      <td>260.260010</td>\n",
       "    </tr>\n",
       "    <tr>\n",
       "      <th>2022-06-30</th>\n",
       "      <td>259.529999</td>\n",
       "      <td>252.899994</td>\n",
       "      <td>257.049988</td>\n",
       "      <td>256.829987</td>\n",
       "      <td>31730900.0</td>\n",
       "      <td>256.829987</td>\n",
       "    </tr>\n",
       "  </tbody>\n",
       "</table>\n",
       "<p>1258 rows × 6 columns</p>\n",
       "</div>"
      ],
      "text/plain": [
       "                  High         Low        Open       Close      Volume  \\\n",
       "Date                                                                     \n",
       "2017-07-03   69.599998   68.019997   69.330002   68.169998  16165500.0   \n",
       "2017-07-05   69.440002   68.220001   68.260002   69.080002  21176300.0   \n",
       "2017-07-06   68.779999   68.120003   68.269997   68.570000  21117600.0   \n",
       "2017-07-07   69.839996   68.699997   68.699997   69.459999  16878300.0   \n",
       "2017-07-10   70.250000   69.199997   69.459999   69.980003  15014500.0   \n",
       "...                ...         ...         ...         ...         ...   \n",
       "2022-06-24  267.980011  261.720001  261.809998  267.700012  33923200.0   \n",
       "2022-06-27  268.299988  263.279999  268.209991  264.890015  24615100.0   \n",
       "2022-06-28  266.910004  256.320007  263.980011  256.480011  27295500.0   \n",
       "2022-06-29  261.970001  255.759995  257.589996  260.260010  20069800.0   \n",
       "2022-06-30  259.529999  252.899994  257.049988  256.829987  31730900.0   \n",
       "\n",
       "             Adj Close  \n",
       "Date                    \n",
       "2017-07-03   63.851704  \n",
       "2017-07-05   64.704063  \n",
       "2017-07-06   64.226364  \n",
       "2017-07-07   65.059982  \n",
       "2017-07-10   65.547058  \n",
       "...                ...  \n",
       "2022-06-24  267.700012  \n",
       "2022-06-27  264.890015  \n",
       "2022-06-28  256.480011  \n",
       "2022-06-29  260.260010  \n",
       "2022-06-30  256.829987  \n",
       "\n",
       "[1258 rows x 6 columns]"
      ]
     },
     "execution_count": 18,
     "metadata": {},
     "output_type": "execute_result"
    }
   ],
   "source": [
    "# Collecting the real data from returns of MSFT from July 2019 until July 2022\n",
    "MSFT = pdr.get_data_yahoo(\"MSFT\", start = \"2017-07-01\", end = \"2022-06-30\", interval = \"d\")\n",
    "MSFT"
   ]
  },
  {
   "cell_type": "code",
   "execution_count": 19,
   "id": "4b655bf7-e8b3-4411-8e40-21a8c415be1b",
   "metadata": {},
   "outputs": [],
   "source": [
    "# Null: mean of monthly cc <= 0. Alternative mean of monthly return > 0"
   ]
  },
  {
   "cell_type": "code",
   "execution_count": 20,
   "id": "029af362-8e08-42e4-8a46-c0df63ca5d46",
   "metadata": {},
   "outputs": [],
   "source": [
    "# Calculating the daily cc returns\n",
    "MSFT[\"r\"] = (np.log(MSFT[\"Adj Close\"]) - np.log(MSFT[\"Adj Close\"].shift(1)))"
   ]
  },
  {
   "cell_type": "code",
   "execution_count": 21,
   "id": "d905ac56-de3d-416b-a91d-38bab79b95c3",
   "metadata": {},
   "outputs": [
    {
     "data": {
      "image/png": "[encoded data removed]",
      "text/plain": [
       "<Figure size 432x288 with 1 Axes>"
      ]
     },
     "metadata": {
      "needs_background": "light"
     },
     "output_type": "display_data"
    }
   ],
   "source": [
    "# Plotting the cc returns\n",
    "plt.hist(MSFT['r'], bins=36)\n",
    "plt.show()"
   ]
  },
  {
   "cell_type": "code",
   "execution_count": 22,
   "id": "64b23522-86eb-453e-a83b-8a3d9b48cc35",
   "metadata": {},
   "outputs": [
    {
     "data": {
      "text/plain": [
       "0.001107280088342967"
      ]
     },
     "execution_count": 22,
     "metadata": {},
     "output_type": "execute_result"
    }
   ],
   "source": [
    "# We calculate the mean\n",
    "MSFT_mean = MSFT['r'].mean()\n",
    "MSFT_mean"
   ]
  },
  {
   "cell_type": "code",
   "execution_count": 23,
   "id": "f6962ddf-eac5-4f1b-9b9e-51a05b7c8969",
   "metadata": {},
   "outputs": [
    {
     "data": {
      "text/plain": [
       "0.018531574619870612"
      ]
     },
     "execution_count": 23,
     "metadata": {},
     "output_type": "execute_result"
    }
   ],
   "source": [
    "# Calculate the std\n",
    "MSFT_std = MSFT['r'].std()\n",
    "MSFT_std"
   ]
  },
  {
   "cell_type": "code",
   "execution_count": 24,
   "id": "5ec1bd15-3c77-4f54-9c97-7b9f361044d9",
   "metadata": {},
   "outputs": [
    {
     "data": {
      "text/plain": [
       "0.0023924159960586307"
      ]
     },
     "execution_count": 24,
     "metadata": {},
     "output_type": "execute_result"
    }
   ],
   "source": [
    "# Calculate the grouped std\n",
    "MSFT_std_grouped = MSFT_std / math.sqrt(60)\n",
    "MSFT_std_grouped"
   ]
  },
  {
   "cell_type": "code",
   "execution_count": 25,
   "id": "4fc05a90-9235-4bec-ba61-4b3323e536f9",
   "metadata": {},
   "outputs": [
    {
     "data": {
      "text/plain": [
       "0.4628292446494038"
      ]
     },
     "execution_count": 25,
     "metadata": {},
     "output_type": "execute_result"
    }
   ],
   "source": [
    "# Calculating the t-statistic\n",
    "t_statistic = (MSFT_mean - 0) / MSFT_std_grouped\n",
    "t_statistic"
   ]
  },
  {
   "cell_type": "code",
   "execution_count": 26,
   "id": "477864b2-1b6b-4eb5-977e-aac40017e897",
   "metadata": {},
   "outputs": [
    {
     "data": {
      "text/plain": [
       "-0.0036775519037742944"
      ]
     },
     "execution_count": 26,
     "metadata": {},
     "output_type": "execute_result"
    }
   ],
   "source": [
    "# min(95% C.I.)\n",
    "MIN_CI = MSFT_mean - 2 * (MSFT_std_grouped)\n",
    "MIN_CI"
   ]
  },
  {
   "cell_type": "code",
   "execution_count": 27,
   "id": "4008cd5d-6aac-40b5-a217-d8a8070e407b",
   "metadata": {},
   "outputs": [
    {
     "data": {
      "text/plain": [
       "0.0058921120804602285"
      ]
     },
     "execution_count": 27,
     "metadata": {},
     "output_type": "execute_result"
    }
   ],
   "source": [
    "# max(95% C.I.)\n",
    "MAX_CI = MSFT_mean + 2 * (MSFT_std_grouped)\n",
    "MAX_CI"
   ]
  },
  {
   "cell_type": "markdown",
   "id": "8d6c17ab-df52-4ba3-845c-9b96ae141e2a",
   "metadata": {},
   "source": [
    "THE RESULT IS THAT THE DIFFERENCE BETWEEN THE TWO MEANS IS 0.46 STANDARD DEVIATIONS. THUS, THE ALTERNATIVE HYPOTHESIS CAN NOT BE CONFIRMED."
   ]
  },
  {
   "cell_type": "code",
   "execution_count": 28,
   "id": "eaff159d-f49c-41b1-8019-176ad2d3d86a",
   "metadata": {},
   "outputs": [
    {
     "name": "stdout",
     "output_type": "stream",
     "text": [
      "Mean: 0.0010871478197361701\n",
      "Std:  0.00273744710484061\n"
     ]
    }
   ],
   "source": [
    "# Another way to calculate the grouped std and mean is:\n",
    "MSFT_month_cc = MSFT.groupby(MSFT.index.strftime('%Y-%m'))['r'].mean()\n",
    "MSFT_month_cc_mean = MSFT_month_cc.mean()\n",
    "MSFT_month_cc_std = MSFT_month_cc.std()\n",
    "print(f'Mean: {MSFT_month_cc_mean}')\n",
    "print(f'Std:  {MSFT_month_cc_std}')"
   ]
  },
  {
   "cell_type": "code",
   "execution_count": null,
   "id": "81784086-b0ea-4d51-a649-361c3ec34008",
   "metadata": {},
   "outputs": [],
   "source": []
  }
 ],
 "metadata": {
  "kernelspec": {
   "display_name": "Python 3 (ipykernel)",
   "language": "python",
   "name": "python3"
  },
  "language_info": {
   "codemirror_mode": {
    "name": "ipython",
    "version": 3
   },
   "file_extension": ".py",
   "mimetype": "text/x-python",
   "name": "python",
   "nbconvert_exporter": "python",
   "pygments_lexer": "ipython3",
   "version": "3.10.4"
  }
 },
 "nbformat": 4,
 "nbformat_minor": 5
}
