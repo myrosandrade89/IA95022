{
 "cells": [
  {
   "cell_type": "markdown",
   "id": "005a36da-eabc-4653-b37f-e2c0e9e2ad61",
   "metadata": {},
   "source": [
    "# Monte Carlo simulation"
   ]
  },
  {
   "cell_type": "code",
   "execution_count": 2,
   "id": "35acd238-3883-4811-9194-333a4bb15437",
   "metadata": {},
   "outputs": [
    {
     "name": "stdout",
     "output_type": "stream",
     "text": [
      "Collecting symbulate\n",
      "  Downloading symbulate-0.5.7-py3-none-any.whl (44 kB)\n",
      "     -------------------------------------- 44.9/44.9 kB 138.6 kB/s eta 0:00:00\n",
      "Collecting scipy\n",
      "  Downloading scipy-1.9.0-cp310-cp310-win_amd64.whl (38.6 MB)\n",
      "     ---------------------------------------- 38.6/38.6 MB 1.0 MB/s eta 0:00:00\n",
      "Requirement already satisfied: numpy in c:\\users\\myros\\anaconda3\\envs\\statistics\\lib\\site-packages (from symbulate) (1.23.1)\n",
      "Requirement already satisfied: matplotlib in c:\\users\\myros\\anaconda3\\envs\\statistics\\lib\\site-packages (from symbulate) (3.5.1)\n",
      "Requirement already satisfied: cycler>=0.10 in c:\\users\\myros\\anaconda3\\envs\\statistics\\lib\\site-packages (from matplotlib->symbulate) (0.11.0)\n",
      "Requirement already satisfied: python-dateutil>=2.7 in c:\\users\\myros\\anaconda3\\envs\\statistics\\lib\\site-packages (from matplotlib->symbulate) (2.8.2)\n",
      "Requirement already satisfied: pillow>=6.2.0 in c:\\users\\myros\\anaconda3\\envs\\statistics\\lib\\site-packages (from matplotlib->symbulate) (9.2.0)\n",
      "Requirement already satisfied: pyparsing>=2.2.1 in c:\\users\\myros\\anaconda3\\envs\\statistics\\lib\\site-packages (from matplotlib->symbulate) (3.0.4)\n",
      "Requirement already satisfied: packaging>=20.0 in c:\\users\\myros\\anaconda3\\envs\\statistics\\lib\\site-packages (from matplotlib->symbulate) (21.3)\n",
      "Requirement already satisfied: kiwisolver>=1.0.1 in c:\\users\\myros\\anaconda3\\envs\\statistics\\lib\\site-packages (from matplotlib->symbulate) (1.4.2)\n",
      "Requirement already satisfied: fonttools>=4.22.0 in c:\\users\\myros\\anaconda3\\envs\\statistics\\lib\\site-packages (from matplotlib->symbulate) (4.25.0)\n",
      "Requirement already satisfied: six>=1.5 in c:\\users\\myros\\anaconda3\\envs\\statistics\\lib\\site-packages (from python-dateutil>=2.7->matplotlib->symbulate) (1.16.0)\n",
      "Installing collected packages: scipy, symbulate\n",
      "Successfully installed scipy-1.9.0 symbulate-0.5.7\n"
     ]
    }
   ],
   "source": [
    "!pip install symbulate\n",
    "from symbulate import *\n",
    "#'exec(%matplotlib inline)' \n",
    "import matplotlib\n",
    "\n",
    "import matplotlib.pyplot as plt"
   ]
  },
  {
   "cell_type": "markdown",
   "id": "2874cad9-8a47-463c-89b6-bf7070186bad",
   "metadata": {},
   "source": [
    "# Simulating numbers with the UNIFORM probability distribution"
   ]
  },
  {
   "cell_type": "code",
   "execution_count": 3,
   "id": "493e18a5-9781-452c-99b1-0b6fa6f4a03e",
   "metadata": {},
   "outputs": [
    {
     "data": {
      "image/png": "[encoded data removed]",
      "text/plain": [
       "<Figure size 432x288 with 1 Axes>"
      ]
     },
     "metadata": {
      "needs_background": "light"
     },
     "output_type": "display_data"
    }
   ],
   "source": [
    "# clear the plot space:\n",
    "plt.clf()\n",
    "# Define the probability type of function as uniform (probability space)\n",
    "P = Uniform(0,40)\n",
    "# Define X as a random variable of the type P (uniform)\n",
    "X =RV(P)\n",
    "# Simulate the values of X and save the in the x array: \n",
    "x=X.sim(10000)\n",
    "x.plot()\n",
    "plt.show()"
   ]
  },
  {
   "cell_type": "markdown",
   "id": "abc8f2d2-2804-453b-84be-142ad2f274ad",
   "metadata": {},
   "source": [
    "# 2.2.2 CHALLENGE\n",
    "CALCULATE THE MEAN AND STANDARD DEVIATION OF THIS SIMULATED UNIFORM x VARIABLE. HOW CLOSE WERE THESE MEAN AND STANDARD DEVIATION FROM THE THEORETICAL MEAN AND STANDARD DEVIATION?"
   ]
  },
  {
   "cell_type": "code",
   "execution_count": 4,
   "id": "f13b60ee-f584-48d3-831c-1eb9c60d7671",
   "metadata": {},
   "outputs": [
    {
     "data": {
      "text/plain": [
       "11.526296974557223"
      ]
     },
     "execution_count": 4,
     "metadata": {},
     "output_type": "execute_result"
    }
   ],
   "source": [
    "x.std()"
   ]
  },
  {
   "cell_type": "code",
   "execution_count": 5,
   "id": "de525511-f6f4-4e0b-80bf-cb43f59c407d",
   "metadata": {},
   "outputs": [
    {
     "data": {
      "text/plain": [
       "20.1274717497086"
      ]
     },
     "execution_count": 5,
     "metadata": {},
     "output_type": "execute_result"
    }
   ],
   "source": [
    "x.mean()"
   ]
  },
  {
   "cell_type": "markdown",
   "id": "16f30248-e4a6-4ed9-a872-d6a6c7072e9b",
   "metadata": {},
   "source": [
    "Now generate 10,000 groups of 25 uniform random variables to end up in a matrix of 10,000 rows and 25 columns:"
   ]
  },
  {
   "cell_type": "code",
   "execution_count": 6,
   "id": "5f6ea76b-dbad-4b1a-92b4-ca9bbc3e4ee9",
   "metadata": {},
   "outputs": [],
   "source": [
    "# Define the probability space as a vector of 25 uniform random numbers:\n",
    "P = Uniform(0,40) ** 25\n",
    "# Define XVECTOR as a vector of random variables with 25 random values \n",
    "XVECTOR =RV(P)\n",
    "# Simulate 10,000 vectors to get a matrix  \n",
    "xmatrix=XVECTOR.sim(10000)"
   ]
  },
  {
   "cell_type": "markdown",
   "id": "dc2ffff5-dcb6-4124-ae94-dd1e6cca741e",
   "metadata": {},
   "source": [
    "Now xmatrix will have 10,000 rows and 25 columns of uniform random numbers between 0 and 40:"
   ]
  },
  {
   "cell_type": "code",
   "execution_count": 7,
   "id": "b9176e10-7c5b-43e7-9499-664b1914d31e",
   "metadata": {},
   "outputs": [
    {
     "data": {
      "text/html": [
       "\n",
       "    <table>\n",
       "      <thead>\n",
       "        <th width=\"10%\">Index</th>\n",
       "        <th width=\"90%\">Result</th>\n",
       "      </thead>\n",
       "      <tbody>\n",
       "        \n",
       "        <tr>\n",
       "          <td>0</td><td>(32.107975439539, 18.66758338551838, 33.461884143108925, 19.19156731850044, 12.690485512446363, ...,...</td>\n",
       "        </tr>\n",
       "        \n",
       "        <tr>\n",
       "          <td>1</td><td>(12.734509995135577, 34.44078251243126, 13.727365820664922, 32.40552146948044, 34.91538683785787, .....</td>\n",
       "        </tr>\n",
       "        \n",
       "        <tr>\n",
       "          <td>2</td><td>(17.044433724203138, 20.34710527271358, 13.51182118742285, 37.14689259326107, 38.67487273653738, ......</td>\n",
       "        </tr>\n",
       "        \n",
       "        <tr>\n",
       "          <td>3</td><td>(34.469577844000796, 23.801236575000804, 22.493269215670466, 36.30353663587859, 30.15908378476169, ....</td>\n",
       "        </tr>\n",
       "        \n",
       "        <tr>\n",
       "          <td>4</td><td>(11.962958960835387, 2.8678462504155844, 16.732107615067306, 19.8053668748334, 38.101419988128974, ....</td>\n",
       "        </tr>\n",
       "        \n",
       "        <tr>\n",
       "          <td>5</td><td>(14.924057906996723, 3.9417143564137813, 33.577908365716716, 31.06319213078209, 28.294947117144925, ...</td>\n",
       "        </tr>\n",
       "        \n",
       "        <tr>\n",
       "          <td>6</td><td>(20.118235972094624, 38.71975208824288, 5.099404575142228, 21.866548184702435, 37.593332788928294, ....</td>\n",
       "        </tr>\n",
       "        \n",
       "        <tr>\n",
       "          <td>7</td><td>(14.284308681914052, 22.017129964568536, 15.127847659555623, 32.85289738058235, 7.028509089070236, ....</td>\n",
       "        </tr>\n",
       "        \n",
       "        <tr>\n",
       "          <td>8</td><td>(31.395889877388964, 38.70289884342639, 2.5059328853631735, 0.4550674334292193, 29.83567119146184, ....</td>\n",
       "        </tr>\n",
       "        <tr><td>...</td><td>...</td></tr>\n",
       "        <tr>\n",
       "          <td>9999</td><td>(36.892908417079965, 17.642818267550176, 9.075123058626179, 2.8319418611232194, 21.285515908569124, ...</td>\n",
       "        </tr>\n",
       "        \n",
       "      </tbody>\n",
       "    </table>\n",
       "        "
      ],
      "text/plain": [
       "Index Result\n",
       "0     (32.107975439539, 18.66758338551838, 33.461884143108925, 19.19156731850044, 12.690485512446363, ..., 10.800728535457814)\n",
       "1     (12.734509995135577, 34.44078251243126, 13.727365820664922, 32.40552146948044, 34.91538683785787, ..., 34.31039994030541)\n",
       "2     (17.044433724203138, 20.34710527271358, 13.51182118742285, 37.14689259326107, 38.67487273653738, ..., 39.703396067384176)\n",
       "3     (34.469577844000796, 23.801236575000804, 22.493269215670466, 36.30353663587859, 30.15908378476169, ..., 8.155546217954456)\n",
       "4     (11.962958960835387, 2.8678462504155844, 16.732107615067306, 19.8053668748334, 38.101419988128974, ..., 0.7840850931813392)\n",
       "5     (14.924057906996723, 3.9417143564137813, 33.577908365716716, 31.06319213078209, 28.294947117144925, ..., 35.8889948713989)\n",
       "6     (20.118235972094624, 38.71975208824288, 5.099404575142228, 21.866548184702435, 37.593332788928294, ..., 19.018955929080636)\n",
       "7     (14.284308681914052, 22.017129964568536, 15.127847659555623, 32.85289738058235, 7.028509089070236, ..., 31.301603240059663)\n",
       "8     (31.395889877388964, 38.70289884342639, 2.5059328853631735, 0.4550674334292193, 29.83567119146184, ..., 9.330139155577047)\n",
       "....  ............................................................................................................................\n",
       "9999  (36.892908417079965, 17.642818267550176, 9.075123058626179, 2.8319418611232194, 21.285515908569124, ..., 10.196905303093464)"
      ]
     },
     "execution_count": 7,
     "metadata": {},
     "output_type": "execute_result"
    }
   ],
   "source": [
    "xmatrix"
   ]
  },
  {
   "cell_type": "markdown",
   "id": "cde137ef-a346-4ea1-abd3-d9b442206616",
   "metadata": {},
   "source": [
    "Now we get the mean of each row, so we end up with 10,000 sample means:"
   ]
  },
  {
   "cell_type": "code",
   "execution_count": 8,
   "id": "9de1851b-4f5b-4f45-98cf-0c21843a55c9",
   "metadata": {},
   "outputs": [
    {
     "data": {
      "text/html": [
       "\n",
       "    <table>\n",
       "      <thead>\n",
       "        <th width=\"10%\">Index</th>\n",
       "        <th width=\"90%\">Result</th>\n",
       "      </thead>\n",
       "      <tbody>\n",
       "        \n",
       "        <tr>\n",
       "          <td>0</td><td>20.640900268394567</td>\n",
       "        </tr>\n",
       "        \n",
       "        <tr>\n",
       "          <td>1</td><td>21.547408748230545</td>\n",
       "        </tr>\n",
       "        \n",
       "        <tr>\n",
       "          <td>2</td><td>21.607894704345153</td>\n",
       "        </tr>\n",
       "        \n",
       "        <tr>\n",
       "          <td>3</td><td>23.07858008106873</td>\n",
       "        </tr>\n",
       "        \n",
       "        <tr>\n",
       "          <td>4</td><td>20.84002010861679</td>\n",
       "        </tr>\n",
       "        \n",
       "        <tr>\n",
       "          <td>5</td><td>19.2544330620628</td>\n",
       "        </tr>\n",
       "        \n",
       "        <tr>\n",
       "          <td>6</td><td>18.29635427528473</td>\n",
       "        </tr>\n",
       "        \n",
       "        <tr>\n",
       "          <td>7</td><td>24.719066425259594</td>\n",
       "        </tr>\n",
       "        \n",
       "        <tr>\n",
       "          <td>8</td><td>19.635496644996227</td>\n",
       "        </tr>\n",
       "        <tr><td>...</td><td>...</td></tr>\n",
       "        <tr>\n",
       "          <td>9999</td><td>19.73007699968644</td>\n",
       "        </tr>\n",
       "        \n",
       "      </tbody>\n",
       "    </table>\n",
       "        "
      ],
      "text/plain": [
       "Index Result\n",
       "0     20.640900268394567\n",
       "1     21.547408748230545\n",
       "2     21.607894704345153\n",
       "3     23.07858008106873\n",
       "4     20.84002010861679\n",
       "5     19.2544330620628\n",
       "6     18.29635427528473\n",
       "7     24.719066425259594\n",
       "8     19.635496644996227\n",
       "....  .................\n",
       "9999  19.73007699968644"
      ]
     },
     "execution_count": 8,
     "metadata": {},
     "output_type": "execute_result"
    }
   ],
   "source": [
    "# The 2nd parameter is the mathematical operation applied to each row of the random vector\n",
    "# Simulate 10,000 means of each random vector of 25 uniform distributed numbers: \n",
    "xmean = RV(P,mean).sim(10000)\n",
    "xmean"
   ]
  },
  {
   "cell_type": "markdown",
   "id": "d9943301-23df-49af-a65f-d8a144c94065",
   "metadata": {},
   "source": [
    "Now do a histogram of these sample means that come from a UNIFORM distribution."
   ]
  },
  {
   "cell_type": "code",
   "execution_count": 9,
   "id": "764b4ea5-50d1-4e12-8fe6-8237d6505438",
   "metadata": {},
   "outputs": [
    {
     "data": {
      "image/png": "[encoded data removed]",
      "text/plain": [
       "<Figure size 432x288 with 1 Axes>"
      ]
     },
     "metadata": {
      "needs_background": "light"
     },
     "output_type": "display_data"
    }
   ],
   "source": [
    "plt.clf()\n",
    "xmean.plot()\n",
    "plt.show()"
   ]
  },
  {
   "cell_type": "markdown",
   "id": "1ce479a6-5f26-4004-afa0-bfb03ae35ae4",
   "metadata": {},
   "source": [
    "# 2.2.3 CHALLENGE\n",
    "CALCULATE THE MEAN AND STANDARD DEVIATION OF THE xmean VARIABLE. HOW SIMILAR OR DIFFERENT ARE THESE VALUES FROM THE MEAN AND STANDARD DEVIATION OF x?"
   ]
  },
  {
   "cell_type": "code",
   "execution_count": 10,
   "id": "cd193fb1-e8c3-43ff-86a5-785b0344a131",
   "metadata": {},
   "outputs": [
    {
     "data": {
      "text/plain": [
       "20.014976744799426"
      ]
     },
     "execution_count": 10,
     "metadata": {},
     "output_type": "execute_result"
    }
   ],
   "source": [
    "xmean.mean()"
   ]
  },
  {
   "cell_type": "code",
   "execution_count": 11,
   "id": "6f492b72-298c-42e9-98be-e06d8d154d13",
   "metadata": {},
   "outputs": [
    {
     "data": {
      "text/plain": [
       "2.301550015571358"
      ]
     },
     "execution_count": 11,
     "metadata": {},
     "output_type": "execute_result"
    }
   ],
   "source": [
    "xmean.std()"
   ]
  },
  {
   "cell_type": "code",
   "execution_count": 12,
   "id": "a94668ad-049e-4f20-9bae-e8dd7b01a220",
   "metadata": {},
   "outputs": [
    {
     "data": {
      "image/png": "[encoded data removed]",
      "text/plain": [
       "<Figure size 432x288 with 1 Axes>"
      ]
     },
     "metadata": {
      "needs_background": "light"
     },
     "output_type": "display_data"
    }
   ],
   "source": [
    "plt.clf()\n",
    "xmean.plot()\n",
    "x.plot()\n",
    "plt.show()"
   ]
  },
  {
   "cell_type": "markdown",
   "id": "a3902aa4-9d05-48b1-88c1-3f31d9ec0b0e",
   "metadata": {},
   "source": [
    "# Simulating numbers with the NORMAL probability distribution\n",
    "Let’s simulate a normal distributed variable Y with mean = 20 and standard devation = 10."
   ]
  },
  {
   "cell_type": "code",
   "execution_count": 13,
   "id": "786526ee-c986-4bec-b97f-a935449e6dfd",
   "metadata": {},
   "outputs": [
    {
     "data": {
      "image/png": "[encoded data removed]",
      "text/plain": [
       "<Figure size 432x288 with 1 Axes>"
      ]
     },
     "metadata": {
      "needs_background": "light"
     },
     "output_type": "display_data"
    }
   ],
   "source": [
    "# clear the plot space:\n",
    "plt.clf()\n",
    "# Define the probability type of function as uniform (probability space)\n",
    "P = Normal(mean=20, sd=10)\n",
    "# Define Y as a random variable of the type P (normal)\n",
    "Y =RV(P)\n",
    "# Simulate 10,000 values of Y and save the in the x array: \n",
    "y=Y.sim(10000)\n",
    "y.plot()\n",
    "plt.show()"
   ]
  },
  {
   "cell_type": "markdown",
   "id": "8145c3af-00e5-4fc4-834c-3ba4797bf01d",
   "metadata": {},
   "source": [
    "# 2.2.5 CHALLENGE"
   ]
  },
  {
   "cell_type": "code",
   "execution_count": 14,
   "id": "35adb1b9-1ef6-4a4b-95e4-31832f4e4f59",
   "metadata": {},
   "outputs": [],
   "source": [
    "# Define the probability space P as a vector of 25 normal random numbers:\n",
    "P = Normal(mean=20, sd=10) ** 25\n",
    "# Define RANDOMVECTOR as a vector of 25 random variables in the Probability space P \n",
    "RANDOMVECTOR = RV(P)\n",
    "# Simulate 10,000 random vectors with this distribution and save the in ymatrix: \n",
    "ymatrix=RANDOMVECTOR.sim(10000)"
   ]
  },
  {
   "cell_type": "code",
   "execution_count": 15,
   "id": "abca7ee1-c963-4450-8b59-f1ec4bc0aaa8",
   "metadata": {},
   "outputs": [
    {
     "data": {
      "text/html": [
       "\n",
       "    <table>\n",
       "      <thead>\n",
       "        <th width=\"10%\">Index</th>\n",
       "        <th width=\"90%\">Result</th>\n",
       "      </thead>\n",
       "      <tbody>\n",
       "        \n",
       "        <tr>\n",
       "          <td>0</td><td>(32.0586375536496, 13.80156257603634, 13.024464014816573, 5.6931546897428795, 17.803971518288908, .....</td>\n",
       "        </tr>\n",
       "        \n",
       "        <tr>\n",
       "          <td>1</td><td>(27.562269805380673, 18.60998093619155, 4.738412167375593, 18.801392219871165, 30.907436912784316, ....</td>\n",
       "        </tr>\n",
       "        \n",
       "        <tr>\n",
       "          <td>2</td><td>(13.764979372370238, 4.09223987070153, 4.856533148875556, 16.993166430572444, 17.874978797738326, .....</td>\n",
       "        </tr>\n",
       "        \n",
       "        <tr>\n",
       "          <td>3</td><td>(-5.765316299671255, 20.065817811618544, 18.30839933176203, 10.847992412525516, 26.123955730920443, ...</td>\n",
       "        </tr>\n",
       "        \n",
       "        <tr>\n",
       "          <td>4</td><td>(-1.632321793455965, 18.248363756382446, 7.656540182037832, 38.21632931787788, 15.414038285307349, ....</td>\n",
       "        </tr>\n",
       "        \n",
       "        <tr>\n",
       "          <td>5</td><td>(15.418061931245134, 21.129017568057026, -8.470229569822841, 33.560021367217814, 25.2274234210325, ....</td>\n",
       "        </tr>\n",
       "        \n",
       "        <tr>\n",
       "          <td>6</td><td>(11.500042368121576, 14.691100806853013, 39.13890979768787, 23.30309847968862, 25.146944631299995, ....</td>\n",
       "        </tr>\n",
       "        \n",
       "        <tr>\n",
       "          <td>7</td><td>(7.395294598256061, 34.74461537763713, -2.910039239551434, 35.32979193349804, 13.918147656497496, .....</td>\n",
       "        </tr>\n",
       "        \n",
       "        <tr>\n",
       "          <td>8</td><td>(30.074828104926944, 25.951633122121457, 5.971086263829697, 13.118145317225437, 28.422432498658544, ...</td>\n",
       "        </tr>\n",
       "        <tr><td>...</td><td>...</td></tr>\n",
       "        <tr>\n",
       "          <td>9999</td><td>(18.522352211592064, 9.229488455622757, 32.871499116024545, 28.612059620741512, 4.109464127299017, ....</td>\n",
       "        </tr>\n",
       "        \n",
       "      </tbody>\n",
       "    </table>\n",
       "        "
      ],
      "text/plain": [
       "Index Result\n",
       "0     (32.0586375536496, 13.80156257603634, 13.024464014816573, 5.6931546897428795, 17.803971518288908, ..., 10.617845313281174)\n",
       "1     (27.562269805380673, 18.60998093619155, 4.738412167375593, 18.801392219871165, 30.907436912784316, ..., 21.282815896506634)\n",
       "2     (13.764979372370238, 4.09223987070153, 4.856533148875556, 16.993166430572444, 17.874978797738326, ..., 24.404258673900653)\n",
       "3     (-5.765316299671255, 20.065817811618544, 18.30839933176203, 10.847992412525516, 26.123955730920443, ..., 16.246292567653924)\n",
       "4     (-1.632321793455965, 18.248363756382446, 7.656540182037832, 38.21632931787788, 15.414038285307349, ..., 12.135563493124481)\n",
       "5     (15.418061931245134, 21.129017568057026, -8.470229569822841, 33.560021367217814, 25.2274234210325, ..., 5.308449592441791)\n",
       "6     (11.500042368121576, 14.691100806853013, 39.13890979768787, 23.30309847968862, 25.146944631299995, ..., 21.75531389764231)\n",
       "7     (7.395294598256061, 34.74461537763713, -2.910039239551434, 35.32979193349804, 13.918147656497496, ..., 9.775131986168418)\n",
       "8     (30.074828104926944, 25.951633122121457, 5.971086263829697, 13.118145317225437, 28.422432498658544, ..., 7.143208756343666)\n",
       "....  ...........................................................................................................................\n",
       "9999  (18.522352211592064, 9.229488455622757, 32.871499116024545, 28.612059620741512, 4.109464127299017, ..., 30.491069246184356)"
      ]
     },
     "execution_count": 15,
     "metadata": {},
     "output_type": "execute_result"
    }
   ],
   "source": [
    "ymatrix"
   ]
  },
  {
   "cell_type": "code",
   "execution_count": 16,
   "id": "4255108d-b8e9-40df-87c5-173a467898b9",
   "metadata": {},
   "outputs": [
    {
     "data": {
      "text/html": [
       "\n",
       "    <table>\n",
       "      <thead>\n",
       "        <th width=\"10%\">Index</th>\n",
       "        <th width=\"90%\">Result</th>\n",
       "      </thead>\n",
       "      <tbody>\n",
       "        \n",
       "        <tr>\n",
       "          <td>0</td><td>20.423491995742697</td>\n",
       "        </tr>\n",
       "        \n",
       "        <tr>\n",
       "          <td>1</td><td>21.425911025605583</td>\n",
       "        </tr>\n",
       "        \n",
       "        <tr>\n",
       "          <td>2</td><td>20.25997533772333</td>\n",
       "        </tr>\n",
       "        \n",
       "        <tr>\n",
       "          <td>3</td><td>20.616918462467208</td>\n",
       "        </tr>\n",
       "        \n",
       "        <tr>\n",
       "          <td>4</td><td>19.16397191666714</td>\n",
       "        </tr>\n",
       "        \n",
       "        <tr>\n",
       "          <td>5</td><td>21.421298598830408</td>\n",
       "        </tr>\n",
       "        \n",
       "        <tr>\n",
       "          <td>6</td><td>18.30443019296</td>\n",
       "        </tr>\n",
       "        \n",
       "        <tr>\n",
       "          <td>7</td><td>21.371158330595836</td>\n",
       "        </tr>\n",
       "        \n",
       "        <tr>\n",
       "          <td>8</td><td>15.70184812194825</td>\n",
       "        </tr>\n",
       "        <tr><td>...</td><td>...</td></tr>\n",
       "        <tr>\n",
       "          <td>9999</td><td>19.793766904689118</td>\n",
       "        </tr>\n",
       "        \n",
       "      </tbody>\n",
       "    </table>\n",
       "        "
      ],
      "text/plain": [
       "Index Result\n",
       "0     20.423491995742697\n",
       "1     21.425911025605583\n",
       "2     20.25997533772333\n",
       "3     20.616918462467208\n",
       "4     19.16397191666714\n",
       "5     21.421298598830408\n",
       "6     18.30443019296\n",
       "7     21.371158330595836\n",
       "8     15.70184812194825\n",
       "....  ..................\n",
       "9999  19.793766904689118"
      ]
     },
     "execution_count": 16,
     "metadata": {},
     "output_type": "execute_result"
    }
   ],
   "source": [
    "# The 2nd parameter is the mathematical operation applied to each row of the random vector\n",
    "# Simulate 10,000 means of each random vector of 25 uniform distributed numbers: \n",
    "ymean = RV(P,mean).sim(10000)\n",
    "ymean"
   ]
  },
  {
   "cell_type": "code",
   "execution_count": 17,
   "id": "880e6962-ce5b-4bf2-b10b-79af1987e6f3",
   "metadata": {},
   "outputs": [
    {
     "data": {
      "image/png": "[encoded data removed]",
      "text/plain": [
       "<Figure size 432x288 with 1 Axes>"
      ]
     },
     "metadata": {
      "needs_background": "light"
     },
     "output_type": "display_data"
    }
   ],
   "source": [
    "plt.clf()\n",
    "ymean.plot()\n",
    "plt.show()"
   ]
  },
  {
   "cell_type": "code",
   "execution_count": 18,
   "id": "b003f53c-24ca-456a-a10a-973b5ec62ee5",
   "metadata": {},
   "outputs": [
    {
     "data": {
      "image/png": "[encoded data removed]",
      "text/plain": [
       "<Figure size 432x288 with 1 Axes>"
      ]
     },
     "metadata": {
      "needs_background": "light"
     },
     "output_type": "display_data"
    }
   ],
   "source": [
    "plt.clf()\n",
    "ymean.plot()\n",
    "y.plot()\n",
    "plt.show()"
   ]
  },
  {
   "cell_type": "code",
   "execution_count": null,
   "id": "d53e6b9a-89e7-47d7-853c-753ebb0348a9",
   "metadata": {},
   "outputs": [],
   "source": []
  }
 ],
 "metadata": {
  "kernelspec": {
   "display_name": "Python 3 (ipykernel)",
   "language": "python",
   "name": "python3"
  },
  "language_info": {
   "codemirror_mode": {
    "name": "ipython",
    "version": 3
   },
   "file_extension": ".py",
   "mimetype": "text/x-python",
   "name": "python",
   "nbconvert_exporter": "python",
   "pygments_lexer": "ipython3",
   "version": "3.10.4"
  }
 },
 "nbformat": 4,
 "nbformat_minor": 5
}
