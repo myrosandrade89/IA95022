{
 "cells": [
  {
   "cell_type": "code",
   "execution_count": 1,
   "id": "f05f3247-d930-4645-9768-577f874c13ea",
   "metadata": {},
   "outputs": [],
   "source": [
    "import numpy as np\n",
    "import pandas as pd\n",
    "import pandas_datareader as pdr"
   ]
  },
  {
   "cell_type": "markdown",
   "id": "4c343023-3a78-4752-a158-de29d53d6bc2",
   "metadata": {},
   "source": [
    "# Data management and descriptive statistics"
   ]
  },
  {
   "cell_type": "code",
   "execution_count": 2,
   "id": "c5d594d0-ca60-4446-afd2-092dee8a96dd",
   "metadata": {},
   "outputs": [],
   "source": [
    "BTC = pdr.get_data_yahoo('BTC-USD',\n",
    "start=\"01/01/2017\", interval=\"d\")"
   ]
  },
  {
   "cell_type": "code",
   "execution_count": 3,
   "id": "d8bc3016-c0f9-4e0d-a11a-a640fe6bc25d",
   "metadata": {},
   "outputs": [
    {
     "data": {
      "text/html": [
       "<div>\n",
       "<style scoped>\n",
       "    .dataframe tbody tr th:only-of-type {\n",
       "        vertical-align: middle;\n",
       "    }\n",
       "\n",
       "    .dataframe tbody tr th {\n",
       "        vertical-align: top;\n",
       "    }\n",
       "\n",
       "    .dataframe thead th {\n",
       "        text-align: right;\n",
       "    }\n",
       "</style>\n",
       "<table border=\"1\" class=\"dataframe\">\n",
       "  <thead>\n",
       "    <tr style=\"text-align: right;\">\n",
       "      <th></th>\n",
       "      <th>High</th>\n",
       "      <th>Low</th>\n",
       "      <th>Open</th>\n",
       "      <th>Close</th>\n",
       "      <th>Volume</th>\n",
       "      <th>Adj Close</th>\n",
       "    </tr>\n",
       "    <tr>\n",
       "      <th>Date</th>\n",
       "      <th></th>\n",
       "      <th></th>\n",
       "      <th></th>\n",
       "      <th></th>\n",
       "      <th></th>\n",
       "      <th></th>\n",
       "    </tr>\n",
       "  </thead>\n",
       "  <tbody>\n",
       "    <tr>\n",
       "      <th>2017-01-01</th>\n",
       "      <td>1003.080017</td>\n",
       "      <td>958.698975</td>\n",
       "      <td>963.658020</td>\n",
       "      <td>998.325012</td>\n",
       "      <td>147775008</td>\n",
       "      <td>998.325012</td>\n",
       "    </tr>\n",
       "    <tr>\n",
       "      <th>2017-01-02</th>\n",
       "      <td>1031.390015</td>\n",
       "      <td>996.702026</td>\n",
       "      <td>998.617004</td>\n",
       "      <td>1021.750000</td>\n",
       "      <td>222184992</td>\n",
       "      <td>1021.750000</td>\n",
       "    </tr>\n",
       "    <tr>\n",
       "      <th>2017-01-03</th>\n",
       "      <td>1044.079956</td>\n",
       "      <td>1021.599976</td>\n",
       "      <td>1021.599976</td>\n",
       "      <td>1043.839966</td>\n",
       "      <td>185168000</td>\n",
       "      <td>1043.839966</td>\n",
       "    </tr>\n",
       "    <tr>\n",
       "      <th>2017-01-04</th>\n",
       "      <td>1159.420044</td>\n",
       "      <td>1044.400024</td>\n",
       "      <td>1044.400024</td>\n",
       "      <td>1154.729980</td>\n",
       "      <td>344945984</td>\n",
       "      <td>1154.729980</td>\n",
       "    </tr>\n",
       "    <tr>\n",
       "      <th>2017-01-05</th>\n",
       "      <td>1191.099976</td>\n",
       "      <td>910.416992</td>\n",
       "      <td>1156.729980</td>\n",
       "      <td>1013.380005</td>\n",
       "      <td>510199008</td>\n",
       "      <td>1013.380005</td>\n",
       "    </tr>\n",
       "    <tr>\n",
       "      <th>...</th>\n",
       "      <td>...</td>\n",
       "      <td>...</td>\n",
       "      <td>...</td>\n",
       "      <td>...</td>\n",
       "      <td>...</td>\n",
       "      <td>...</td>\n",
       "    </tr>\n",
       "    <tr>\n",
       "      <th>2022-08-07</th>\n",
       "      <td>23359.009766</td>\n",
       "      <td>22894.556641</td>\n",
       "      <td>22963.505859</td>\n",
       "      <td>23175.890625</td>\n",
       "      <td>15886817043</td>\n",
       "      <td>23175.890625</td>\n",
       "    </tr>\n",
       "    <tr>\n",
       "      <th>2022-08-08</th>\n",
       "      <td>24203.689453</td>\n",
       "      <td>23176.546875</td>\n",
       "      <td>23179.527344</td>\n",
       "      <td>23809.486328</td>\n",
       "      <td>28575544847</td>\n",
       "      <td>23809.486328</td>\n",
       "    </tr>\n",
       "    <tr>\n",
       "      <th>2022-08-09</th>\n",
       "      <td>23898.615234</td>\n",
       "      <td>22982.000000</td>\n",
       "      <td>23811.484375</td>\n",
       "      <td>23164.318359</td>\n",
       "      <td>23555719219</td>\n",
       "      <td>23164.318359</td>\n",
       "    </tr>\n",
       "    <tr>\n",
       "      <th>2022-08-10</th>\n",
       "      <td>24127.414062</td>\n",
       "      <td>22771.519531</td>\n",
       "      <td>23162.898438</td>\n",
       "      <td>23947.642578</td>\n",
       "      <td>32837431722</td>\n",
       "      <td>23947.642578</td>\n",
       "    </tr>\n",
       "    <tr>\n",
       "      <th>2022-08-11</th>\n",
       "      <td>24428.101562</td>\n",
       "      <td>23956.478516</td>\n",
       "      <td>23984.750000</td>\n",
       "      <td>24329.726562</td>\n",
       "      <td>34951909376</td>\n",
       "      <td>24329.726562</td>\n",
       "    </tr>\n",
       "  </tbody>\n",
       "</table>\n",
       "<p>2049 rows × 6 columns</p>\n",
       "</div>"
      ],
      "text/plain": [
       "                    High           Low          Open         Close  \\\n",
       "Date                                                                 \n",
       "2017-01-01   1003.080017    958.698975    963.658020    998.325012   \n",
       "2017-01-02   1031.390015    996.702026    998.617004   1021.750000   \n",
       "2017-01-03   1044.079956   1021.599976   1021.599976   1043.839966   \n",
       "2017-01-04   1159.420044   1044.400024   1044.400024   1154.729980   \n",
       "2017-01-05   1191.099976    910.416992   1156.729980   1013.380005   \n",
       "...                  ...           ...           ...           ...   \n",
       "2022-08-07  23359.009766  22894.556641  22963.505859  23175.890625   \n",
       "2022-08-08  24203.689453  23176.546875  23179.527344  23809.486328   \n",
       "2022-08-09  23898.615234  22982.000000  23811.484375  23164.318359   \n",
       "2022-08-10  24127.414062  22771.519531  23162.898438  23947.642578   \n",
       "2022-08-11  24428.101562  23956.478516  23984.750000  24329.726562   \n",
       "\n",
       "                 Volume     Adj Close  \n",
       "Date                                   \n",
       "2017-01-01    147775008    998.325012  \n",
       "2017-01-02    222184992   1021.750000  \n",
       "2017-01-03    185168000   1043.839966  \n",
       "2017-01-04    344945984   1154.729980  \n",
       "2017-01-05    510199008   1013.380005  \n",
       "...                 ...           ...  \n",
       "2022-08-07  15886817043  23175.890625  \n",
       "2022-08-08  28575544847  23809.486328  \n",
       "2022-08-09  23555719219  23164.318359  \n",
       "2022-08-10  32837431722  23947.642578  \n",
       "2022-08-11  34951909376  24329.726562  \n",
       "\n",
       "[2049 rows x 6 columns]"
      ]
     },
     "execution_count": 3,
     "metadata": {},
     "output_type": "execute_result"
    }
   ],
   "source": [
    "BTC"
   ]
  },
  {
   "cell_type": "code",
   "execution_count": 4,
   "id": "8c68e03c-d172-4741-90e0-4f24204deff2",
   "metadata": {},
   "outputs": [
    {
     "data": {
      "text/html": [
       "<div>\n",
       "<style scoped>\n",
       "    .dataframe tbody tr th:only-of-type {\n",
       "        vertical-align: middle;\n",
       "    }\n",
       "\n",
       "    .dataframe tbody tr th {\n",
       "        vertical-align: top;\n",
       "    }\n",
       "\n",
       "    .dataframe thead th {\n",
       "        text-align: right;\n",
       "    }\n",
       "</style>\n",
       "<table border=\"1\" class=\"dataframe\">\n",
       "  <thead>\n",
       "    <tr style=\"text-align: right;\">\n",
       "      <th></th>\n",
       "      <th>High</th>\n",
       "      <th>Low</th>\n",
       "      <th>Open</th>\n",
       "      <th>Close</th>\n",
       "      <th>Volume</th>\n",
       "      <th>Adj Close</th>\n",
       "    </tr>\n",
       "    <tr>\n",
       "      <th>Date</th>\n",
       "      <th></th>\n",
       "      <th></th>\n",
       "      <th></th>\n",
       "      <th></th>\n",
       "      <th></th>\n",
       "      <th></th>\n",
       "    </tr>\n",
       "  </thead>\n",
       "  <tbody>\n",
       "    <tr>\n",
       "      <th>2022-08-07</th>\n",
       "      <td>23359.009766</td>\n",
       "      <td>22894.556641</td>\n",
       "      <td>22963.505859</td>\n",
       "      <td>23175.890625</td>\n",
       "      <td>15886817043</td>\n",
       "      <td>23175.890625</td>\n",
       "    </tr>\n",
       "    <tr>\n",
       "      <th>2022-08-08</th>\n",
       "      <td>24203.689453</td>\n",
       "      <td>23176.546875</td>\n",
       "      <td>23179.527344</td>\n",
       "      <td>23809.486328</td>\n",
       "      <td>28575544847</td>\n",
       "      <td>23809.486328</td>\n",
       "    </tr>\n",
       "    <tr>\n",
       "      <th>2022-08-09</th>\n",
       "      <td>23898.615234</td>\n",
       "      <td>22982.000000</td>\n",
       "      <td>23811.484375</td>\n",
       "      <td>23164.318359</td>\n",
       "      <td>23555719219</td>\n",
       "      <td>23164.318359</td>\n",
       "    </tr>\n",
       "    <tr>\n",
       "      <th>2022-08-10</th>\n",
       "      <td>24127.414062</td>\n",
       "      <td>22771.519531</td>\n",
       "      <td>23162.898438</td>\n",
       "      <td>23947.642578</td>\n",
       "      <td>32837431722</td>\n",
       "      <td>23947.642578</td>\n",
       "    </tr>\n",
       "    <tr>\n",
       "      <th>2022-08-11</th>\n",
       "      <td>24428.101562</td>\n",
       "      <td>23956.478516</td>\n",
       "      <td>23984.750000</td>\n",
       "      <td>24329.726562</td>\n",
       "      <td>34951909376</td>\n",
       "      <td>24329.726562</td>\n",
       "    </tr>\n",
       "  </tbody>\n",
       "</table>\n",
       "</div>"
      ],
      "text/plain": [
       "                    High           Low          Open         Close  \\\n",
       "Date                                                                 \n",
       "2022-08-07  23359.009766  22894.556641  22963.505859  23175.890625   \n",
       "2022-08-08  24203.689453  23176.546875  23179.527344  23809.486328   \n",
       "2022-08-09  23898.615234  22982.000000  23811.484375  23164.318359   \n",
       "2022-08-10  24127.414062  22771.519531  23162.898438  23947.642578   \n",
       "2022-08-11  24428.101562  23956.478516  23984.750000  24329.726562   \n",
       "\n",
       "                 Volume     Adj Close  \n",
       "Date                                   \n",
       "2022-08-07  15886817043  23175.890625  \n",
       "2022-08-08  28575544847  23809.486328  \n",
       "2022-08-09  23555719219  23164.318359  \n",
       "2022-08-10  32837431722  23947.642578  \n",
       "2022-08-11  34951909376  24329.726562  "
      ]
     },
     "execution_count": 4,
     "metadata": {},
     "output_type": "execute_result"
    }
   ],
   "source": [
    "BTC.tail()"
   ]
  },
  {
   "cell_type": "code",
   "execution_count": 5,
   "id": "ed9200f5-ed7a-4a6a-b76d-dcd7574b47fb",
   "metadata": {},
   "outputs": [
    {
     "data": {
      "image/png": "[encoded data removed]",
      "text/plain": [
       "<Figure size 432x288 with 1 Axes>"
      ]
     },
     "metadata": {
      "needs_background": "light"
     },
     "output_type": "display_data"
    }
   ],
   "source": [
    "import matplotlib\n",
    "from matplotlib.pyplot import*\n",
    "plot(BTC[\"Close\"])\n",
    "show()"
   ]
  },
  {
   "cell_type": "code",
   "execution_count": 6,
   "id": "282971a3-26ad-446d-9093-7fd465b35ab7",
   "metadata": {},
   "outputs": [
    {
     "name": "stdout",
     "output_type": "stream",
     "text": [
      "<class 'pandas.core.frame.DataFrame'>\n",
      "DatetimeIndex: 2049 entries, 2017-01-01 to 2022-08-11\n",
      "Data columns (total 6 columns):\n",
      " #   Column     Non-Null Count  Dtype  \n",
      "---  ------     --------------  -----  \n",
      " 0   High       2049 non-null   float64\n",
      " 1   Low        2049 non-null   float64\n",
      " 2   Open       2049 non-null   float64\n",
      " 3   Close      2049 non-null   float64\n",
      " 4   Volume     2049 non-null   int64  \n",
      " 5   Adj Close  2049 non-null   float64\n",
      "dtypes: float64(5), int64(1)\n",
      "memory usage: 112.1 KB\n"
     ]
    }
   ],
   "source": [
    "BTC.info()"
   ]
  },
  {
   "cell_type": "code",
   "execution_count": 7,
   "id": "0d53056a-6c68-48f6-89d3-fb93c69f13e3",
   "metadata": {},
   "outputs": [
    {
     "name": "stdout",
     "output_type": "stream",
     "text": [
      "Date\n",
      "2017-01-01         NaN\n",
      "2017-01-02    0.023464\n",
      "2017-01-03    0.021620\n",
      "2017-01-04    0.106233\n",
      "2017-01-05   -0.122410\n",
      "                ...   \n",
      "2022-08-07    0.009347\n",
      "2022-08-08    0.027339\n",
      "2022-08-09   -0.027097\n",
      "2022-08-10    0.033816\n",
      "2022-08-11    0.015955\n",
      "Name: R, Length: 2049, dtype: float64\n"
     ]
    }
   ],
   "source": [
    "BTC[\"R\"] = (BTC[\"Close\"] / BTC[\"Close\"].shift(1)) - 1\n",
    "print(BTC[\"R\"])"
   ]
  },
  {
   "cell_type": "code",
   "execution_count": 8,
   "id": "1db98cad-f390-48b0-9865-0f35f1023de9",
   "metadata": {},
   "outputs": [],
   "source": [
    "BTC[\"r\"] = np.log(BTC['Adj Close']) - np.log(BTC['Adj Close'].shift(1))\n",
    "BTCR = BTC[['R','r']].copy()"
   ]
  },
  {
   "cell_type": "code",
   "execution_count": 9,
   "id": "cf2e94a9-8d69-4ccd-8a8f-64e5bab3e4ee",
   "metadata": {},
   "outputs": [],
   "source": [
    "BTC= BTC.dropna()"
   ]
  },
  {
   "cell_type": "code",
   "execution_count": 10,
   "id": "94707614-c4df-42c6-bf2b-fb676b6e1c0e",
   "metadata": {},
   "outputs": [
    {
     "data": {
      "text/plain": [
       "count    2048.000000\n",
       "mean        0.002423\n",
       "std         0.041370\n",
       "min        -0.371695\n",
       "25%        -0.015888\n",
       "50%         0.002220\n",
       "75%         0.020927\n",
       "max         0.252472\n",
       "Name: R, dtype: float64"
      ]
     },
     "execution_count": 10,
     "metadata": {},
     "output_type": "execute_result"
    }
   ],
   "source": [
    "sumret = BTC[\"R\"].describe()\n",
    "sumret"
   ]
  },
  {
   "cell_type": "code",
   "execution_count": 11,
   "id": "8da3f267-6290-4286-b204-73b56e4dda18",
   "metadata": {},
   "outputs": [
    {
     "data": {
      "text/html": [
       "<div>\n",
       "<style scoped>\n",
       "    .dataframe tbody tr th:only-of-type {\n",
       "        vertical-align: middle;\n",
       "    }\n",
       "\n",
       "    .dataframe tbody tr th {\n",
       "        vertical-align: top;\n",
       "    }\n",
       "\n",
       "    .dataframe thead th {\n",
       "        text-align: right;\n",
       "    }\n",
       "</style>\n",
       "<table border=\"1\" class=\"dataframe\">\n",
       "  <thead>\n",
       "    <tr style=\"text-align: right;\">\n",
       "      <th></th>\n",
       "      <th>High</th>\n",
       "      <th>Low</th>\n",
       "      <th>Open</th>\n",
       "      <th>Close</th>\n",
       "      <th>Volume</th>\n",
       "      <th>Adj Close</th>\n",
       "      <th>R</th>\n",
       "      <th>r</th>\n",
       "    </tr>\n",
       "    <tr>\n",
       "      <th>Date</th>\n",
       "      <th></th>\n",
       "      <th></th>\n",
       "      <th></th>\n",
       "      <th></th>\n",
       "      <th></th>\n",
       "      <th></th>\n",
       "      <th></th>\n",
       "      <th></th>\n",
       "    </tr>\n",
       "  </thead>\n",
       "  <tbody>\n",
       "    <tr>\n",
       "      <th>2017-09-14</th>\n",
       "      <td>3920.600098</td>\n",
       "      <td>3153.860107</td>\n",
       "      <td>3875.370117</td>\n",
       "      <td>3154.949951</td>\n",
       "      <td>2716310016</td>\n",
       "      <td>3154.949951</td>\n",
       "      <td>-0.187411</td>\n",
       "      <td>-0.207530</td>\n",
       "    </tr>\n",
       "    <tr>\n",
       "      <th>2018-01-16</th>\n",
       "      <td>13843.099609</td>\n",
       "      <td>10194.900391</td>\n",
       "      <td>13836.099609</td>\n",
       "      <td>11490.500000</td>\n",
       "      <td>18853799936</td>\n",
       "      <td>11490.500000</td>\n",
       "      <td>-0.168548</td>\n",
       "      <td>-0.184582</td>\n",
       "    </tr>\n",
       "    <tr>\n",
       "      <th>2018-02-05</th>\n",
       "      <td>8364.839844</td>\n",
       "      <td>6756.680176</td>\n",
       "      <td>8270.540039</td>\n",
       "      <td>6955.270020</td>\n",
       "      <td>9285289984</td>\n",
       "      <td>6955.270020</td>\n",
       "      <td>-0.159688</td>\n",
       "      <td>-0.173982</td>\n",
       "    </tr>\n",
       "    <tr>\n",
       "      <th>2020-03-12</th>\n",
       "      <td>7929.116211</td>\n",
       "      <td>4860.354004</td>\n",
       "      <td>7913.616211</td>\n",
       "      <td>4970.788086</td>\n",
       "      <td>53980357243</td>\n",
       "      <td>4970.788086</td>\n",
       "      <td>-0.371695</td>\n",
       "      <td>-0.464730</td>\n",
       "    </tr>\n",
       "    <tr>\n",
       "      <th>2022-06-13</th>\n",
       "      <td>26795.589844</td>\n",
       "      <td>22141.257812</td>\n",
       "      <td>26737.578125</td>\n",
       "      <td>22487.388672</td>\n",
       "      <td>68204556440</td>\n",
       "      <td>22487.388672</td>\n",
       "      <td>-0.159747</td>\n",
       "      <td>-0.174053</td>\n",
       "    </tr>\n",
       "  </tbody>\n",
       "</table>\n",
       "</div>"
      ],
      "text/plain": [
       "                    High           Low          Open         Close  \\\n",
       "Date                                                                 \n",
       "2017-09-14   3920.600098   3153.860107   3875.370117   3154.949951   \n",
       "2018-01-16  13843.099609  10194.900391  13836.099609  11490.500000   \n",
       "2018-02-05   8364.839844   6756.680176   8270.540039   6955.270020   \n",
       "2020-03-12   7929.116211   4860.354004   7913.616211   4970.788086   \n",
       "2022-06-13  26795.589844  22141.257812  26737.578125  22487.388672   \n",
       "\n",
       "                 Volume     Adj Close         R         r  \n",
       "Date                                                       \n",
       "2017-09-14   2716310016   3154.949951 -0.187411 -0.207530  \n",
       "2018-01-16  18853799936  11490.500000 -0.168548 -0.184582  \n",
       "2018-02-05   9285289984   6955.270020 -0.159688 -0.173982  \n",
       "2020-03-12  53980357243   4970.788086 -0.371695 -0.464730  \n",
       "2022-06-13  68204556440  22487.388672 -0.159747 -0.174053  "
      ]
     },
     "execution_count": 11,
     "metadata": {},
     "output_type": "execute_result"
    }
   ],
   "source": [
    "BTC[BTC[\"R\"]<-0.15]"
   ]
  },
  {
   "cell_type": "code",
   "execution_count": 12,
   "id": "864ff688-d0f5-469b-ac11-6f0f7271a847",
   "metadata": {},
   "outputs": [
    {
     "data": {
      "text/html": [
       "<div>\n",
       "<style scoped>\n",
       "    .dataframe tbody tr th:only-of-type {\n",
       "        vertical-align: middle;\n",
       "    }\n",
       "\n",
       "    .dataframe tbody tr th {\n",
       "        vertical-align: top;\n",
       "    }\n",
       "\n",
       "    .dataframe thead th {\n",
       "        text-align: right;\n",
       "    }\n",
       "</style>\n",
       "<table border=\"1\" class=\"dataframe\">\n",
       "  <thead>\n",
       "    <tr style=\"text-align: right;\">\n",
       "      <th></th>\n",
       "      <th>High</th>\n",
       "      <th>Low</th>\n",
       "      <th>Open</th>\n",
       "      <th>Close</th>\n",
       "      <th>Volume</th>\n",
       "      <th>Adj Close</th>\n",
       "      <th>R</th>\n",
       "      <th>r</th>\n",
       "    </tr>\n",
       "    <tr>\n",
       "      <th>Date</th>\n",
       "      <th></th>\n",
       "      <th></th>\n",
       "      <th></th>\n",
       "      <th></th>\n",
       "      <th></th>\n",
       "      <th></th>\n",
       "      <th></th>\n",
       "      <th></th>\n",
       "    </tr>\n",
       "  </thead>\n",
       "  <tbody>\n",
       "    <tr>\n",
       "      <th>2017-12-07</th>\n",
       "      <td>17899.699219</td>\n",
       "      <td>14057.299805</td>\n",
       "      <td>14266.099609</td>\n",
       "      <td>17899.699219</td>\n",
       "      <td>17950699520</td>\n",
       "      <td>17899.699219</td>\n",
       "      <td>0.252472</td>\n",
       "      <td>0.225119</td>\n",
       "    </tr>\n",
       "    <tr>\n",
       "      <th>2017-07-20</th>\n",
       "      <td>2900.699951</td>\n",
       "      <td>2269.889893</td>\n",
       "      <td>2269.889893</td>\n",
       "      <td>2817.600098</td>\n",
       "      <td>2249260032</td>\n",
       "      <td>2817.600098</td>\n",
       "      <td>0.239361</td>\n",
       "      <td>0.214596</td>\n",
       "    </tr>\n",
       "    <tr>\n",
       "      <th>2017-12-06</th>\n",
       "      <td>14369.099609</td>\n",
       "      <td>11923.400391</td>\n",
       "      <td>11923.400391</td>\n",
       "      <td>14291.500000</td>\n",
       "      <td>12656300032</td>\n",
       "      <td>14291.500000</td>\n",
       "      <td>0.199283</td>\n",
       "      <td>0.181724</td>\n",
       "    </tr>\n",
       "    <tr>\n",
       "      <th>2021-02-08</th>\n",
       "      <td>46203.929688</td>\n",
       "      <td>38076.324219</td>\n",
       "      <td>38886.828125</td>\n",
       "      <td>46196.464844</td>\n",
       "      <td>101467222687</td>\n",
       "      <td>46196.464844</td>\n",
       "      <td>0.187465</td>\n",
       "      <td>0.171821</td>\n",
       "    </tr>\n",
       "    <tr>\n",
       "      <th>2020-03-19</th>\n",
       "      <td>6329.735840</td>\n",
       "      <td>5236.968750</td>\n",
       "      <td>5245.416504</td>\n",
       "      <td>6191.192871</td>\n",
       "      <td>51000731797</td>\n",
       "      <td>6191.192871</td>\n",
       "      <td>0.181878</td>\n",
       "      <td>0.167104</td>\n",
       "    </tr>\n",
       "    <tr>\n",
       "      <th>2019-04-02</th>\n",
       "      <td>4905.954590</td>\n",
       "      <td>4155.316895</td>\n",
       "      <td>4156.919434</td>\n",
       "      <td>4879.877930</td>\n",
       "      <td>21315047816</td>\n",
       "      <td>4879.877930</td>\n",
       "      <td>0.173560</td>\n",
       "      <td>0.160042</td>\n",
       "    </tr>\n",
       "    <tr>\n",
       "      <th>2019-10-25</th>\n",
       "      <td>8691.540039</td>\n",
       "      <td>7479.984375</td>\n",
       "      <td>7490.703125</td>\n",
       "      <td>8660.700195</td>\n",
       "      <td>28705065488</td>\n",
       "      <td>8660.700195</td>\n",
       "      <td>0.155763</td>\n",
       "      <td>0.144761</td>\n",
       "    </tr>\n",
       "    <tr>\n",
       "      <th>2017-07-17</th>\n",
       "      <td>2230.489990</td>\n",
       "      <td>1932.619995</td>\n",
       "      <td>1932.619995</td>\n",
       "      <td>2228.409912</td>\n",
       "      <td>1201760000</td>\n",
       "      <td>2228.409912</td>\n",
       "      <td>0.154724</td>\n",
       "      <td>0.143862</td>\n",
       "    </tr>\n",
       "    <tr>\n",
       "      <th>2017-09-15</th>\n",
       "      <td>3733.449951</td>\n",
       "      <td>2946.620117</td>\n",
       "      <td>3166.300049</td>\n",
       "      <td>3637.520020</td>\n",
       "      <td>4148069888</td>\n",
       "      <td>3637.520020</td>\n",
       "      <td>0.152956</td>\n",
       "      <td>0.142330</td>\n",
       "    </tr>\n",
       "  </tbody>\n",
       "</table>\n",
       "</div>"
      ],
      "text/plain": [
       "                    High           Low          Open         Close  \\\n",
       "Date                                                                 \n",
       "2017-12-07  17899.699219  14057.299805  14266.099609  17899.699219   \n",
       "2017-07-20   2900.699951   2269.889893   2269.889893   2817.600098   \n",
       "2017-12-06  14369.099609  11923.400391  11923.400391  14291.500000   \n",
       "2021-02-08  46203.929688  38076.324219  38886.828125  46196.464844   \n",
       "2020-03-19   6329.735840   5236.968750   5245.416504   6191.192871   \n",
       "2019-04-02   4905.954590   4155.316895   4156.919434   4879.877930   \n",
       "2019-10-25   8691.540039   7479.984375   7490.703125   8660.700195   \n",
       "2017-07-17   2230.489990   1932.619995   1932.619995   2228.409912   \n",
       "2017-09-15   3733.449951   2946.620117   3166.300049   3637.520020   \n",
       "\n",
       "                  Volume     Adj Close         R         r  \n",
       "Date                                                        \n",
       "2017-12-07   17950699520  17899.699219  0.252472  0.225119  \n",
       "2017-07-20    2249260032   2817.600098  0.239361  0.214596  \n",
       "2017-12-06   12656300032  14291.500000  0.199283  0.181724  \n",
       "2021-02-08  101467222687  46196.464844  0.187465  0.171821  \n",
       "2020-03-19   51000731797   6191.192871  0.181878  0.167104  \n",
       "2019-04-02   21315047816   4879.877930  0.173560  0.160042  \n",
       "2019-10-25   28705065488   8660.700195  0.155763  0.144761  \n",
       "2017-07-17    1201760000   2228.409912  0.154724  0.143862  \n",
       "2017-09-15    4148069888   3637.520020  0.152956  0.142330  "
      ]
     },
     "execution_count": 12,
     "metadata": {},
     "output_type": "execute_result"
    }
   ],
   "source": [
    "BTC[BTC[\"R\"]>0.15].sort_values(by=['R'], ascending=False)"
   ]
  },
  {
   "cell_type": "code",
   "execution_count": 13,
   "id": "5b98db21-9b2e-40a8-8762-7cddda50b813",
   "metadata": {},
   "outputs": [
    {
     "name": "stdout",
     "output_type": "stream",
     "text": [
      "The daily average return of Bitcoin is  0.0015592652881780407\n",
      "The daily variance of Bitcoin is  0.0017373483802436793\n",
      "The daily standard deviation (volatility) of Bitcoin return is  0.04168151125191695\n",
      "The daily median return of Bitcoin is  0.0022173493980961467\n"
     ]
    }
   ],
   "source": [
    "print(\"The daily average return of Bitcoin is \", BTC[\"r\"].mean())\n",
    "print(\"The daily variance of Bitcoin is \", BTC[\"r\"].var())\n",
    "print(\"The daily standard deviation (volatility) of Bitcoin return is \", BTC[\"r\"].std())\n",
    "print(\"The daily median return of Bitcoin is \",BTC[\"r\"].median())"
   ]
  },
  {
   "cell_type": "markdown",
   "id": "facb7c06-17bc-4421-951f-21267ceb4828",
   "metadata": {},
   "source": [
    "# Challenge: Histogram"
   ]
  },
  {
   "cell_type": "code",
   "execution_count": 14,
   "id": "78470148-9b5b-4130-af8c-2cf7ec0cd67b",
   "metadata": {},
   "outputs": [
    {
     "data": {
      "image/png": "[encoded data removed]",
      "text/plain": [
       "<Figure size 432x288 with 1 Axes>"
      ]
     },
     "metadata": {
      "needs_background": "light"
     },
     "output_type": "display_data"
    }
   ],
   "source": [
    "r_bitcoin = pd.DataFrame(BTC[[\"R\"]])\n",
    "hist=r_bitcoin.plot.hist(bins=12,alpha=0.5,title=\"Histogram of daily Bitcoin Returns\")"
   ]
  },
  {
   "cell_type": "markdown",
   "id": "46f46ecd-c8fa-4f8b-a842-fd5e96d2574a",
   "metadata": {
    "tags": []
   },
   "source": [
    "# Challenge Normal Distribution"
   ]
  },
  {
   "cell_type": "markdown",
   "id": "a3e4e8c2-15ce-426c-b605-597545a58aab",
   "metadata": {},
   "source": [
    "We know that the column \"r\" of BTC cotains the historical cc returns of Bitcoin. \n",
    "We use the function random.normal to simulate random returns given the mean, standard deviation and size."
   ]
  },
  {
   "cell_type": "code",
   "execution_count": 40,
   "id": "28bec4e5-c586-4a93-b3a3-cb600d441339",
   "metadata": {},
   "outputs": [
    {
     "name": "stdout",
     "output_type": "stream",
     "text": [
      "[-0.03228258 -0.04825458  0.02707137 ... -0.00301276  0.02008491\n",
      " -0.02381526]\n"
     ]
    }
   ],
   "source": [
    "gen_values = np.random.normal(BTC[\"r\"].mean(), BTC[\"r\"].std(), BTC[\"r\"].count())\n",
    "print(gen_values)"
   ]
  },
  {
   "cell_type": "code",
   "execution_count": 41,
   "id": "0347ce32-bcf6-4226-8e1e-f1909b3d626c",
   "metadata": {},
   "outputs": [
    {
     "data": {
      "image/png": "[encoded data removed]",
      "text/plain": [
       "<Figure size 432x288 with 1 Axes>"
      ]
     },
     "metadata": {
      "needs_background": "light"
     },
     "output_type": "display_data"
    }
   ],
   "source": [
    "#Showing the real distribution of historical cc returns and simulated normal distribution\n",
    "sim_bitcoin = pd.DataFrame(gen_values)\n",
    "matplotlib.pyplot.hist(x= r_bitcoin, bins=90,alpha=0.5,range=(-0.4, 0.4),label=\"Real\")\n",
    "matplotlib.pyplot.hist(x=sim_bitcoin,bins=90,alpha=0.5,range=(-0.4, 0.4),label=\"Simulated\")\n",
    "matplotlib.pyplot.legend(loc='upper right')\n",
    "matplotlib.pyplot.show()"
   ]
  },
  {
   "cell_type": "code",
   "execution_count": null,
   "id": "363e2acb-12a5-4732-89ab-efa54a17de13",
   "metadata": {},
   "outputs": [],
   "source": []
  }
 ],
 "metadata": {
  "kernelspec": {
   "display_name": "Python 3 (ipykernel)",
   "language": "python",
   "name": "python3"
  },
  "language_info": {
   "codemirror_mode": {
    "name": "ipython",
    "version": 3
   },
   "file_extension": ".py",
   "mimetype": "text/x-python",
   "name": "python",
   "nbconvert_exporter": "python",
   "pygments_lexer": "ipython3",
   "version": "3.10.4"
  }
 },
 "nbformat": 4,
 "nbformat_minor": 5
}
